{
 "cells": [
  {
   "cell_type": "code",
   "execution_count": 56,
   "metadata": {},
   "outputs": [
    {
     "data": {
      "image/png": "[encoded data removed]",
      "text/plain": [
       "<Figure size 500x500 with 1 Axes>"
      ]
     },
     "metadata": {},
     "output_type": "display_data"
    }
   ],
   "source": [
    "# reference: https://github.com/cacrespo/pylexis\n",
    "\n",
    "import matplotlib.pyplot as plt\n",
    "\n",
    "\n",
    "__doc__ = \"\"\"\n",
    "PyLexis - A tool to easily plot Lexis Diagrams within Python.\n",
    "=====================================================================\n",
    "\n",
    "In demography a Lexis diagram (named after economist and social\n",
    "scientist Wilhelm Lexis) is a two dimensional diagram that is used to\n",
    "represent events (such as births or deaths) that occur to individuals\n",
    "belonging to different cohorts.\n",
    "\"\"\"\n",
    "\n",
    "\"\"\"Common functionality for inputs.\"\"\"\n",
    "\n",
    "\n",
    "def check_range_grid(start, end, input):\n",
    "    \"\"\"Validates that the input value are between the maximum and minimum\n",
    "    possible.\"\"\"\n",
    "    if start <= input <= end:\n",
    "        return\n",
    "    else:\n",
    "        message = f\"\"\"Invalid Data\n",
    "            Range of allowed grid values: {start} to {end}\n",
    "            Value: {input}\"\"\"\n",
    "        raise ValueError(message)\n",
    "\n",
    "\n",
    "\n",
    "class Diagram():\n",
    "    \"\"\" Basic Lexis Diagram \"\"\"\n",
    "\n",
    "    def __init__(self,\n",
    "                 year_start: int, year_end: int,\n",
    "                 age_start: int, age_end: int):\n",
    "\n",
    "        self.year_start = year_start\n",
    "        self.year_end = year_end\n",
    "        self.age_end = age_end\n",
    "        self.age_start = age_start\n",
    "\n",
    "        self.fig, self.ax = plt.subplots(figsize=(year_end - year_start,\n",
    "                                                  age_end - age_start))\n",
    "        self.ax.set(xlim=(year_start, year_end),\n",
    "                    xticks=range(year_start, year_end+1),\n",
    "                    ylim=(age_start, age_end),\n",
    "                    yticks=range(age_start, age_end+1))\n",
    "\n",
    "        plt.grid()\n",
    "\n",
    "        self.titles()\n",
    "\n",
    "        for i in range(year_start - age_end, year_end):\n",
    "            plt.axline((i, age_start),\n",
    "                       (i + 1, age_start + 1),\n",
    "                       linewidth=0.3, color='gray')\n",
    "\n",
    "        \n",
    "\n",
    "\n",
    "    def titles(self, x_label=\"Year\", y_label=\"Age\", title=\"Lexis Diagram\"):\n",
    "        \"\"\"\n",
    "        Add title and x, y axis labels\n",
    "        \"\"\"\n",
    "\n",
    "        plt.xlabel(x_label)\n",
    "        plt.ylabel(y_label)\n",
    "        plt.title(title)\n",
    "\n",
    "    def lexis_fill(self, target: str, value: int, color: str):\n",
    "        \"\"\"\n",
    "        Highlight a certain age, year or cohort in the grid.\n",
    "\n",
    "        :param target: Set \"age\", \"year\" or \"cohort\".\n",
    "        :param value: This is the value of the *target* selected.\n",
    "        :param color: Color to fill.\n",
    "        \"\"\"\n",
    "\n",
    "        if target == 'age':\n",
    "            self.ax.axhspan(value, value + 1, alpha=0.5, color=color)\n",
    "\n",
    "        if target == 'year':\n",
    "            self.ax.axvspan(value, value + 1, alpha=0.5, color=color)\n",
    "\n",
    "        ###########seems it doesn't work\n",
    "        if target == 'cohort':\n",
    "            _range = self.year_end - value\n",
    "            '''self.ax.fill_between((value, self.year_end),\n",
    "                                 (self.age_start, _range),\n",
    "                                 (self.age_start - 1, _range - 1),\n",
    "                                 color=color, alpha=0.2)'''\n",
    "\n",
    "    def add_default(self,age: int, year: int, value: int):\n",
    "        plt.text(year + 0.5,\n",
    "            age + 0.3,\n",
    "            value,\n",
    "            fontsize=12)\n",
    "\n",
    "    def save(self,path:str):\n",
    "        plt.savefig(path)\n",
    "\n",
    "\n",
    "\n",
    "d = Diagram(1900, 1905, 0, 5)\n",
    "d.lexis_fill(\"cohort\",value=1903,color=\"yellow\")\n",
    "d.add_default(2,1903,4)"
   ]
  },
  {
   "cell_type": "code",
   "execution_count": 3,
   "metadata": {},
   "outputs": [
    {
     "ename": "ValueError",
     "evalue": "Mime type rendering requires nbformat>=4.2.0 but it is not installed",
     "output_type": "error",
     "traceback": [
      "\u001b[1;31m---------------------------------------------------------------------------\u001b[0m",
      "\u001b[1;31mValueError\u001b[0m                                Traceback (most recent call last)",
      "File \u001b[1;32m~\\AppData\\Roaming\\Python\\Python39\\site-packages\\IPython\\core\\formatters.py:921\u001b[0m, in \u001b[0;36mIPythonDisplayFormatter.__call__\u001b[1;34m(self, obj)\u001b[0m\n\u001b[0;32m    919\u001b[0m method \u001b[39m=\u001b[39m get_real_method(obj, \u001b[39mself\u001b[39m\u001b[39m.\u001b[39mprint_method)\n\u001b[0;32m    920\u001b[0m \u001b[39mif\u001b[39;00m method \u001b[39mis\u001b[39;00m \u001b[39mnot\u001b[39;00m \u001b[39mNone\u001b[39;00m:\n\u001b[1;32m--> 921\u001b[0m     method()\n\u001b[0;32m    922\u001b[0m     \u001b[39mreturn\u001b[39;00m \u001b[39mTrue\u001b[39;00m\n",
      "File \u001b[1;32mc:\\Users\\86151\\AppData\\Local\\Programs\\Python\\Python39\\lib\\site-packages\\plotly\\basedatatypes.py:842\u001b[0m, in \u001b[0;36mBaseFigure._ipython_display_\u001b[1;34m(self)\u001b[0m\n\u001b[0;32m    839\u001b[0m \u001b[39mimport\u001b[39;00m \u001b[39mplotly\u001b[39;00m\u001b[39m.\u001b[39;00m\u001b[39mio\u001b[39;00m \u001b[39mas\u001b[39;00m \u001b[39mpio\u001b[39;00m\n\u001b[0;32m    841\u001b[0m \u001b[39mif\u001b[39;00m pio\u001b[39m.\u001b[39mrenderers\u001b[39m.\u001b[39mrender_on_display \u001b[39mand\u001b[39;00m pio\u001b[39m.\u001b[39mrenderers\u001b[39m.\u001b[39mdefault:\n\u001b[1;32m--> 842\u001b[0m     pio\u001b[39m.\u001b[39;49mshow(\u001b[39mself\u001b[39;49m)\n\u001b[0;32m    843\u001b[0m \u001b[39melse\u001b[39;00m:\n\u001b[0;32m    844\u001b[0m     \u001b[39mprint\u001b[39m(\u001b[39mrepr\u001b[39m(\u001b[39mself\u001b[39m))\n",
      "File \u001b[1;32mc:\\Users\\86151\\AppData\\Local\\Programs\\Python\\Python39\\lib\\site-packages\\plotly\\io\\_renderers.py:396\u001b[0m, in \u001b[0;36mshow\u001b[1;34m(fig, renderer, validate, **kwargs)\u001b[0m\n\u001b[0;32m    391\u001b[0m         \u001b[39mraise\u001b[39;00m \u001b[39mValueError\u001b[39;00m(\n\u001b[0;32m    392\u001b[0m             \u001b[39m\"\u001b[39m\u001b[39mMime type rendering requires ipython but it is not installed\u001b[39m\u001b[39m\"\u001b[39m\n\u001b[0;32m    393\u001b[0m         )\n\u001b[0;32m    395\u001b[0m     \u001b[39mif\u001b[39;00m \u001b[39mnot\u001b[39;00m nbformat \u001b[39mor\u001b[39;00m LooseVersion(nbformat\u001b[39m.\u001b[39m__version__) \u001b[39m<\u001b[39m LooseVersion(\u001b[39m\"\u001b[39m\u001b[39m4.2.0\u001b[39m\u001b[39m\"\u001b[39m):\n\u001b[1;32m--> 396\u001b[0m         \u001b[39mraise\u001b[39;00m \u001b[39mValueError\u001b[39;00m(\n\u001b[0;32m    397\u001b[0m             \u001b[39m\"\u001b[39m\u001b[39mMime type rendering requires nbformat>=4.2.0 but it is not installed\u001b[39m\u001b[39m\"\u001b[39m\n\u001b[0;32m    398\u001b[0m         )\n\u001b[0;32m    400\u001b[0m     ipython_display\u001b[39m.\u001b[39mdisplay(bundle, raw\u001b[39m=\u001b[39m\u001b[39mTrue\u001b[39;00m)\n\u001b[0;32m    402\u001b[0m \u001b[39m# external renderers\u001b[39;00m\n",
      "\u001b[1;31mValueError\u001b[0m: Mime type rendering requires nbformat>=4.2.0 but it is not installed"
     ]
    },
    {
     "data": {
      "application/vnd.plotly.v1+json": {
       "config": {
        "plotlyServerURL": "https://plot.ly"
       },
       "data": [
        {
         "colorscale": [
          [
           0,
           "#440154"
          ],
          [
           0.1111111111111111,
           "#482878"
          ],
          [
           0.2222222222222222,
           "#3e4989"
          ],
          [
           0.3333333333333333,
           "#31688e"
          ],
          [
           0.4444444444444444,
           "#26828e"
          ],
          [
           0.5555555555555556,
           "#1f9e89"
          ],
          [
           0.6666666666666666,
           "#35b779"
          ],
          [
           0.7777777777777778,
           "#6ece58"
          ],
          [
           0.8888888888888888,
           "#b5de2b"
          ],
          [
           1,
           "#fde725"
          ]
         ],
         "type": "heatmap",
         "x": [
          "2022-10-29T21:06:11.920648",
          "2022-10-28T21:06:11.920648",
          "2022-10-27T21:06:11.920648",
          "2022-10-26T21:06:11.920648",
          "2022-10-25T21:06:11.920648",
          "2022-10-24T21:06:11.920648",
          "2022-10-23T21:06:11.920648",
          "2022-10-22T21:06:11.920648",
          "2022-10-21T21:06:11.920648",
          "2022-10-20T21:06:11.920648",
          "2022-10-19T21:06:11.920648",
          "2022-10-18T21:06:11.920648",
          "2022-10-17T21:06:11.920648",
          "2022-10-16T21:06:11.920648",
          "2022-10-15T21:06:11.920648",
          "2022-10-14T21:06:11.920648",
          "2022-10-13T21:06:11.920648",
          "2022-10-12T21:06:11.920648",
          "2022-10-11T21:06:11.920648",
          "2022-10-10T21:06:11.920648",
          "2022-10-09T21:06:11.920648",
          "2022-10-08T21:06:11.920648",
          "2022-10-07T21:06:11.920648",
          "2022-10-06T21:06:11.920648",
          "2022-10-05T21:06:11.920648",
          "2022-10-04T21:06:11.920648",
          "2022-10-03T21:06:11.920648",
          "2022-10-02T21:06:11.920648",
          "2022-10-01T21:06:11.920648",
          "2022-09-30T21:06:11.920648",
          "2022-09-29T21:06:11.920648",
          "2022-09-28T21:06:11.920648",
          "2022-09-27T21:06:11.920648",
          "2022-09-26T21:06:11.920648",
          "2022-09-25T21:06:11.920648",
          "2022-09-24T21:06:11.920648",
          "2022-09-23T21:06:11.920648",
          "2022-09-22T21:06:11.920648",
          "2022-09-21T21:06:11.920648",
          "2022-09-20T21:06:11.920648",
          "2022-09-19T21:06:11.920648",
          "2022-09-18T21:06:11.920648",
          "2022-09-17T21:06:11.920648",
          "2022-09-16T21:06:11.920648",
          "2022-09-15T21:06:11.920648",
          "2022-09-14T21:06:11.920648",
          "2022-09-13T21:06:11.920648",
          "2022-09-12T21:06:11.920648",
          "2022-09-11T21:06:11.920648",
          "2022-09-10T21:06:11.920648",
          "2022-09-09T21:06:11.920648",
          "2022-09-08T21:06:11.920648",
          "2022-09-07T21:06:11.920648",
          "2022-09-06T21:06:11.920648",
          "2022-09-05T21:06:11.920648",
          "2022-09-04T21:06:11.920648",
          "2022-09-03T21:06:11.920648",
          "2022-09-02T21:06:11.920648",
          "2022-09-01T21:06:11.920648",
          "2022-08-31T21:06:11.920648",
          "2022-08-30T21:06:11.920648",
          "2022-08-29T21:06:11.920648",
          "2022-08-28T21:06:11.920648",
          "2022-08-27T21:06:11.920648",
          "2022-08-26T21:06:11.920648",
          "2022-08-25T21:06:11.920648",
          "2022-08-24T21:06:11.920648",
          "2022-08-23T21:06:11.920648",
          "2022-08-22T21:06:11.920648",
          "2022-08-21T21:06:11.920648",
          "2022-08-20T21:06:11.920648",
          "2022-08-19T21:06:11.920648",
          "2022-08-18T21:06:11.920648",
          "2022-08-17T21:06:11.920648",
          "2022-08-16T21:06:11.920648",
          "2022-08-15T21:06:11.920648",
          "2022-08-14T21:06:11.920648",
          "2022-08-13T21:06:11.920648",
          "2022-08-12T21:06:11.920648",
          "2022-08-11T21:06:11.920648",
          "2022-08-10T21:06:11.920648",
          "2022-08-09T21:06:11.920648",
          "2022-08-08T21:06:11.920648",
          "2022-08-07T21:06:11.920648",
          "2022-08-06T21:06:11.920648",
          "2022-08-05T21:06:11.920648",
          "2022-08-04T21:06:11.920648",
          "2022-08-03T21:06:11.920648",
          "2022-08-02T21:06:11.920648",
          "2022-08-01T21:06:11.920648",
          "2022-07-31T21:06:11.920648",
          "2022-07-30T21:06:11.920648",
          "2022-07-29T21:06:11.920648",
          "2022-07-28T21:06:11.920648",
          "2022-07-27T21:06:11.920648",
          "2022-07-26T21:06:11.920648",
          "2022-07-25T21:06:11.920648",
          "2022-07-24T21:06:11.920648",
          "2022-07-23T21:06:11.920648",
          "2022-07-22T21:06:11.920648",
          "2022-07-21T21:06:11.920648",
          "2022-07-20T21:06:11.920648",
          "2022-07-19T21:06:11.920648",
          "2022-07-18T21:06:11.920648",
          "2022-07-17T21:06:11.920648",
          "2022-07-16T21:06:11.920648",
          "2022-07-15T21:06:11.920648",
          "2022-07-14T21:06:11.920648",
          "2022-07-13T21:06:11.920648",
          "2022-07-12T21:06:11.920648",
          "2022-07-11T21:06:11.920648",
          "2022-07-10T21:06:11.920648",
          "2022-07-09T21:06:11.920648",
          "2022-07-08T21:06:11.920648",
          "2022-07-07T21:06:11.920648",
          "2022-07-06T21:06:11.920648",
          "2022-07-05T21:06:11.920648",
          "2022-07-04T21:06:11.920648",
          "2022-07-03T21:06:11.920648",
          "2022-07-02T21:06:11.920648",
          "2022-07-01T21:06:11.920648",
          "2022-06-30T21:06:11.920648",
          "2022-06-29T21:06:11.920648",
          "2022-06-28T21:06:11.920648",
          "2022-06-27T21:06:11.920648",
          "2022-06-26T21:06:11.920648",
          "2022-06-25T21:06:11.920648",
          "2022-06-24T21:06:11.920648",
          "2022-06-23T21:06:11.920648",
          "2022-06-22T21:06:11.920648",
          "2022-06-21T21:06:11.920648",
          "2022-06-20T21:06:11.920648",
          "2022-06-19T21:06:11.920648",
          "2022-06-18T21:06:11.920648",
          "2022-06-17T21:06:11.920648",
          "2022-06-16T21:06:11.920648",
          "2022-06-15T21:06:11.920648",
          "2022-06-14T21:06:11.920648",
          "2022-06-13T21:06:11.920648",
          "2022-06-12T21:06:11.920648",
          "2022-06-11T21:06:11.920648",
          "2022-06-10T21:06:11.920648",
          "2022-06-09T21:06:11.920648",
          "2022-06-08T21:06:11.920648",
          "2022-06-07T21:06:11.920648",
          "2022-06-06T21:06:11.920648",
          "2022-06-05T21:06:11.920648",
          "2022-06-04T21:06:11.920648",
          "2022-06-03T21:06:11.920648",
          "2022-06-02T21:06:11.920648",
          "2022-06-01T21:06:11.920648",
          "2022-05-31T21:06:11.920648",
          "2022-05-30T21:06:11.920648",
          "2022-05-29T21:06:11.920648",
          "2022-05-28T21:06:11.920648",
          "2022-05-27T21:06:11.920648",
          "2022-05-26T21:06:11.920648",
          "2022-05-25T21:06:11.920648",
          "2022-05-24T21:06:11.920648",
          "2022-05-23T21:06:11.920648",
          "2022-05-22T21:06:11.920648",
          "2022-05-21T21:06:11.920648",
          "2022-05-20T21:06:11.920648",
          "2022-05-19T21:06:11.920648",
          "2022-05-18T21:06:11.920648",
          "2022-05-17T21:06:11.920648",
          "2022-05-16T21:06:11.920648",
          "2022-05-15T21:06:11.920648",
          "2022-05-14T21:06:11.920648",
          "2022-05-13T21:06:11.920648",
          "2022-05-12T21:06:11.920648",
          "2022-05-11T21:06:11.920648",
          "2022-05-10T21:06:11.920648",
          "2022-05-09T21:06:11.920648",
          "2022-05-08T21:06:11.920648",
          "2022-05-07T21:06:11.920648",
          "2022-05-06T21:06:11.920648",
          "2022-05-05T21:06:11.920648",
          "2022-05-04T21:06:11.920648",
          "2022-05-03T21:06:11.920648"
         ],
         "y": [
          "Alex",
          "Nicole",
          "Sara",
          "Etienne",
          "Chelsea",
          "Jody",
          "Marianne"
         ],
         "z": [
          [
           1,
           0,
           0,
           0,
           0,
           0,
           0,
           1,
           1,
           0,
           1,
           1,
           1,
           0,
           2,
           3,
           0,
           0,
           1,
           2,
           1,
           2,
           3,
           1,
           2,
           0,
           0,
           0,
           1,
           0,
           1,
           1,
           2,
           1,
           1,
           1,
           2,
           1,
           0,
           1,
           0,
           1,
           3,
           1,
           0,
           3,
           1,
           2,
           1,
           2,
           1,
           2,
           2,
           3,
           0,
           2,
           4,
           0,
           0,
           0,
           0,
           2,
           1,
           0,
           2,
           0,
           1,
           1,
           2,
           0,
           0,
           0,
           0,
           0,
           0,
           2,
           0,
           2,
           0,
           1,
           3,
           1,
           1,
           0,
           0,
           1,
           1,
           2,
           2,
           0,
           0,
           1,
           0,
           1,
           0,
           1,
           1,
           1,
           0,
           4,
           0,
           3,
           2,
           1,
           3,
           1,
           0,
           0,
           1,
           2,
           0,
           0,
           0,
           1,
           4,
           1,
           1,
           1,
           0,
           1,
           1,
           2,
           2,
           1,
           1,
           1,
           3,
           1,
           3,
           2,
           1,
           1,
           1,
           1,
           2,
           1,
           4,
           0,
           2,
           2,
           2,
           0,
           0,
           1,
           1,
           3,
           0,
           1,
           0,
           1,
           2,
           0,
           0,
           1,
           0,
           0,
           1,
           1,
           0,
           1,
           0,
           1,
           1,
           1,
           2,
           0,
           3,
           3,
           2,
           1,
           2,
           0,
           1,
           1,
           2,
           0,
           3,
           2,
           0,
           0
          ],
          [
           0,
           0,
           1,
           0,
           3,
           1,
           1,
           0,
           0,
           1,
           0,
           1,
           1,
           0,
           2,
           2,
           2,
           1,
           1,
           0,
           0,
           1,
           2,
           1,
           1,
           2,
           0,
           0,
           0,
           1,
           0,
           1,
           1,
           1,
           2,
           1,
           1,
           1,
           1,
           4,
           0,
           0,
           4,
           1,
           0,
           0,
           0,
           1,
           0,
           1,
           1,
           1,
           1,
           1,
           1,
           2,
           1,
           2,
           1,
           0,
           0,
           1,
           2,
           0,
           1,
           3,
           0,
           0,
           0,
           0,
           1,
           1,
           1,
           1,
           0,
           0,
           1,
           1,
           3,
           3,
           0,
           0,
           1,
           1,
           4,
           1,
           0,
           1,
           1,
           0,
           0,
           1,
           1,
           0,
           2,
           0,
           0,
           1,
           1,
           0,
           2,
           2,
           2,
           2,
           2,
           0,
           2,
           1,
           1,
           1,
           1,
           0,
           1,
           2,
           0,
           0,
           0,
           1,
           0,
           2,
           0,
           0,
           2,
           0,
           1,
           2,
           0,
           1,
           0,
           1,
           0,
           1,
           2,
           2,
           1,
           2,
           1,
           1,
           1,
           0,
           1,
           1,
           0,
           0,
           0,
           1,
           0,
           0,
           1,
           1,
           1,
           1,
           2,
           1,
           2,
           1,
           2,
           3,
           0,
           3,
           2,
           2,
           1,
           0,
           2,
           0,
           0,
           0,
           2,
           0,
           0,
           1,
           1,
           1,
           0,
           1,
           1,
           2,
           1,
           1
          ],
          [
           2,
           2,
           1,
           2,
           0,
           1,
           2,
           2,
           1,
           0,
           1,
           2,
           0,
           2,
           3,
           1,
           1,
           0,
           1,
           0,
           0,
           0,
           2,
           2,
           1,
           1,
           0,
           0,
           1,
           2,
           2,
           2,
           1,
           0,
           0,
           1,
           1,
           1,
           2,
           2,
           1,
           2,
           0,
           2,
           1,
           0,
           0,
           2,
           0,
           1,
           1,
           0,
           0,
           2,
           1,
           0,
           2,
           1,
           1,
           0,
           0,
           2,
           1,
           1,
           2,
           0,
           3,
           0,
           1,
           1,
           3,
           1,
           1,
           0,
           1,
           1,
           0,
           0,
           2,
           0,
           1,
           2,
           0,
           1,
           0,
           1,
           2,
           3,
           0,
           1,
           2,
           1,
           1,
           1,
           3,
           2,
           1,
           1,
           1,
           2,
           1,
           0,
           1,
           0,
           2,
           1,
           1,
           0,
           1,
           0,
           1,
           0,
           0,
           1,
           1,
           0,
           0,
           0,
           1,
           0,
           3,
           1,
           0,
           1,
           2,
           2,
           0,
           0,
           0,
           1,
           1,
           0,
           1,
           1,
           1,
           3,
           1,
           2,
           1,
           1,
           3,
           0,
           0,
           0,
           0,
           2,
           2,
           0,
           0,
           0,
           0,
           1,
           1,
           2,
           4,
           0,
           0,
           1,
           0,
           1,
           2,
           1,
           4,
           2,
           2,
           3,
           0,
           2,
           0,
           2,
           0,
           0,
           2,
           1,
           2,
           1,
           2,
           2,
           0,
           1
          ],
          [
           0,
           0,
           3,
           1,
           1,
           3,
           1,
           0,
           3,
           2,
           0,
           1,
           0,
           1,
           0,
           1,
           0,
           0,
           2,
           2,
           1,
           0,
           1,
           2,
           4,
           1,
           1,
           2,
           1,
           3,
           0,
           1,
           3,
           0,
           0,
           1,
           2,
           1,
           0,
           1,
           0,
           2,
           1,
           2,
           0,
           2,
           2,
           2,
           1,
           2,
           0,
           3,
           2,
           1,
           3,
           0,
           0,
           1,
           1,
           2,
           1,
           2,
           1,
           1,
           1,
           1,
           1,
           0,
           2,
           0,
           0,
           0,
           0,
           3,
           2,
           0,
           1,
           1,
           1,
           0,
           1,
           0,
           2,
           0,
           2,
           0,
           2,
           0,
           1,
           1,
           0,
           0,
           0,
           2,
           0,
           1,
           0,
           0,
           0,
           3,
           2,
           1,
           1,
           1,
           2,
           1,
           1,
           1,
           0,
           1,
           0,
           3,
           2,
           1,
           0,
           0,
           1,
           1,
           0,
           1,
           1,
           0,
           1,
           1,
           2,
           0,
           2,
           2,
           0,
           2,
           0,
           2,
           2,
           1,
           0,
           3,
           3,
           0,
           0,
           0,
           1,
           2,
           0,
           0,
           0,
           2,
           1,
           0,
           2,
           1,
           0,
           5,
           1,
           1,
           2,
           0,
           0,
           1,
           2,
           3,
           0,
           0,
           0,
           0,
           0,
           0,
           2,
           1,
           0,
           4,
           1,
           0,
           1,
           3,
           2,
           0,
           0,
           1,
           0,
           0
          ],
          [
           2,
           0,
           1,
           3,
           0,
           0,
           0,
           0,
           1,
           0,
           1,
           0,
           1,
           1,
           1,
           0,
           0,
           3,
           2,
           0,
           1,
           1,
           3,
           2,
           2,
           0,
           1,
           1,
           1,
           2,
           1,
           0,
           0,
           2,
           2,
           1,
           0,
           0,
           0,
           0,
           2,
           1,
           0,
           0,
           0,
           0,
           1,
           1,
           0,
           3,
           0,
           4,
           2,
           1,
           1,
           2,
           0,
           0,
           2,
           2,
           0,
           1,
           2,
           0,
           0,
           1,
           0,
           1,
           0,
           4,
           1,
           0,
           1,
           1,
           2,
           1,
           1,
           1,
           1,
           0,
           2,
           0,
           1,
           0,
           0,
           2,
           2,
           2,
           1,
           2,
           0,
           2,
           0,
           3,
           0,
           0,
           3,
           1,
           1,
           1,
           2,
           1,
           1,
           1,
           0,
           3,
           3,
           1,
           2,
           1,
           2,
           0,
           0,
           0,
           0,
           1,
           0,
           4,
           1,
           3,
           1,
           3,
           2,
           0,
           0,
           0,
           0,
           2,
           2,
           1,
           1,
           2,
           0,
           1,
           1,
           0,
           4,
           2,
           0,
           2,
           2,
           4,
           1,
           1,
           1,
           0,
           0,
           0,
           2,
           1,
           0,
           0,
           0,
           0,
           2,
           1,
           3,
           1,
           3,
           4,
           4,
           1,
           3,
           1,
           0,
           3,
           1,
           0,
           2,
           0,
           1,
           1,
           1,
           0,
           2,
           1,
           1,
           0,
           2,
           1
          ],
          [
           1,
           1,
           2,
           3,
           1,
           2,
           2,
           2,
           0,
           0,
           1,
           1,
           0,
           1,
           1,
           0,
           1,
           2,
           1,
           1,
           0,
           3,
           2,
           1,
           2,
           2,
           0,
           0,
           1,
           2,
           0,
           2,
           1,
           1,
           0,
           0,
           0,
           0,
           2,
           0,
           1,
           1,
           3,
           1,
           1,
           3,
           0,
           1,
           2,
           3,
           1,
           1,
           0,
           3,
           3,
           0,
           1,
           1,
           4,
           2,
           0,
           1,
           0,
           0,
           1,
           0,
           0,
           0,
           2,
           3,
           0,
           1,
           0,
           0,
           2,
           2,
           0,
           1,
           3,
           0,
           0,
           2,
           1,
           2,
           0,
           0,
           0,
           0,
           2,
           4,
           1,
           1,
           0,
           0,
           3,
           0,
           1,
           0,
           2,
           2,
           0,
           0,
           0,
           2,
           1,
           0,
           1,
           2,
           0,
           0,
           0,
           1,
           0,
           0,
           1,
           1,
           1,
           1,
           0,
           1,
           1,
           0,
           1,
           0,
           1,
           1,
           2,
           0,
           0,
           2,
           0,
           2,
           0,
           1,
           3,
           2,
           0,
           1,
           1,
           1,
           1,
           2,
           0,
           2,
           2,
           2,
           1,
           1,
           1,
           1,
           1,
           1,
           1,
           1,
           0,
           0,
           0,
           1,
           1,
           1,
           0,
           1,
           1,
           0,
           1,
           0,
           0,
           1,
           1,
           1,
           1,
           1,
           0,
           1,
           1,
           1,
           2,
           2,
           1,
           1
          ],
          [
           1,
           1,
           1,
           2,
           1,
           1,
           1,
           2,
           1,
           2,
           1,
           1,
           1,
           2,
           0,
           0,
           0,
           0,
           2,
           1,
           0,
           0,
           2,
           0,
           1,
           0,
           0,
           0,
           1,
           2,
           1,
           1,
           1,
           0,
           0,
           3,
           1,
           1,
           2,
           0,
           0,
           3,
           2,
           4,
           4,
           0,
           2,
           1,
           1,
           2,
           1,
           2,
           1,
           2,
           1,
           1,
           0,
           0,
           1,
           0,
           2,
           0,
           1,
           1,
           1,
           1,
           2,
           0,
           2,
           1,
           4,
           3,
           2,
           1,
           1,
           0,
           0,
           1,
           2,
           2,
           1,
           1,
           0,
           0,
           0,
           1,
           1,
           0,
           1,
           0,
           0,
           2,
           0,
           1,
           1,
           2,
           2,
           1,
           0,
           0,
           2,
           0,
           2,
           2,
           0,
           2,
           1,
           0,
           1,
           0,
           1,
           0,
           0,
           0,
           0,
           1,
           0,
           1,
           2,
           0,
           1,
           2,
           1,
           0,
           0,
           1,
           1,
           0,
           2,
           2,
           0,
           1,
           2,
           1,
           1,
           0,
           1,
           3,
           1,
           2,
           0,
           0,
           0,
           1,
           1,
           1,
           0,
           1,
           0,
           1,
           0,
           0,
           0,
           1,
           1,
           0,
           0,
           2,
           1,
           1,
           0,
           1,
           0,
           0,
           1,
           0,
           1,
           0,
           0,
           2,
           1,
           2,
           0,
           1,
           1,
           0,
           4,
           0,
           0,
           2
          ]
         ]
        }
       ],
       "layout": {
        "template": {
         "data": {
          "bar": [
           {
            "error_x": {
             "color": "#2a3f5f"
            },
            "error_y": {
             "color": "#2a3f5f"
            },
            "marker": {
             "line": {
              "color": "#E5ECF6",
              "width": 0.5
             },
             "pattern": {
              "fillmode": "overlay",
              "size": 10,
              "solidity": 0.2
             }
            },
            "type": "bar"
           }
          ],
          "barpolar": [
           {
            "marker": {
             "line": {
              "color": "#E5ECF6",
              "width": 0.5
             },
             "pattern": {
              "fillmode": "overlay",
              "size": 10,
              "solidity": 0.2
             }
            },
            "type": "barpolar"
           }
          ],
          "carpet": [
           {
            "aaxis": {
             "endlinecolor": "#2a3f5f",
             "gridcolor": "white",
             "linecolor": "white",
             "minorgridcolor": "white",
             "startlinecolor": "#2a3f5f"
            },
            "baxis": {
             "endlinecolor": "#2a3f5f",
             "gridcolor": "white",
             "linecolor": "white",
             "minorgridcolor": "white",
             "startlinecolor": "#2a3f5f"
            },
            "type": "carpet"
           }
          ],
          "choropleth": [
           {
            "colorbar": {
             "outlinewidth": 0,
             "ticks": ""
            },
            "type": "choropleth"
           }
          ],
          "contour": [
           {
            "colorbar": {
             "outlinewidth": 0,
             "ticks": ""
            },
            "colorscale": [
             [
              0,
              "#0d0887"
             ],
             [
              0.1111111111111111,
              "#46039f"
             ],
             [
              0.2222222222222222,
              "#7201a8"
             ],
             [
              0.3333333333333333,
              "#9c179e"
             ],
             [
              0.4444444444444444,
              "#bd3786"
             ],
             [
              0.5555555555555556,
              "#d8576b"
             ],
             [
              0.6666666666666666,
              "#ed7953"
             ],
             [
              0.7777777777777778,
              "#fb9f3a"
             ],
             [
              0.8888888888888888,
              "#fdca26"
             ],
             [
              1,
              "#f0f921"
             ]
            ],
            "type": "contour"
           }
          ],
          "contourcarpet": [
           {
            "colorbar": {
             "outlinewidth": 0,
             "ticks": ""
            },
            "type": "contourcarpet"
           }
          ],
          "heatmap": [
           {
            "colorbar": {
             "outlinewidth": 0,
             "ticks": ""
            },
            "colorscale": [
             [
              0,
              "#0d0887"
             ],
             [
              0.1111111111111111,
              "#46039f"
             ],
             [
              0.2222222222222222,
              "#7201a8"
             ],
             [
              0.3333333333333333,
              "#9c179e"
             ],
             [
              0.4444444444444444,
              "#bd3786"
             ],
             [
              0.5555555555555556,
              "#d8576b"
             ],
             [
              0.6666666666666666,
              "#ed7953"
             ],
             [
              0.7777777777777778,
              "#fb9f3a"
             ],
             [
              0.8888888888888888,
              "#fdca26"
             ],
             [
              1,
              "#f0f921"
             ]
            ],
            "type": "heatmap"
           }
          ],
          "heatmapgl": [
           {
            "colorbar": {
             "outlinewidth": 0,
             "ticks": ""
            },
            "colorscale": [
             [
              0,
              "#0d0887"
             ],
             [
              0.1111111111111111,
              "#46039f"
             ],
             [
              0.2222222222222222,
              "#7201a8"
             ],
             [
              0.3333333333333333,
              "#9c179e"
             ],
             [
              0.4444444444444444,
              "#bd3786"
             ],
             [
              0.5555555555555556,
              "#d8576b"
             ],
             [
              0.6666666666666666,
              "#ed7953"
             ],
             [
              0.7777777777777778,
              "#fb9f3a"
             ],
             [
              0.8888888888888888,
              "#fdca26"
             ],
             [
              1,
              "#f0f921"
             ]
            ],
            "type": "heatmapgl"
           }
          ],
          "histogram": [
           {
            "marker": {
             "pattern": {
              "fillmode": "overlay",
              "size": 10,
              "solidity": 0.2
             }
            },
            "type": "histogram"
           }
          ],
          "histogram2d": [
           {
            "colorbar": {
             "outlinewidth": 0,
             "ticks": ""
            },
            "colorscale": [
             [
              0,
              "#0d0887"
             ],
             [
              0.1111111111111111,
              "#46039f"
             ],
             [
              0.2222222222222222,
              "#7201a8"
             ],
             [
              0.3333333333333333,
              "#9c179e"
             ],
             [
              0.4444444444444444,
              "#bd3786"
             ],
             [
              0.5555555555555556,
              "#d8576b"
             ],
             [
              0.6666666666666666,
              "#ed7953"
             ],
             [
              0.7777777777777778,
              "#fb9f3a"
             ],
             [
              0.8888888888888888,
              "#fdca26"
             ],
             [
              1,
              "#f0f921"
             ]
            ],
            "type": "histogram2d"
           }
          ],
          "histogram2dcontour": [
           {
            "colorbar": {
             "outlinewidth": 0,
             "ticks": ""
            },
            "colorscale": [
             [
              0,
              "#0d0887"
             ],
             [
              0.1111111111111111,
              "#46039f"
             ],
             [
              0.2222222222222222,
              "#7201a8"
             ],
             [
              0.3333333333333333,
              "#9c179e"
             ],
             [
              0.4444444444444444,
              "#bd3786"
             ],
             [
              0.5555555555555556,
              "#d8576b"
             ],
             [
              0.6666666666666666,
              "#ed7953"
             ],
             [
              0.7777777777777778,
              "#fb9f3a"
             ],
             [
              0.8888888888888888,
              "#fdca26"
             ],
             [
              1,
              "#f0f921"
             ]
            ],
            "type": "histogram2dcontour"
           }
          ],
          "mesh3d": [
           {
            "colorbar": {
             "outlinewidth": 0,
             "ticks": ""
            },
            "type": "mesh3d"
           }
          ],
          "parcoords": [
           {
            "line": {
             "colorbar": {
              "outlinewidth": 0,
              "ticks": ""
             }
            },
            "type": "parcoords"
           }
          ],
          "pie": [
           {
            "automargin": true,
            "type": "pie"
           }
          ],
          "scatter": [
           {
            "fillpattern": {
             "fillmode": "overlay",
             "size": 10,
             "solidity": 0.2
            },
            "type": "scatter"
           }
          ],
          "scatter3d": [
           {
            "line": {
             "colorbar": {
              "outlinewidth": 0,
              "ticks": ""
             }
            },
            "marker": {
             "colorbar": {
              "outlinewidth": 0,
              "ticks": ""
             }
            },
            "type": "scatter3d"
           }
          ],
          "scattercarpet": [
           {
            "marker": {
             "colorbar": {
              "outlinewidth": 0,
              "ticks": ""
             }
            },
            "type": "scattercarpet"
           }
          ],
          "scattergeo": [
           {
            "marker": {
             "colorbar": {
              "outlinewidth": 0,
              "ticks": ""
             }
            },
            "type": "scattergeo"
           }
          ],
          "scattergl": [
           {
            "marker": {
             "colorbar": {
              "outlinewidth": 0,
              "ticks": ""
             }
            },
            "type": "scattergl"
           }
          ],
          "scattermapbox": [
           {
            "marker": {
             "colorbar": {
              "outlinewidth": 0,
              "ticks": ""
             }
            },
            "type": "scattermapbox"
           }
          ],
          "scatterpolar": [
           {
            "marker": {
             "colorbar": {
              "outlinewidth": 0,
              "ticks": ""
             }
            },
            "type": "scatterpolar"
           }
          ],
          "scatterpolargl": [
           {
            "marker": {
             "colorbar": {
              "outlinewidth": 0,
              "ticks": ""
             }
            },
            "type": "scatterpolargl"
           }
          ],
          "scatterternary": [
           {
            "marker": {
             "colorbar": {
              "outlinewidth": 0,
              "ticks": ""
             }
            },
            "type": "scatterternary"
           }
          ],
          "surface": [
           {
            "colorbar": {
             "outlinewidth": 0,
             "ticks": ""
            },
            "colorscale": [
             [
              0,
              "#0d0887"
             ],
             [
              0.1111111111111111,
              "#46039f"
             ],
             [
              0.2222222222222222,
              "#7201a8"
             ],
             [
              0.3333333333333333,
              "#9c179e"
             ],
             [
              0.4444444444444444,
              "#bd3786"
             ],
             [
              0.5555555555555556,
              "#d8576b"
             ],
             [
              0.6666666666666666,
              "#ed7953"
             ],
             [
              0.7777777777777778,
              "#fb9f3a"
             ],
             [
              0.8888888888888888,
              "#fdca26"
             ],
             [
              1,
              "#f0f921"
             ]
            ],
            "type": "surface"
           }
          ],
          "table": [
           {
            "cells": {
             "fill": {
              "color": "#EBF0F8"
             },
             "line": {
              "color": "white"
             }
            },
            "header": {
             "fill": {
              "color": "#C8D4E3"
             },
             "line": {
              "color": "white"
             }
            },
            "type": "table"
           }
          ]
         },
         "layout": {
          "annotationdefaults": {
           "arrowcolor": "#2a3f5f",
           "arrowhead": 0,
           "arrowwidth": 1
          },
          "autotypenumbers": "strict",
          "coloraxis": {
           "colorbar": {
            "outlinewidth": 0,
            "ticks": ""
           }
          },
          "colorscale": {
           "diverging": [
            [
             0,
             "#8e0152"
            ],
            [
             0.1,
             "#c51b7d"
            ],
            [
             0.2,
             "#de77ae"
            ],
            [
             0.3,
             "#f1b6da"
            ],
            [
             0.4,
             "#fde0ef"
            ],
            [
             0.5,
             "#f7f7f7"
            ],
            [
             0.6,
             "#e6f5d0"
            ],
            [
             0.7,
             "#b8e186"
            ],
            [
             0.8,
             "#7fbc41"
            ],
            [
             0.9,
             "#4d9221"
            ],
            [
             1,
             "#276419"
            ]
           ],
           "sequential": [
            [
             0,
             "#0d0887"
            ],
            [
             0.1111111111111111,
             "#46039f"
            ],
            [
             0.2222222222222222,
             "#7201a8"
            ],
            [
             0.3333333333333333,
             "#9c179e"
            ],
            [
             0.4444444444444444,
             "#bd3786"
            ],
            [
             0.5555555555555556,
             "#d8576b"
            ],
            [
             0.6666666666666666,
             "#ed7953"
            ],
            [
             0.7777777777777778,
             "#fb9f3a"
            ],
            [
             0.8888888888888888,
             "#fdca26"
            ],
            [
             1,
             "#f0f921"
            ]
           ],
           "sequentialminus": [
            [
             0,
             "#0d0887"
            ],
            [
             0.1111111111111111,
             "#46039f"
            ],
            [
             0.2222222222222222,
             "#7201a8"
            ],
            [
             0.3333333333333333,
             "#9c179e"
            ],
            [
             0.4444444444444444,
             "#bd3786"
            ],
            [
             0.5555555555555556,
             "#d8576b"
            ],
            [
             0.6666666666666666,
             "#ed7953"
            ],
            [
             0.7777777777777778,
             "#fb9f3a"
            ],
            [
             0.8888888888888888,
             "#fdca26"
            ],
            [
             1,
             "#f0f921"
            ]
           ]
          },
          "colorway": [
           "#636efa",
           "#EF553B",
           "#00cc96",
           "#ab63fa",
           "#FFA15A",
           "#19d3f3",
           "#FF6692",
           "#B6E880",
           "#FF97FF",
           "#FECB52"
          ],
          "font": {
           "color": "#2a3f5f"
          },
          "geo": {
           "bgcolor": "white",
           "lakecolor": "white",
           "landcolor": "#E5ECF6",
           "showlakes": true,
           "showland": true,
           "subunitcolor": "white"
          },
          "hoverlabel": {
           "align": "left"
          },
          "hovermode": "closest",
          "mapbox": {
           "style": "light"
          },
          "paper_bgcolor": "white",
          "plot_bgcolor": "#E5ECF6",
          "polar": {
           "angularaxis": {
            "gridcolor": "white",
            "linecolor": "white",
            "ticks": ""
           },
           "bgcolor": "#E5ECF6",
           "radialaxis": {
            "gridcolor": "white",
            "linecolor": "white",
            "ticks": ""
           }
          },
          "scene": {
           "xaxis": {
            "backgroundcolor": "#E5ECF6",
            "gridcolor": "white",
            "gridwidth": 2,
            "linecolor": "white",
            "showbackground": true,
            "ticks": "",
            "zerolinecolor": "white"
           },
           "yaxis": {
            "backgroundcolor": "#E5ECF6",
            "gridcolor": "white",
            "gridwidth": 2,
            "linecolor": "white",
            "showbackground": true,
            "ticks": "",
            "zerolinecolor": "white"
           },
           "zaxis": {
            "backgroundcolor": "#E5ECF6",
            "gridcolor": "white",
            "gridwidth": 2,
            "linecolor": "white",
            "showbackground": true,
            "ticks": "",
            "zerolinecolor": "white"
           }
          },
          "shapedefaults": {
           "line": {
            "color": "#2a3f5f"
           }
          },
          "ternary": {
           "aaxis": {
            "gridcolor": "white",
            "linecolor": "white",
            "ticks": ""
           },
           "baxis": {
            "gridcolor": "white",
            "linecolor": "white",
            "ticks": ""
           },
           "bgcolor": "#E5ECF6",
           "caxis": {
            "gridcolor": "white",
            "linecolor": "white",
            "ticks": ""
           }
          },
          "title": {
           "x": 0.05
          },
          "xaxis": {
           "automargin": true,
           "gridcolor": "white",
           "linecolor": "white",
           "ticks": "",
           "title": {
            "standoff": 15
           },
           "zerolinecolor": "white",
           "zerolinewidth": 2
          },
          "yaxis": {
           "automargin": true,
           "gridcolor": "white",
           "linecolor": "white",
           "ticks": "",
           "title": {
            "standoff": 15
           },
           "zerolinecolor": "white",
           "zerolinewidth": 2
          }
         }
        },
        "title": {
         "text": "GitHub commits per day"
        },
        "xaxis": {
         "nticks": 36
        }
       }
      },
      "text/html": [
       "<div>                        <script type=\"text/javascript\">window.PlotlyConfig = {MathJaxConfig: 'local'};</script>\n",
       "        <script src=\"https://cdn.plot.ly/plotly-2.14.0.min.js\"></script>                <div id=\"dd053a1b-24e5-475f-bfb1-09d4a51b3d3d\" class=\"plotly-graph-div\" style=\"height:100%; width:100%;\"></div>            <script type=\"text/javascript\">                                    window.PLOTLYENV=window.PLOTLYENV || {};                                    if (document.getElementById(\"dd053a1b-24e5-475f-bfb1-09d4a51b3d3d\")) {                    Plotly.newPlot(                        \"dd053a1b-24e5-475f-bfb1-09d4a51b3d3d\",                        [{\"colorscale\":[[0.0,\"#440154\"],[0.1111111111111111,\"#482878\"],[0.2222222222222222,\"#3e4989\"],[0.3333333333333333,\"#31688e\"],[0.4444444444444444,\"#26828e\"],[0.5555555555555556,\"#1f9e89\"],[0.6666666666666666,\"#35b779\"],[0.7777777777777778,\"#6ece58\"],[0.8888888888888888,\"#b5de2b\"],[1.0,\"#fde725\"]],\"x\":[\"2022-10-29T21:06:11.920648\",\"2022-10-28T21:06:11.920648\",\"2022-10-27T21:06:11.920648\",\"2022-10-26T21:06:11.920648\",\"2022-10-25T21:06:11.920648\",\"2022-10-24T21:06:11.920648\",\"2022-10-23T21:06:11.920648\",\"2022-10-22T21:06:11.920648\",\"2022-10-21T21:06:11.920648\",\"2022-10-20T21:06:11.920648\",\"2022-10-19T21:06:11.920648\",\"2022-10-18T21:06:11.920648\",\"2022-10-17T21:06:11.920648\",\"2022-10-16T21:06:11.920648\",\"2022-10-15T21:06:11.920648\",\"2022-10-14T21:06:11.920648\",\"2022-10-13T21:06:11.920648\",\"2022-10-12T21:06:11.920648\",\"2022-10-11T21:06:11.920648\",\"2022-10-10T21:06:11.920648\",\"2022-10-09T21:06:11.920648\",\"2022-10-08T21:06:11.920648\",\"2022-10-07T21:06:11.920648\",\"2022-10-06T21:06:11.920648\",\"2022-10-05T21:06:11.920648\",\"2022-10-04T21:06:11.920648\",\"2022-10-03T21:06:11.920648\",\"2022-10-02T21:06:11.920648\",\"2022-10-01T21:06:11.920648\",\"2022-09-30T21:06:11.920648\",\"2022-09-29T21:06:11.920648\",\"2022-09-28T21:06:11.920648\",\"2022-09-27T21:06:11.920648\",\"2022-09-26T21:06:11.920648\",\"2022-09-25T21:06:11.920648\",\"2022-09-24T21:06:11.920648\",\"2022-09-23T21:06:11.920648\",\"2022-09-22T21:06:11.920648\",\"2022-09-21T21:06:11.920648\",\"2022-09-20T21:06:11.920648\",\"2022-09-19T21:06:11.920648\",\"2022-09-18T21:06:11.920648\",\"2022-09-17T21:06:11.920648\",\"2022-09-16T21:06:11.920648\",\"2022-09-15T21:06:11.920648\",\"2022-09-14T21:06:11.920648\",\"2022-09-13T21:06:11.920648\",\"2022-09-12T21:06:11.920648\",\"2022-09-11T21:06:11.920648\",\"2022-09-10T21:06:11.920648\",\"2022-09-09T21:06:11.920648\",\"2022-09-08T21:06:11.920648\",\"2022-09-07T21:06:11.920648\",\"2022-09-06T21:06:11.920648\",\"2022-09-05T21:06:11.920648\",\"2022-09-04T21:06:11.920648\",\"2022-09-03T21:06:11.920648\",\"2022-09-02T21:06:11.920648\",\"2022-09-01T21:06:11.920648\",\"2022-08-31T21:06:11.920648\",\"2022-08-30T21:06:11.920648\",\"2022-08-29T21:06:11.920648\",\"2022-08-28T21:06:11.920648\",\"2022-08-27T21:06:11.920648\",\"2022-08-26T21:06:11.920648\",\"2022-08-25T21:06:11.920648\",\"2022-08-24T21:06:11.920648\",\"2022-08-23T21:06:11.920648\",\"2022-08-22T21:06:11.920648\",\"2022-08-21T21:06:11.920648\",\"2022-08-20T21:06:11.920648\",\"2022-08-19T21:06:11.920648\",\"2022-08-18T21:06:11.920648\",\"2022-08-17T21:06:11.920648\",\"2022-08-16T21:06:11.920648\",\"2022-08-15T21:06:11.920648\",\"2022-08-14T21:06:11.920648\",\"2022-08-13T21:06:11.920648\",\"2022-08-12T21:06:11.920648\",\"2022-08-11T21:06:11.920648\",\"2022-08-10T21:06:11.920648\",\"2022-08-09T21:06:11.920648\",\"2022-08-08T21:06:11.920648\",\"2022-08-07T21:06:11.920648\",\"2022-08-06T21:06:11.920648\",\"2022-08-05T21:06:11.920648\",\"2022-08-04T21:06:11.920648\",\"2022-08-03T21:06:11.920648\",\"2022-08-02T21:06:11.920648\",\"2022-08-01T21:06:11.920648\",\"2022-07-31T21:06:11.920648\",\"2022-07-30T21:06:11.920648\",\"2022-07-29T21:06:11.920648\",\"2022-07-28T21:06:11.920648\",\"2022-07-27T21:06:11.920648\",\"2022-07-26T21:06:11.920648\",\"2022-07-25T21:06:11.920648\",\"2022-07-24T21:06:11.920648\",\"2022-07-23T21:06:11.920648\",\"2022-07-22T21:06:11.920648\",\"2022-07-21T21:06:11.920648\",\"2022-07-20T21:06:11.920648\",\"2022-07-19T21:06:11.920648\",\"2022-07-18T21:06:11.920648\",\"2022-07-17T21:06:11.920648\",\"2022-07-16T21:06:11.920648\",\"2022-07-15T21:06:11.920648\",\"2022-07-14T21:06:11.920648\",\"2022-07-13T21:06:11.920648\",\"2022-07-12T21:06:11.920648\",\"2022-07-11T21:06:11.920648\",\"2022-07-10T21:06:11.920648\",\"2022-07-09T21:06:11.920648\",\"2022-07-08T21:06:11.920648\",\"2022-07-07T21:06:11.920648\",\"2022-07-06T21:06:11.920648\",\"2022-07-05T21:06:11.920648\",\"2022-07-04T21:06:11.920648\",\"2022-07-03T21:06:11.920648\",\"2022-07-02T21:06:11.920648\",\"2022-07-01T21:06:11.920648\",\"2022-06-30T21:06:11.920648\",\"2022-06-29T21:06:11.920648\",\"2022-06-28T21:06:11.920648\",\"2022-06-27T21:06:11.920648\",\"2022-06-26T21:06:11.920648\",\"2022-06-25T21:06:11.920648\",\"2022-06-24T21:06:11.920648\",\"2022-06-23T21:06:11.920648\",\"2022-06-22T21:06:11.920648\",\"2022-06-21T21:06:11.920648\",\"2022-06-20T21:06:11.920648\",\"2022-06-19T21:06:11.920648\",\"2022-06-18T21:06:11.920648\",\"2022-06-17T21:06:11.920648\",\"2022-06-16T21:06:11.920648\",\"2022-06-15T21:06:11.920648\",\"2022-06-14T21:06:11.920648\",\"2022-06-13T21:06:11.920648\",\"2022-06-12T21:06:11.920648\",\"2022-06-11T21:06:11.920648\",\"2022-06-10T21:06:11.920648\",\"2022-06-09T21:06:11.920648\",\"2022-06-08T21:06:11.920648\",\"2022-06-07T21:06:11.920648\",\"2022-06-06T21:06:11.920648\",\"2022-06-05T21:06:11.920648\",\"2022-06-04T21:06:11.920648\",\"2022-06-03T21:06:11.920648\",\"2022-06-02T21:06:11.920648\",\"2022-06-01T21:06:11.920648\",\"2022-05-31T21:06:11.920648\",\"2022-05-30T21:06:11.920648\",\"2022-05-29T21:06:11.920648\",\"2022-05-28T21:06:11.920648\",\"2022-05-27T21:06:11.920648\",\"2022-05-26T21:06:11.920648\",\"2022-05-25T21:06:11.920648\",\"2022-05-24T21:06:11.920648\",\"2022-05-23T21:06:11.920648\",\"2022-05-22T21:06:11.920648\",\"2022-05-21T21:06:11.920648\",\"2022-05-20T21:06:11.920648\",\"2022-05-19T21:06:11.920648\",\"2022-05-18T21:06:11.920648\",\"2022-05-17T21:06:11.920648\",\"2022-05-16T21:06:11.920648\",\"2022-05-15T21:06:11.920648\",\"2022-05-14T21:06:11.920648\",\"2022-05-13T21:06:11.920648\",\"2022-05-12T21:06:11.920648\",\"2022-05-11T21:06:11.920648\",\"2022-05-10T21:06:11.920648\",\"2022-05-09T21:06:11.920648\",\"2022-05-08T21:06:11.920648\",\"2022-05-07T21:06:11.920648\",\"2022-05-06T21:06:11.920648\",\"2022-05-05T21:06:11.920648\",\"2022-05-04T21:06:11.920648\",\"2022-05-03T21:06:11.920648\"],\"y\":[\"Alex\",\"Nicole\",\"Sara\",\"Etienne\",\"Chelsea\",\"Jody\",\"Marianne\"],\"z\":[[1,0,0,0,0,0,0,1,1,0,1,1,1,0,2,3,0,0,1,2,1,2,3,1,2,0,0,0,1,0,1,1,2,1,1,1,2,1,0,1,0,1,3,1,0,3,1,2,1,2,1,2,2,3,0,2,4,0,0,0,0,2,1,0,2,0,1,1,2,0,0,0,0,0,0,2,0,2,0,1,3,1,1,0,0,1,1,2,2,0,0,1,0,1,0,1,1,1,0,4,0,3,2,1,3,1,0,0,1,2,0,0,0,1,4,1,1,1,0,1,1,2,2,1,1,1,3,1,3,2,1,1,1,1,2,1,4,0,2,2,2,0,0,1,1,3,0,1,0,1,2,0,0,1,0,0,1,1,0,1,0,1,1,1,2,0,3,3,2,1,2,0,1,1,2,0,3,2,0,0],[0,0,1,0,3,1,1,0,0,1,0,1,1,0,2,2,2,1,1,0,0,1,2,1,1,2,0,0,0,1,0,1,1,1,2,1,1,1,1,4,0,0,4,1,0,0,0,1,0,1,1,1,1,1,1,2,1,2,1,0,0,1,2,0,1,3,0,0,0,0,1,1,1,1,0,0,1,1,3,3,0,0,1,1,4,1,0,1,1,0,0,1,1,0,2,0,0,1,1,0,2,2,2,2,2,0,2,1,1,1,1,0,1,2,0,0,0,1,0,2,0,0,2,0,1,2,0,1,0,1,0,1,2,2,1,2,1,1,1,0,1,1,0,0,0,1,0,0,1,1,1,1,2,1,2,1,2,3,0,3,2,2,1,0,2,0,0,0,2,0,0,1,1,1,0,1,1,2,1,1],[2,2,1,2,0,1,2,2,1,0,1,2,0,2,3,1,1,0,1,0,0,0,2,2,1,1,0,0,1,2,2,2,1,0,0,1,1,1,2,2,1,2,0,2,1,0,0,2,0,1,1,0,0,2,1,0,2,1,1,0,0,2,1,1,2,0,3,0,1,1,3,1,1,0,1,1,0,0,2,0,1,2,0,1,0,1,2,3,0,1,2,1,1,1,3,2,1,1,1,2,1,0,1,0,2,1,1,0,1,0,1,0,0,1,1,0,0,0,1,0,3,1,0,1,2,2,0,0,0,1,1,0,1,1,1,3,1,2,1,1,3,0,0,0,0,2,2,0,0,0,0,1,1,2,4,0,0,1,0,1,2,1,4,2,2,3,0,2,0,2,0,0,2,1,2,1,2,2,0,1],[0,0,3,1,1,3,1,0,3,2,0,1,0,1,0,1,0,0,2,2,1,0,1,2,4,1,1,2,1,3,0,1,3,0,0,1,2,1,0,1,0,2,1,2,0,2,2,2,1,2,0,3,2,1,3,0,0,1,1,2,1,2,1,1,1,1,1,0,2,0,0,0,0,3,2,0,1,1,1,0,1,0,2,0,2,0,2,0,1,1,0,0,0,2,0,1,0,0,0,3,2,1,1,1,2,1,1,1,0,1,0,3,2,1,0,0,1,1,0,1,1,0,1,1,2,0,2,2,0,2,0,2,2,1,0,3,3,0,0,0,1,2,0,0,0,2,1,0,2,1,0,5,1,1,2,0,0,1,2,3,0,0,0,0,0,0,2,1,0,4,1,0,1,3,2,0,0,1,0,0],[2,0,1,3,0,0,0,0,1,0,1,0,1,1,1,0,0,3,2,0,1,1,3,2,2,0,1,1,1,2,1,0,0,2,2,1,0,0,0,0,2,1,0,0,0,0,1,1,0,3,0,4,2,1,1,2,0,0,2,2,0,1,2,0,0,1,0,1,0,4,1,0,1,1,2,1,1,1,1,0,2,0,1,0,0,2,2,2,1,2,0,2,0,3,0,0,3,1,1,1,2,1,1,1,0,3,3,1,2,1,2,0,0,0,0,1,0,4,1,3,1,3,2,0,0,0,0,2,2,1,1,2,0,1,1,0,4,2,0,2,2,4,1,1,1,0,0,0,2,1,0,0,0,0,2,1,3,1,3,4,4,1,3,1,0,3,1,0,2,0,1,1,1,0,2,1,1,0,2,1],[1,1,2,3,1,2,2,2,0,0,1,1,0,1,1,0,1,2,1,1,0,3,2,1,2,2,0,0,1,2,0,2,1,1,0,0,0,0,2,0,1,1,3,1,1,3,0,1,2,3,1,1,0,3,3,0,1,1,4,2,0,1,0,0,1,0,0,0,2,3,0,1,0,0,2,2,0,1,3,0,0,2,1,2,0,0,0,0,2,4,1,1,0,0,3,0,1,0,2,2,0,0,0,2,1,0,1,2,0,0,0,1,0,0,1,1,1,1,0,1,1,0,1,0,1,1,2,0,0,2,0,2,0,1,3,2,0,1,1,1,1,2,0,2,2,2,1,1,1,1,1,1,1,1,0,0,0,1,1,1,0,1,1,0,1,0,0,1,1,1,1,1,0,1,1,1,2,2,1,1],[1,1,1,2,1,1,1,2,1,2,1,1,1,2,0,0,0,0,2,1,0,0,2,0,1,0,0,0,1,2,1,1,1,0,0,3,1,1,2,0,0,3,2,4,4,0,2,1,1,2,1,2,1,2,1,1,0,0,1,0,2,0,1,1,1,1,2,0,2,1,4,3,2,1,1,0,0,1,2,2,1,1,0,0,0,1,1,0,1,0,0,2,0,1,1,2,2,1,0,0,2,0,2,2,0,2,1,0,1,0,1,0,0,0,0,1,0,1,2,0,1,2,1,0,0,1,1,0,2,2,0,1,2,1,1,0,1,3,1,2,0,0,0,1,1,1,0,1,0,1,0,0,0,1,1,0,0,2,1,1,0,1,0,0,1,0,1,0,0,2,1,2,0,1,1,0,4,0,0,2]],\"type\":\"heatmap\"}],                        {\"template\":{\"data\":{\"histogram2dcontour\":[{\"type\":\"histogram2dcontour\",\"colorbar\":{\"outlinewidth\":0,\"ticks\":\"\"},\"colorscale\":[[0.0,\"#0d0887\"],[0.1111111111111111,\"#46039f\"],[0.2222222222222222,\"#7201a8\"],[0.3333333333333333,\"#9c179e\"],[0.4444444444444444,\"#bd3786\"],[0.5555555555555556,\"#d8576b\"],[0.6666666666666666,\"#ed7953\"],[0.7777777777777778,\"#fb9f3a\"],[0.8888888888888888,\"#fdca26\"],[1.0,\"#f0f921\"]]}],\"choropleth\":[{\"type\":\"choropleth\",\"colorbar\":{\"outlinewidth\":0,\"ticks\":\"\"}}],\"histogram2d\":[{\"type\":\"histogram2d\",\"colorbar\":{\"outlinewidth\":0,\"ticks\":\"\"},\"colorscale\":[[0.0,\"#0d0887\"],[0.1111111111111111,\"#46039f\"],[0.2222222222222222,\"#7201a8\"],[0.3333333333333333,\"#9c179e\"],[0.4444444444444444,\"#bd3786\"],[0.5555555555555556,\"#d8576b\"],[0.6666666666666666,\"#ed7953\"],[0.7777777777777778,\"#fb9f3a\"],[0.8888888888888888,\"#fdca26\"],[1.0,\"#f0f921\"]]}],\"heatmap\":[{\"type\":\"heatmap\",\"colorbar\":{\"outlinewidth\":0,\"ticks\":\"\"},\"colorscale\":[[0.0,\"#0d0887\"],[0.1111111111111111,\"#46039f\"],[0.2222222222222222,\"#7201a8\"],[0.3333333333333333,\"#9c179e\"],[0.4444444444444444,\"#bd3786\"],[0.5555555555555556,\"#d8576b\"],[0.6666666666666666,\"#ed7953\"],[0.7777777777777778,\"#fb9f3a\"],[0.8888888888888888,\"#fdca26\"],[1.0,\"#f0f921\"]]}],\"heatmapgl\":[{\"type\":\"heatmapgl\",\"colorbar\":{\"outlinewidth\":0,\"ticks\":\"\"},\"colorscale\":[[0.0,\"#0d0887\"],[0.1111111111111111,\"#46039f\"],[0.2222222222222222,\"#7201a8\"],[0.3333333333333333,\"#9c179e\"],[0.4444444444444444,\"#bd3786\"],[0.5555555555555556,\"#d8576b\"],[0.6666666666666666,\"#ed7953\"],[0.7777777777777778,\"#fb9f3a\"],[0.8888888888888888,\"#fdca26\"],[1.0,\"#f0f921\"]]}],\"contourcarpet\":[{\"type\":\"contourcarpet\",\"colorbar\":{\"outlinewidth\":0,\"ticks\":\"\"}}],\"contour\":[{\"type\":\"contour\",\"colorbar\":{\"outlinewidth\":0,\"ticks\":\"\"},\"colorscale\":[[0.0,\"#0d0887\"],[0.1111111111111111,\"#46039f\"],[0.2222222222222222,\"#7201a8\"],[0.3333333333333333,\"#9c179e\"],[0.4444444444444444,\"#bd3786\"],[0.5555555555555556,\"#d8576b\"],[0.6666666666666666,\"#ed7953\"],[0.7777777777777778,\"#fb9f3a\"],[0.8888888888888888,\"#fdca26\"],[1.0,\"#f0f921\"]]}],\"surface\":[{\"type\":\"surface\",\"colorbar\":{\"outlinewidth\":0,\"ticks\":\"\"},\"colorscale\":[[0.0,\"#0d0887\"],[0.1111111111111111,\"#46039f\"],[0.2222222222222222,\"#7201a8\"],[0.3333333333333333,\"#9c179e\"],[0.4444444444444444,\"#bd3786\"],[0.5555555555555556,\"#d8576b\"],[0.6666666666666666,\"#ed7953\"],[0.7777777777777778,\"#fb9f3a\"],[0.8888888888888888,\"#fdca26\"],[1.0,\"#f0f921\"]]}],\"mesh3d\":[{\"type\":\"mesh3d\",\"colorbar\":{\"outlinewidth\":0,\"ticks\":\"\"}}],\"scatter\":[{\"fillpattern\":{\"fillmode\":\"overlay\",\"size\":10,\"solidity\":0.2},\"type\":\"scatter\"}],\"parcoords\":[{\"type\":\"parcoords\",\"line\":{\"colorbar\":{\"outlinewidth\":0,\"ticks\":\"\"}}}],\"scatterpolargl\":[{\"type\":\"scatterpolargl\",\"marker\":{\"colorbar\":{\"outlinewidth\":0,\"ticks\":\"\"}}}],\"bar\":[{\"error_x\":{\"color\":\"#2a3f5f\"},\"error_y\":{\"color\":\"#2a3f5f\"},\"marker\":{\"line\":{\"color\":\"#E5ECF6\",\"width\":0.5},\"pattern\":{\"fillmode\":\"overlay\",\"size\":10,\"solidity\":0.2}},\"type\":\"bar\"}],\"scattergeo\":[{\"type\":\"scattergeo\",\"marker\":{\"colorbar\":{\"outlinewidth\":0,\"ticks\":\"\"}}}],\"scatterpolar\":[{\"type\":\"scatterpolar\",\"marker\":{\"colorbar\":{\"outlinewidth\":0,\"ticks\":\"\"}}}],\"histogram\":[{\"marker\":{\"pattern\":{\"fillmode\":\"overlay\",\"size\":10,\"solidity\":0.2}},\"type\":\"histogram\"}],\"scattergl\":[{\"type\":\"scattergl\",\"marker\":{\"colorbar\":{\"outlinewidth\":0,\"ticks\":\"\"}}}],\"scatter3d\":[{\"type\":\"scatter3d\",\"line\":{\"colorbar\":{\"outlinewidth\":0,\"ticks\":\"\"}},\"marker\":{\"colorbar\":{\"outlinewidth\":0,\"ticks\":\"\"}}}],\"scattermapbox\":[{\"type\":\"scattermapbox\",\"marker\":{\"colorbar\":{\"outlinewidth\":0,\"ticks\":\"\"}}}],\"scatterternary\":[{\"type\":\"scatterternary\",\"marker\":{\"colorbar\":{\"outlinewidth\":0,\"ticks\":\"\"}}}],\"scattercarpet\":[{\"type\":\"scattercarpet\",\"marker\":{\"colorbar\":{\"outlinewidth\":0,\"ticks\":\"\"}}}],\"carpet\":[{\"aaxis\":{\"endlinecolor\":\"#2a3f5f\",\"gridcolor\":\"white\",\"linecolor\":\"white\",\"minorgridcolor\":\"white\",\"startlinecolor\":\"#2a3f5f\"},\"baxis\":{\"endlinecolor\":\"#2a3f5f\",\"gridcolor\":\"white\",\"linecolor\":\"white\",\"minorgridcolor\":\"white\",\"startlinecolor\":\"#2a3f5f\"},\"type\":\"carpet\"}],\"table\":[{\"cells\":{\"fill\":{\"color\":\"#EBF0F8\"},\"line\":{\"color\":\"white\"}},\"header\":{\"fill\":{\"color\":\"#C8D4E3\"},\"line\":{\"color\":\"white\"}},\"type\":\"table\"}],\"barpolar\":[{\"marker\":{\"line\":{\"color\":\"#E5ECF6\",\"width\":0.5},\"pattern\":{\"fillmode\":\"overlay\",\"size\":10,\"solidity\":0.2}},\"type\":\"barpolar\"}],\"pie\":[{\"automargin\":true,\"type\":\"pie\"}]},\"layout\":{\"autotypenumbers\":\"strict\",\"colorway\":[\"#636efa\",\"#EF553B\",\"#00cc96\",\"#ab63fa\",\"#FFA15A\",\"#19d3f3\",\"#FF6692\",\"#B6E880\",\"#FF97FF\",\"#FECB52\"],\"font\":{\"color\":\"#2a3f5f\"},\"hovermode\":\"closest\",\"hoverlabel\":{\"align\":\"left\"},\"paper_bgcolor\":\"white\",\"plot_bgcolor\":\"#E5ECF6\",\"polar\":{\"bgcolor\":\"#E5ECF6\",\"angularaxis\":{\"gridcolor\":\"white\",\"linecolor\":\"white\",\"ticks\":\"\"},\"radialaxis\":{\"gridcolor\":\"white\",\"linecolor\":\"white\",\"ticks\":\"\"}},\"ternary\":{\"bgcolor\":\"#E5ECF6\",\"aaxis\":{\"gridcolor\":\"white\",\"linecolor\":\"white\",\"ticks\":\"\"},\"baxis\":{\"gridcolor\":\"white\",\"linecolor\":\"white\",\"ticks\":\"\"},\"caxis\":{\"gridcolor\":\"white\",\"linecolor\":\"white\",\"ticks\":\"\"}},\"coloraxis\":{\"colorbar\":{\"outlinewidth\":0,\"ticks\":\"\"}},\"colorscale\":{\"sequential\":[[0.0,\"#0d0887\"],[0.1111111111111111,\"#46039f\"],[0.2222222222222222,\"#7201a8\"],[0.3333333333333333,\"#9c179e\"],[0.4444444444444444,\"#bd3786\"],[0.5555555555555556,\"#d8576b\"],[0.6666666666666666,\"#ed7953\"],[0.7777777777777778,\"#fb9f3a\"],[0.8888888888888888,\"#fdca26\"],[1.0,\"#f0f921\"]],\"sequentialminus\":[[0.0,\"#0d0887\"],[0.1111111111111111,\"#46039f\"],[0.2222222222222222,\"#7201a8\"],[0.3333333333333333,\"#9c179e\"],[0.4444444444444444,\"#bd3786\"],[0.5555555555555556,\"#d8576b\"],[0.6666666666666666,\"#ed7953\"],[0.7777777777777778,\"#fb9f3a\"],[0.8888888888888888,\"#fdca26\"],[1.0,\"#f0f921\"]],\"diverging\":[[0,\"#8e0152\"],[0.1,\"#c51b7d\"],[0.2,\"#de77ae\"],[0.3,\"#f1b6da\"],[0.4,\"#fde0ef\"],[0.5,\"#f7f7f7\"],[0.6,\"#e6f5d0\"],[0.7,\"#b8e186\"],[0.8,\"#7fbc41\"],[0.9,\"#4d9221\"],[1,\"#276419\"]]},\"xaxis\":{\"gridcolor\":\"white\",\"linecolor\":\"white\",\"ticks\":\"\",\"title\":{\"standoff\":15},\"zerolinecolor\":\"white\",\"automargin\":true,\"zerolinewidth\":2},\"yaxis\":{\"gridcolor\":\"white\",\"linecolor\":\"white\",\"ticks\":\"\",\"title\":{\"standoff\":15},\"zerolinecolor\":\"white\",\"automargin\":true,\"zerolinewidth\":2},\"scene\":{\"xaxis\":{\"backgroundcolor\":\"#E5ECF6\",\"gridcolor\":\"white\",\"linecolor\":\"white\",\"showbackground\":true,\"ticks\":\"\",\"zerolinecolor\":\"white\",\"gridwidth\":2},\"yaxis\":{\"backgroundcolor\":\"#E5ECF6\",\"gridcolor\":\"white\",\"linecolor\":\"white\",\"showbackground\":true,\"ticks\":\"\",\"zerolinecolor\":\"white\",\"gridwidth\":2},\"zaxis\":{\"backgroundcolor\":\"#E5ECF6\",\"gridcolor\":\"white\",\"linecolor\":\"white\",\"showbackground\":true,\"ticks\":\"\",\"zerolinecolor\":\"white\",\"gridwidth\":2}},\"shapedefaults\":{\"line\":{\"color\":\"#2a3f5f\"}},\"annotationdefaults\":{\"arrowcolor\":\"#2a3f5f\",\"arrowhead\":0,\"arrowwidth\":1},\"geo\":{\"bgcolor\":\"white\",\"landcolor\":\"#E5ECF6\",\"subunitcolor\":\"white\",\"showland\":true,\"showlakes\":true,\"lakecolor\":\"white\"},\"title\":{\"x\":0.05},\"mapbox\":{\"style\":\"light\"}}},\"xaxis\":{\"nticks\":36},\"title\":{\"text\":\"GitHub commits per day\"}},                        {\"responsive\": true}                    )                };                            </script>        </div>"
      ],
      "text/plain": [
       "Figure({\n",
       "    'data': [{'colorscale': [[0.0, '#440154'], [0.1111111111111111, '#482878'],\n",
       "                             [0.2222222222222222, '#3e4989'], [0.3333333333333333,\n",
       "                             '#31688e'], [0.4444444444444444, '#26828e'],\n",
       "                             [0.5555555555555556, '#1f9e89'], [0.6666666666666666,\n",
       "                             '#35b779'], [0.7777777777777778, '#6ece58'],\n",
       "                             [0.8888888888888888, '#b5de2b'], [1.0, '#fde725']],\n",
       "              'type': 'heatmap',\n",
       "              'x': array([datetime.datetime(2022, 10, 29, 21, 6, 11, 920648),\n",
       "                          datetime.datetime(2022, 10, 28, 21, 6, 11, 920648),\n",
       "                          datetime.datetime(2022, 10, 27, 21, 6, 11, 920648),\n",
       "                          datetime.datetime(2022, 10, 26, 21, 6, 11, 920648),\n",
       "                          datetime.datetime(2022, 10, 25, 21, 6, 11, 920648),\n",
       "                          datetime.datetime(2022, 10, 24, 21, 6, 11, 920648),\n",
       "                          datetime.datetime(2022, 10, 23, 21, 6, 11, 920648),\n",
       "                          datetime.datetime(2022, 10, 22, 21, 6, 11, 920648),\n",
       "                          datetime.datetime(2022, 10, 21, 21, 6, 11, 920648),\n",
       "                          datetime.datetime(2022, 10, 20, 21, 6, 11, 920648),\n",
       "                          datetime.datetime(2022, 10, 19, 21, 6, 11, 920648),\n",
       "                          datetime.datetime(2022, 10, 18, 21, 6, 11, 920648),\n",
       "                          datetime.datetime(2022, 10, 17, 21, 6, 11, 920648),\n",
       "                          datetime.datetime(2022, 10, 16, 21, 6, 11, 920648),\n",
       "                          datetime.datetime(2022, 10, 15, 21, 6, 11, 920648),\n",
       "                          datetime.datetime(2022, 10, 14, 21, 6, 11, 920648),\n",
       "                          datetime.datetime(2022, 10, 13, 21, 6, 11, 920648),\n",
       "                          datetime.datetime(2022, 10, 12, 21, 6, 11, 920648),\n",
       "                          datetime.datetime(2022, 10, 11, 21, 6, 11, 920648),\n",
       "                          datetime.datetime(2022, 10, 10, 21, 6, 11, 920648),\n",
       "                          datetime.datetime(2022, 10, 9, 21, 6, 11, 920648),\n",
       "                          datetime.datetime(2022, 10, 8, 21, 6, 11, 920648),\n",
       "                          datetime.datetime(2022, 10, 7, 21, 6, 11, 920648),\n",
       "                          datetime.datetime(2022, 10, 6, 21, 6, 11, 920648),\n",
       "                          datetime.datetime(2022, 10, 5, 21, 6, 11, 920648),\n",
       "                          datetime.datetime(2022, 10, 4, 21, 6, 11, 920648),\n",
       "                          datetime.datetime(2022, 10, 3, 21, 6, 11, 920648),\n",
       "                          datetime.datetime(2022, 10, 2, 21, 6, 11, 920648),\n",
       "                          datetime.datetime(2022, 10, 1, 21, 6, 11, 920648),\n",
       "                          datetime.datetime(2022, 9, 30, 21, 6, 11, 920648),\n",
       "                          datetime.datetime(2022, 9, 29, 21, 6, 11, 920648),\n",
       "                          datetime.datetime(2022, 9, 28, 21, 6, 11, 920648),\n",
       "                          datetime.datetime(2022, 9, 27, 21, 6, 11, 920648),\n",
       "                          datetime.datetime(2022, 9, 26, 21, 6, 11, 920648),\n",
       "                          datetime.datetime(2022, 9, 25, 21, 6, 11, 920648),\n",
       "                          datetime.datetime(2022, 9, 24, 21, 6, 11, 920648),\n",
       "                          datetime.datetime(2022, 9, 23, 21, 6, 11, 920648),\n",
       "                          datetime.datetime(2022, 9, 22, 21, 6, 11, 920648),\n",
       "                          datetime.datetime(2022, 9, 21, 21, 6, 11, 920648),\n",
       "                          datetime.datetime(2022, 9, 20, 21, 6, 11, 920648),\n",
       "                          datetime.datetime(2022, 9, 19, 21, 6, 11, 920648),\n",
       "                          datetime.datetime(2022, 9, 18, 21, 6, 11, 920648),\n",
       "                          datetime.datetime(2022, 9, 17, 21, 6, 11, 920648),\n",
       "                          datetime.datetime(2022, 9, 16, 21, 6, 11, 920648),\n",
       "                          datetime.datetime(2022, 9, 15, 21, 6, 11, 920648),\n",
       "                          datetime.datetime(2022, 9, 14, 21, 6, 11, 920648),\n",
       "                          datetime.datetime(2022, 9, 13, 21, 6, 11, 920648),\n",
       "                          datetime.datetime(2022, 9, 12, 21, 6, 11, 920648),\n",
       "                          datetime.datetime(2022, 9, 11, 21, 6, 11, 920648),\n",
       "                          datetime.datetime(2022, 9, 10, 21, 6, 11, 920648),\n",
       "                          datetime.datetime(2022, 9, 9, 21, 6, 11, 920648),\n",
       "                          datetime.datetime(2022, 9, 8, 21, 6, 11, 920648),\n",
       "                          datetime.datetime(2022, 9, 7, 21, 6, 11, 920648),\n",
       "                          datetime.datetime(2022, 9, 6, 21, 6, 11, 920648),\n",
       "                          datetime.datetime(2022, 9, 5, 21, 6, 11, 920648),\n",
       "                          datetime.datetime(2022, 9, 4, 21, 6, 11, 920648),\n",
       "                          datetime.datetime(2022, 9, 3, 21, 6, 11, 920648),\n",
       "                          datetime.datetime(2022, 9, 2, 21, 6, 11, 920648),\n",
       "                          datetime.datetime(2022, 9, 1, 21, 6, 11, 920648),\n",
       "                          datetime.datetime(2022, 8, 31, 21, 6, 11, 920648),\n",
       "                          datetime.datetime(2022, 8, 30, 21, 6, 11, 920648),\n",
       "                          datetime.datetime(2022, 8, 29, 21, 6, 11, 920648),\n",
       "                          datetime.datetime(2022, 8, 28, 21, 6, 11, 920648),\n",
       "                          datetime.datetime(2022, 8, 27, 21, 6, 11, 920648),\n",
       "                          datetime.datetime(2022, 8, 26, 21, 6, 11, 920648),\n",
       "                          datetime.datetime(2022, 8, 25, 21, 6, 11, 920648),\n",
       "                          datetime.datetime(2022, 8, 24, 21, 6, 11, 920648),\n",
       "                          datetime.datetime(2022, 8, 23, 21, 6, 11, 920648),\n",
       "                          datetime.datetime(2022, 8, 22, 21, 6, 11, 920648),\n",
       "                          datetime.datetime(2022, 8, 21, 21, 6, 11, 920648),\n",
       "                          datetime.datetime(2022, 8, 20, 21, 6, 11, 920648),\n",
       "                          datetime.datetime(2022, 8, 19, 21, 6, 11, 920648),\n",
       "                          datetime.datetime(2022, 8, 18, 21, 6, 11, 920648),\n",
       "                          datetime.datetime(2022, 8, 17, 21, 6, 11, 920648),\n",
       "                          datetime.datetime(2022, 8, 16, 21, 6, 11, 920648),\n",
       "                          datetime.datetime(2022, 8, 15, 21, 6, 11, 920648),\n",
       "                          datetime.datetime(2022, 8, 14, 21, 6, 11, 920648),\n",
       "                          datetime.datetime(2022, 8, 13, 21, 6, 11, 920648),\n",
       "                          datetime.datetime(2022, 8, 12, 21, 6, 11, 920648),\n",
       "                          datetime.datetime(2022, 8, 11, 21, 6, 11, 920648),\n",
       "                          datetime.datetime(2022, 8, 10, 21, 6, 11, 920648),\n",
       "                          datetime.datetime(2022, 8, 9, 21, 6, 11, 920648),\n",
       "                          datetime.datetime(2022, 8, 8, 21, 6, 11, 920648),\n",
       "                          datetime.datetime(2022, 8, 7, 21, 6, 11, 920648),\n",
       "                          datetime.datetime(2022, 8, 6, 21, 6, 11, 920648),\n",
       "                          datetime.datetime(2022, 8, 5, 21, 6, 11, 920648),\n",
       "                          datetime.datetime(2022, 8, 4, 21, 6, 11, 920648),\n",
       "                          datetime.datetime(2022, 8, 3, 21, 6, 11, 920648),\n",
       "                          datetime.datetime(2022, 8, 2, 21, 6, 11, 920648),\n",
       "                          datetime.datetime(2022, 8, 1, 21, 6, 11, 920648),\n",
       "                          datetime.datetime(2022, 7, 31, 21, 6, 11, 920648),\n",
       "                          datetime.datetime(2022, 7, 30, 21, 6, 11, 920648),\n",
       "                          datetime.datetime(2022, 7, 29, 21, 6, 11, 920648),\n",
       "                          datetime.datetime(2022, 7, 28, 21, 6, 11, 920648),\n",
       "                          datetime.datetime(2022, 7, 27, 21, 6, 11, 920648),\n",
       "                          datetime.datetime(2022, 7, 26, 21, 6, 11, 920648),\n",
       "                          datetime.datetime(2022, 7, 25, 21, 6, 11, 920648),\n",
       "                          datetime.datetime(2022, 7, 24, 21, 6, 11, 920648),\n",
       "                          datetime.datetime(2022, 7, 23, 21, 6, 11, 920648),\n",
       "                          datetime.datetime(2022, 7, 22, 21, 6, 11, 920648),\n",
       "                          datetime.datetime(2022, 7, 21, 21, 6, 11, 920648),\n",
       "                          datetime.datetime(2022, 7, 20, 21, 6, 11, 920648),\n",
       "                          datetime.datetime(2022, 7, 19, 21, 6, 11, 920648),\n",
       "                          datetime.datetime(2022, 7, 18, 21, 6, 11, 920648),\n",
       "                          datetime.datetime(2022, 7, 17, 21, 6, 11, 920648),\n",
       "                          datetime.datetime(2022, 7, 16, 21, 6, 11, 920648),\n",
       "                          datetime.datetime(2022, 7, 15, 21, 6, 11, 920648),\n",
       "                          datetime.datetime(2022, 7, 14, 21, 6, 11, 920648),\n",
       "                          datetime.datetime(2022, 7, 13, 21, 6, 11, 920648),\n",
       "                          datetime.datetime(2022, 7, 12, 21, 6, 11, 920648),\n",
       "                          datetime.datetime(2022, 7, 11, 21, 6, 11, 920648),\n",
       "                          datetime.datetime(2022, 7, 10, 21, 6, 11, 920648),\n",
       "                          datetime.datetime(2022, 7, 9, 21, 6, 11, 920648),\n",
       "                          datetime.datetime(2022, 7, 8, 21, 6, 11, 920648),\n",
       "                          datetime.datetime(2022, 7, 7, 21, 6, 11, 920648),\n",
       "                          datetime.datetime(2022, 7, 6, 21, 6, 11, 920648),\n",
       "                          datetime.datetime(2022, 7, 5, 21, 6, 11, 920648),\n",
       "                          datetime.datetime(2022, 7, 4, 21, 6, 11, 920648),\n",
       "                          datetime.datetime(2022, 7, 3, 21, 6, 11, 920648),\n",
       "                          datetime.datetime(2022, 7, 2, 21, 6, 11, 920648),\n",
       "                          datetime.datetime(2022, 7, 1, 21, 6, 11, 920648),\n",
       "                          datetime.datetime(2022, 6, 30, 21, 6, 11, 920648),\n",
       "                          datetime.datetime(2022, 6, 29, 21, 6, 11, 920648),\n",
       "                          datetime.datetime(2022, 6, 28, 21, 6, 11, 920648),\n",
       "                          datetime.datetime(2022, 6, 27, 21, 6, 11, 920648),\n",
       "                          datetime.datetime(2022, 6, 26, 21, 6, 11, 920648),\n",
       "                          datetime.datetime(2022, 6, 25, 21, 6, 11, 920648),\n",
       "                          datetime.datetime(2022, 6, 24, 21, 6, 11, 920648),\n",
       "                          datetime.datetime(2022, 6, 23, 21, 6, 11, 920648),\n",
       "                          datetime.datetime(2022, 6, 22, 21, 6, 11, 920648),\n",
       "                          datetime.datetime(2022, 6, 21, 21, 6, 11, 920648),\n",
       "                          datetime.datetime(2022, 6, 20, 21, 6, 11, 920648),\n",
       "                          datetime.datetime(2022, 6, 19, 21, 6, 11, 920648),\n",
       "                          datetime.datetime(2022, 6, 18, 21, 6, 11, 920648),\n",
       "                          datetime.datetime(2022, 6, 17, 21, 6, 11, 920648),\n",
       "                          datetime.datetime(2022, 6, 16, 21, 6, 11, 920648),\n",
       "                          datetime.datetime(2022, 6, 15, 21, 6, 11, 920648),\n",
       "                          datetime.datetime(2022, 6, 14, 21, 6, 11, 920648),\n",
       "                          datetime.datetime(2022, 6, 13, 21, 6, 11, 920648),\n",
       "                          datetime.datetime(2022, 6, 12, 21, 6, 11, 920648),\n",
       "                          datetime.datetime(2022, 6, 11, 21, 6, 11, 920648),\n",
       "                          datetime.datetime(2022, 6, 10, 21, 6, 11, 920648),\n",
       "                          datetime.datetime(2022, 6, 9, 21, 6, 11, 920648),\n",
       "                          datetime.datetime(2022, 6, 8, 21, 6, 11, 920648),\n",
       "                          datetime.datetime(2022, 6, 7, 21, 6, 11, 920648),\n",
       "                          datetime.datetime(2022, 6, 6, 21, 6, 11, 920648),\n",
       "                          datetime.datetime(2022, 6, 5, 21, 6, 11, 920648),\n",
       "                          datetime.datetime(2022, 6, 4, 21, 6, 11, 920648),\n",
       "                          datetime.datetime(2022, 6, 3, 21, 6, 11, 920648),\n",
       "                          datetime.datetime(2022, 6, 2, 21, 6, 11, 920648),\n",
       "                          datetime.datetime(2022, 6, 1, 21, 6, 11, 920648),\n",
       "                          datetime.datetime(2022, 5, 31, 21, 6, 11, 920648),\n",
       "                          datetime.datetime(2022, 5, 30, 21, 6, 11, 920648),\n",
       "                          datetime.datetime(2022, 5, 29, 21, 6, 11, 920648),\n",
       "                          datetime.datetime(2022, 5, 28, 21, 6, 11, 920648),\n",
       "                          datetime.datetime(2022, 5, 27, 21, 6, 11, 920648),\n",
       "                          datetime.datetime(2022, 5, 26, 21, 6, 11, 920648),\n",
       "                          datetime.datetime(2022, 5, 25, 21, 6, 11, 920648),\n",
       "                          datetime.datetime(2022, 5, 24, 21, 6, 11, 920648),\n",
       "                          datetime.datetime(2022, 5, 23, 21, 6, 11, 920648),\n",
       "                          datetime.datetime(2022, 5, 22, 21, 6, 11, 920648),\n",
       "                          datetime.datetime(2022, 5, 21, 21, 6, 11, 920648),\n",
       "                          datetime.datetime(2022, 5, 20, 21, 6, 11, 920648),\n",
       "                          datetime.datetime(2022, 5, 19, 21, 6, 11, 920648),\n",
       "                          datetime.datetime(2022, 5, 18, 21, 6, 11, 920648),\n",
       "                          datetime.datetime(2022, 5, 17, 21, 6, 11, 920648),\n",
       "                          datetime.datetime(2022, 5, 16, 21, 6, 11, 920648),\n",
       "                          datetime.datetime(2022, 5, 15, 21, 6, 11, 920648),\n",
       "                          datetime.datetime(2022, 5, 14, 21, 6, 11, 920648),\n",
       "                          datetime.datetime(2022, 5, 13, 21, 6, 11, 920648),\n",
       "                          datetime.datetime(2022, 5, 12, 21, 6, 11, 920648),\n",
       "                          datetime.datetime(2022, 5, 11, 21, 6, 11, 920648),\n",
       "                          datetime.datetime(2022, 5, 10, 21, 6, 11, 920648),\n",
       "                          datetime.datetime(2022, 5, 9, 21, 6, 11, 920648),\n",
       "                          datetime.datetime(2022, 5, 8, 21, 6, 11, 920648),\n",
       "                          datetime.datetime(2022, 5, 7, 21, 6, 11, 920648),\n",
       "                          datetime.datetime(2022, 5, 6, 21, 6, 11, 920648),\n",
       "                          datetime.datetime(2022, 5, 5, 21, 6, 11, 920648),\n",
       "                          datetime.datetime(2022, 5, 4, 21, 6, 11, 920648),\n",
       "                          datetime.datetime(2022, 5, 3, 21, 6, 11, 920648)], dtype=object),\n",
       "              'y': [Alex, Nicole, Sara, Etienne, Chelsea, Jody, Marianne],\n",
       "              'z': array([[1, 0, 0, ..., 2, 0, 0],\n",
       "                          [0, 0, 1, ..., 2, 1, 1],\n",
       "                          [2, 2, 1, ..., 2, 0, 1],\n",
       "                          ...,\n",
       "                          [2, 0, 1, ..., 0, 2, 1],\n",
       "                          [1, 1, 2, ..., 2, 1, 1],\n",
       "                          [1, 1, 1, ..., 0, 0, 2]])}],\n",
       "    'layout': {'template': '...', 'title': {'text': 'GitHub commits per day'}, 'xaxis': {'nticks': 36}}\n",
       "})"
      ]
     },
     "execution_count": 3,
     "metadata": {},
     "output_type": "execute_result"
    }
   ],
   "source": [
    "import plotly.graph_objects as go\n",
    "import datetime\n",
    "import numpy as np\n",
    "np.random.seed(1)\n",
    "\n",
    "programmers = ['Alex','Nicole','Sara','Etienne','Chelsea','Jody','Marianne']\n",
    "\n",
    "base = datetime.datetime.today()\n",
    "dates = base - np.arange(180) * datetime.timedelta(days=1)\n",
    "z = np.random.poisson(size=(len(programmers), len(dates)))\n",
    "\n",
    "fig = go.Figure(data=go.Heatmap(\n",
    "        z=z,\n",
    "        x=dates,\n",
    "        y=programmers,\n",
    "        colorscale='Viridis'))\n",
    "\n",
    "fig.update_layout(\n",
    "    title='GitHub commits per day',\n",
    "    xaxis_nticks=36)\n",
    "\n",
    "#fig.show()"
   ]
  },
  {
   "cell_type": "code",
   "execution_count": 1,
   "metadata": {},
   "outputs": [],
   "source": [
    "#data = pd.read_csv('src/visualization/simDTS.csv')\n",
    "import pandas as pd\n",
    "data = pd.read_csv('simDTS.csv')"
   ]
  },
  {
   "cell_type": "code",
   "execution_count": 2,
   "metadata": {},
   "outputs": [
    {
     "data": {
      "text/html": [
       "<div>\n",
       "<style scoped>\n",
       "    .dataframe tbody tr th:only-of-type {\n",
       "        vertical-align: middle;\n",
       "    }\n",
       "\n",
       "    .dataframe tbody tr th {\n",
       "        vertical-align: top;\n",
       "    }\n",
       "\n",
       "    .dataframe thead th {\n",
       "        text-align: right;\n",
       "    }\n",
       "</style>\n",
       "<table border=\"1\" class=\"dataframe\">\n",
       "  <thead>\n",
       "    <tr style=\"text-align: right;\">\n",
       "      <th></th>\n",
       "      <th></th>\n",
       "      <th>def_num</th>\n",
       "      <th>number</th>\n",
       "      <th>dr</th>\n",
       "    </tr>\n",
       "    <tr>\n",
       "      <th>t</th>\n",
       "      <th>int_c</th>\n",
       "      <th></th>\n",
       "      <th></th>\n",
       "      <th></th>\n",
       "    </tr>\n",
       "  </thead>\n",
       "  <tbody>\n",
       "    <tr>\n",
       "      <th rowspan=\"5\" valign=\"top\">1</th>\n",
       "      <th>2</th>\n",
       "      <td>0</td>\n",
       "      <td>2831</td>\n",
       "      <td>0.000000</td>\n",
       "    </tr>\n",
       "    <tr>\n",
       "      <th>3</th>\n",
       "      <td>0</td>\n",
       "      <td>2956</td>\n",
       "      <td>0.000000</td>\n",
       "    </tr>\n",
       "    <tr>\n",
       "      <th>4</th>\n",
       "      <td>0</td>\n",
       "      <td>2917</td>\n",
       "      <td>0.000000</td>\n",
       "    </tr>\n",
       "    <tr>\n",
       "      <th>5</th>\n",
       "      <td>0</td>\n",
       "      <td>2888</td>\n",
       "      <td>0.000000</td>\n",
       "    </tr>\n",
       "    <tr>\n",
       "      <th>6</th>\n",
       "      <td>0</td>\n",
       "      <td>2766</td>\n",
       "      <td>0.000000</td>\n",
       "    </tr>\n",
       "    <tr>\n",
       "      <th>...</th>\n",
       "      <th>...</th>\n",
       "      <td>...</td>\n",
       "      <td>...</td>\n",
       "      <td>...</td>\n",
       "    </tr>\n",
       "    <tr>\n",
       "      <th rowspan=\"5\" valign=\"top\">24</th>\n",
       "      <th>55</th>\n",
       "      <td>1</td>\n",
       "      <td>2835</td>\n",
       "      <td>0.000353</td>\n",
       "    </tr>\n",
       "    <tr>\n",
       "      <th>56</th>\n",
       "      <td>0</td>\n",
       "      <td>2831</td>\n",
       "      <td>0.000000</td>\n",
       "    </tr>\n",
       "    <tr>\n",
       "      <th>57</th>\n",
       "      <td>1</td>\n",
       "      <td>2761</td>\n",
       "      <td>0.000362</td>\n",
       "    </tr>\n",
       "    <tr>\n",
       "      <th>58</th>\n",
       "      <td>2</td>\n",
       "      <td>2749</td>\n",
       "      <td>0.000728</td>\n",
       "    </tr>\n",
       "    <tr>\n",
       "      <th>59</th>\n",
       "      <td>0</td>\n",
       "      <td>2807</td>\n",
       "      <td>0.000000</td>\n",
       "    </tr>\n",
       "  </tbody>\n",
       "</table>\n",
       "<p>840 rows × 3 columns</p>\n",
       "</div>"
      ],
      "text/plain": [
       "          def_num  number        dr\n",
       "t  int_c                           \n",
       "1  2            0    2831  0.000000\n",
       "   3            0    2956  0.000000\n",
       "   4            0    2917  0.000000\n",
       "   5            0    2888  0.000000\n",
       "   6            0    2766  0.000000\n",
       "...           ...     ...       ...\n",
       "24 55           1    2835  0.000353\n",
       "   56           0    2831  0.000000\n",
       "   57           1    2761  0.000362\n",
       "   58           2    2749  0.000728\n",
       "   59           0    2807  0.000000\n",
       "\n",
       "[840 rows x 3 columns]"
      ]
     },
     "execution_count": 2,
     "metadata": {},
     "output_type": "execute_result"
    }
   ],
   "source": [
    "data['int_c'] = data['v'] + data['t']\n",
    "grouped_data = data.groupby(['t','int_c']).agg(def_num = ('y','sum'),number = ('t','count'),dr=('y','sum'))\n",
    "grouped_data[\"dr\"] = grouped_data[\"dr\"]/grouped_data[\"number\"]\n",
    "grouped_data"
   ]
  },
  {
   "cell_type": "code",
   "execution_count": 5,
   "metadata": {},
   "outputs": [
    {
     "name": "stdout",
     "output_type": "stream",
     "text": [
      "58 24\n"
     ]
    },
    {
     "data": {
      "text/plain": [
       "[datetime.datetime(2019, 3, 1, 0, 0),\n",
       " datetime.datetime(2019, 4, 1, 0, 0),\n",
       " datetime.datetime(2019, 5, 1, 0, 0),\n",
       " datetime.datetime(2019, 6, 1, 0, 0),\n",
       " datetime.datetime(2019, 7, 1, 0, 0),\n",
       " datetime.datetime(2019, 8, 1, 0, 0),\n",
       " datetime.datetime(2019, 9, 1, 0, 0),\n",
       " datetime.datetime(2019, 10, 1, 0, 0),\n",
       " datetime.datetime(2019, 11, 1, 0, 0),\n",
       " datetime.datetime(2019, 12, 1, 0, 0),\n",
       " datetime.datetime(2020, 1, 1, 0, 0),\n",
       " datetime.datetime(2020, 2, 1, 0, 0),\n",
       " datetime.datetime(2020, 3, 1, 0, 0),\n",
       " datetime.datetime(2020, 4, 1, 0, 0),\n",
       " datetime.datetime(2020, 5, 1, 0, 0),\n",
       " datetime.datetime(2020, 6, 1, 0, 0),\n",
       " datetime.datetime(2020, 7, 1, 0, 0),\n",
       " datetime.datetime(2020, 8, 1, 0, 0),\n",
       " datetime.datetime(2020, 9, 1, 0, 0),\n",
       " datetime.datetime(2020, 10, 1, 0, 0),\n",
       " datetime.datetime(2020, 11, 1, 0, 0),\n",
       " datetime.datetime(2020, 12, 1, 0, 0),\n",
       " datetime.datetime(2021, 1, 1, 0, 0),\n",
       " datetime.datetime(2021, 2, 1, 0, 0),\n",
       " datetime.datetime(2021, 3, 1, 0, 0),\n",
       " datetime.datetime(2021, 4, 1, 0, 0),\n",
       " datetime.datetime(2021, 5, 1, 0, 0),\n",
       " datetime.datetime(2021, 6, 1, 0, 0),\n",
       " datetime.datetime(2021, 7, 1, 0, 0),\n",
       " datetime.datetime(2021, 8, 1, 0, 0),\n",
       " datetime.datetime(2021, 9, 1, 0, 0),\n",
       " datetime.datetime(2021, 10, 1, 0, 0),\n",
       " datetime.datetime(2021, 11, 1, 0, 0),\n",
       " datetime.datetime(2021, 12, 1, 0, 0),\n",
       " datetime.datetime(2022, 1, 1, 0, 0),\n",
       " datetime.datetime(2022, 2, 1, 0, 0),\n",
       " datetime.datetime(2022, 3, 1, 0, 0),\n",
       " datetime.datetime(2022, 4, 1, 0, 0),\n",
       " datetime.datetime(2022, 5, 1, 0, 0),\n",
       " datetime.datetime(2022, 6, 1, 0, 0),\n",
       " datetime.datetime(2022, 7, 1, 0, 0),\n",
       " datetime.datetime(2022, 8, 1, 0, 0),\n",
       " datetime.datetime(2022, 9, 1, 0, 0),\n",
       " datetime.datetime(2022, 10, 1, 0, 0),\n",
       " datetime.datetime(2022, 11, 1, 0, 0),\n",
       " datetime.datetime(2022, 12, 1, 0, 0),\n",
       " datetime.datetime(2023, 1, 1, 0, 0),\n",
       " datetime.datetime(2023, 2, 1, 0, 0),\n",
       " datetime.datetime(2023, 3, 1, 0, 0),\n",
       " datetime.datetime(2023, 4, 1, 0, 0),\n",
       " datetime.datetime(2023, 5, 1, 0, 0),\n",
       " datetime.datetime(2023, 6, 1, 0, 0),\n",
       " datetime.datetime(2023, 7, 1, 0, 0),\n",
       " datetime.datetime(2023, 8, 1, 0, 0),\n",
       " datetime.datetime(2023, 9, 1, 0, 0),\n",
       " datetime.datetime(2023, 10, 1, 0, 0),\n",
       " datetime.datetime(2023, 11, 1, 0, 0),\n",
       " datetime.datetime(2023, 12, 1, 0, 0)]"
      ]
     },
     "execution_count": 5,
     "metadata": {},
     "output_type": "execute_result"
    }
   ],
   "source": [
    "import numpy as np\n",
    "from datetime import datetime,timedelta\n",
    "from dateutil.relativedelta import relativedelta\n",
    "start_date = datetime(2019,1,1)\n",
    "\n",
    "\n",
    "\n",
    "int_c_indices = []\n",
    "t_indices = []\n",
    "for index in grouped_data.index:\n",
    "    int_c_indices.append(index[1])\n",
    "    t_indices.append(index[0])\n",
    "int_c_indices = list(set(int_c_indices))\n",
    "t_indices = list(set(t_indices))\n",
    "print(len(int_c_indices), len(t_indices))\n",
    "#print(grouped_data.index)\n",
    "all_index = []\n",
    "for y in t_indices:\n",
    "    for x in int_c_indices:\n",
    "        all_index.append((y, x))\n",
    "#print(int_c_indices)\n",
    "z_values = []\n",
    "for index in all_index:\n",
    "    if index in grouped_data.index:\n",
    "        z_values.append(grouped_data._get_value(index, 'dr'))\n",
    "    else:\n",
    "        z_values.append(None)\n",
    "z_indices = []\n",
    "for line in np.reshape(z_values, (len(t_indices), len(int_c_indices))):\n",
    "    z_indices.append(list(line))\n",
    "#print(z_indices)\n",
    "c_indices =[]\n",
    "for i in int_c_indices:\n",
    "    c = start_date + relativedelta(months=i)\n",
    "    c_indices.append(c)\n",
    "c_indices"
   ]
  },
  {
   "cell_type": "code",
   "execution_count": 7,
   "metadata": {},
   "outputs": [
    {
     "data": {
      "application/vnd.plotly.v1+json": {
       "config": {
        "plotlyServerURL": "https://plot.ly"
       },
       "data": [
        {
         "hoverongaps": false,
         "type": "heatmap",
         "x": [
          "2019-03-01T00:00:00",
          "2019-04-01T00:00:00",
          "2019-05-01T00:00:00",
          "2019-06-01T00:00:00",
          "2019-07-01T00:00:00",
          "2019-08-01T00:00:00",
          "2019-09-01T00:00:00",
          "2019-10-01T00:00:00",
          "2019-11-01T00:00:00",
          "2019-12-01T00:00:00",
          "2020-01-01T00:00:00",
          "2020-02-01T00:00:00",
          "2020-03-01T00:00:00",
          "2020-04-01T00:00:00",
          "2020-05-01T00:00:00",
          "2020-06-01T00:00:00",
          "2020-07-01T00:00:00",
          "2020-08-01T00:00:00",
          "2020-09-01T00:00:00",
          "2020-10-01T00:00:00",
          "2020-11-01T00:00:00",
          "2020-12-01T00:00:00",
          "2021-01-01T00:00:00",
          "2021-02-01T00:00:00",
          "2021-03-01T00:00:00",
          "2021-04-01T00:00:00",
          "2021-05-01T00:00:00",
          "2021-06-01T00:00:00",
          "2021-07-01T00:00:00",
          "2021-08-01T00:00:00",
          "2021-09-01T00:00:00",
          "2021-10-01T00:00:00",
          "2021-11-01T00:00:00",
          "2021-12-01T00:00:00",
          "2022-01-01T00:00:00",
          "2022-02-01T00:00:00",
          "2022-03-01T00:00:00",
          "2022-04-01T00:00:00",
          "2022-05-01T00:00:00",
          "2022-06-01T00:00:00",
          "2022-07-01T00:00:00",
          "2022-08-01T00:00:00",
          "2022-09-01T00:00:00",
          "2022-10-01T00:00:00",
          "2022-11-01T00:00:00",
          "2022-12-01T00:00:00",
          "2023-01-01T00:00:00",
          "2023-02-01T00:00:00",
          "2023-03-01T00:00:00",
          "2023-04-01T00:00:00",
          "2023-05-01T00:00:00",
          "2023-06-01T00:00:00",
          "2023-07-01T00:00:00",
          "2023-08-01T00:00:00",
          "2023-09-01T00:00:00",
          "2023-10-01T00:00:00",
          "2023-11-01T00:00:00",
          "2023-12-01T00:00:00"
         ],
         "y": [
          1,
          2,
          3,
          4,
          5,
          6,
          7,
          8,
          9,
          10,
          11,
          12,
          13,
          14,
          15,
          16,
          17,
          18,
          19,
          20,
          21,
          22,
          23,
          24
         ],
         "z": [
          [
           0,
           0,
           0,
           0,
           0,
           0,
           0,
           0,
           0,
           0,
           0,
           0,
           0,
           0,
           0,
           0,
           0,
           0,
           0,
           0,
           0,
           0,
           0,
           0,
           0,
           0,
           0,
           0,
           0,
           0,
           0,
           0,
           0,
           0,
           0,
           null,
           null,
           null,
           null,
           null,
           null,
           null,
           null,
           null,
           null,
           null,
           null,
           null,
           null,
           null,
           null,
           null,
           null,
           null,
           null,
           null,
           null,
           null
          ],
          [
           null,
           0,
           0,
           0,
           0,
           0,
           0,
           0,
           0,
           0,
           0,
           0,
           0,
           0,
           0,
           0,
           0,
           0,
           0,
           0,
           0,
           0,
           0,
           0,
           0,
           0,
           0,
           0,
           0,
           0,
           0,
           0,
           0,
           0,
           0,
           0,
           null,
           null,
           null,
           null,
           null,
           null,
           null,
           null,
           null,
           null,
           null,
           null,
           null,
           null,
           null,
           null,
           null,
           null,
           null,
           null,
           null,
           null
          ],
          [
           null,
           null,
           0,
           0,
           0,
           0.00034626038781163435,
           0.00036153289949385393,
           0,
           0,
           0,
           0,
           0,
           0,
           0.00035373187124159886,
           0,
           0.0007002801120448179,
           0.00035919540229885057,
           0,
           0.00035385704175513094,
           0,
           0,
           0,
           0,
           0,
           0,
           0,
           0,
           0.0003447087211306446,
           0,
           0,
           0,
           0,
           0,
           0,
           0,
           0.00035790980672870435,
           0,
           null,
           null,
           null,
           null,
           null,
           null,
           null,
           null,
           null,
           null,
           null,
           null,
           null,
           null,
           null,
           null,
           null,
           null,
           null,
           null,
           null
          ],
          [
           null,
           null,
           null,
           0.00035323207347227127,
           0,
           0,
           0,
           0.0003616636528028933,
           0.00034223134839151266,
           0,
           0.0007024938531787847,
           0.00033944331296673454,
           0.0007186489399928135,
           0.0003477051460361613,
           0,
           0.0010589481115425344,
           0.000700770847932726,
           0.0010779734099892202,
           0.001026694045174538,
           0,
           0,
           0,
           0,
           0,
           0,
           0.0006889424733034792,
           0.00034234851078397807,
           0.00034818941504178273,
           0.0010344827586206897,
           0,
           0.000357653791130186,
           0.001055223355610271,
           0,
           0.00034818941504178273,
           0.0003480682213713888,
           0,
           0,
           0.000350385423966363,
           null,
           null,
           null,
           null,
           null,
           null,
           null,
           null,
           null,
           null,
           null,
           null,
           null,
           null,
           null,
           null,
           null,
           null,
           null,
           null
          ],
          [
           null,
           null,
           null,
           null,
           0.0007067137809187279,
           0.0006765899864682003,
           0,
           0.00034638032559750607,
           0.000361794500723589,
           0.0006846970215679561,
           0.0006786562606040041,
           0.000351493848857645,
           0.0020373514431239388,
           0.000719165767709457,
           0,
           0.0007077140835102619,
           0,
           0.0010518934081346423,
           0.0017985611510791368,
           0.0006851661527920521,
           0.0007079646017699115,
           0.0013903371567605145,
           0.0007002801120448179,
           0.0007049700387733521,
           0.0010600706713780918,
           0.0010787486515641855,
           0.001034126163391934,
           0.0006849315068493151,
           0.00034831069313827936,
           0.0017259233690024164,
           0.0006985679357317499,
           0.00035778175313059033,
           0.00035211267605633805,
           0.001072194424588992,
           0,
           0.0010445682451253482,
           0,
           0.0007160759040458289,
           0.0003505082369435682,
           null,
           null,
           null,
           null,
           null,
           null,
           null,
           null,
           null,
           null,
           null,
           null,
           null,
           null,
           null,
           null,
           null,
           null,
           null
          ],
          [
           null,
           null,
           null,
           null,
           null,
           0,
           0.0013540961408259986,
           0.0010284538909838875,
           0.0010395010395010396,
           0.0010857763300760044,
           0.0006851661527920521,
           0.0006791171477079797,
           0.0007032348804500703,
           0.0013610071452875127,
           0.0003598416696653472,
           0,
           0,
           0.0014134275618374558,
           0.000351000351000351,
           0.0014414414414414415,
           0.0010284538909838875,
           0.001771165426850868,
           0.0010442046641141664,
           0.000700770847932726,
           0.0003527336860670194,
           0.0007074637424831977,
           0.0003599712023038157,
           0.0003450655624568668,
           0.0006854009595613434,
           0.0003484320557491289,
           0,
           0.0013981125480601187,
           0.0007158196134574087,
           0.0014089468122578373,
           0.0017889087656529517,
           0.00034831069313827936,
           0.0003485535029627048,
           0.0010706638115631692,
           0.0007165890361877463,
           0.0010518934081346423,
           null,
           null,
           null,
           null,
           null,
           null,
           null,
           null,
           null,
           null,
           null,
           null,
           null,
           null,
           null,
           null,
           null,
           null
          ],
          [
           null,
           null,
           null,
           null,
           null,
           null,
           0.0007072135785007072,
           0.001016949152542373,
           0.0006863417982155113,
           0.001040582726326743,
           0.00036231884057971015,
           0.002742543709290367,
           0.0013591573224600749,
           0.0007037297677691766,
           0.0010221465076660989,
           0.0007199424046076314,
           0.0010434782608695651,
           0.0017705382436260624,
           0.00035385704175513094,
           0.002106741573033708,
           0.0007217610970768675,
           0.0006863417982155113,
           0.0014194464158978,
           0.0006968641114982578,
           0.0017531556802244039,
           0.00035285815102328866,
           0.001415929203539823,
           0.0007202016564638099,
           0.001380738695201933,
           0.00102880658436214,
           0.0006971070059254096,
           0.0017289073305670815,
           0.0007000350017500875,
           0.0010744985673352436,
           0.0014109347442680777,
           0.0014336917562724014,
           0.0006968641114982578,
           0.0010460251046025104,
           0.0017863522686673813,
           0.0010756543564001434,
           0.001053001053001053,
           null,
           null,
           null,
           null,
           null,
           null,
           null,
           null,
           null,
           null,
           null,
           null,
           null,
           null,
           null,
           null,
           null
          ],
          [
           null,
           null,
           null,
           null,
           null,
           null,
           null,
           0.0007077140835102619,
           0.00033932813030200206,
           0.0010302197802197802,
           0.0010416666666666667,
           0.0003624501631025734,
           0.002062564455139223,
           0.0010207553589656345,
           0,
           0.0010231923601637107,
           0.0007204610951008645,
           0.002437325905292479,
           0.001064207165661582,
           0.0007079646017699115,
           0,
           0.0018057060310581437,
           0.0010302197802197802,
           0.0010660980810234541,
           0.0003486750348675035,
           0.0017562346329469617,
           0.0017649135192375574,
           0.0007089684509039348,
           0.0007207207207207207,
           0.0010369858278603526,
           0.0006865774116031583,
           0.002441576560865016,
           0.0013855213023900243,
           0.0003502626970227671,
           0.0017927572606669057,
           0.0010596962204168139,
           0.0014357501794687725,
           0.0003486750348675035,
           0.0006980802792321117,
           0.0007158196134574087,
           0.0010768126346015793,
           0.0017568517217146872,
           null,
           null,
           null,
           null,
           null,
           null,
           null,
           null,
           null,
           null,
           null,
           null,
           null,
           null,
           null,
           null
          ],
          [
           null,
           null,
           null,
           null,
           null,
           null,
           null,
           null,
           0.0003541076487252125,
           0.0010183299389002036,
           0.0010312822275696115,
           0.0013903371567605145,
           0.0007251631617113851,
           0.0013778849466069584,
           0.0006811989100817438,
           0.002112676056338028,
           0.0003414134516899966,
           0.0007209805335255948,
           0.00034904013961605586,
           0.0007102272727272727,
           0.001771165426850868,
           0.0003518648838845883,
           0.000361794500723589,
           0,
           0.0003557452863749555,
           0.0010463899546564353,
           0.0014074595355383533,
           0.0007072135785007072,
           0.001418942887548776,
           0.000721240533717995,
           0.00034602076124567473,
           0,
           0.002097902097902098,
           0.001040582726326743,
           0.001751927119831815,
           0.0010775862068965517,
           0.0003536067892503536,
           0.0014378145219266715,
           0.0006975933031042902,
           0.00209570380719525,
           0,
           0.001437297879985627,
           0.0014079549454417458,
           null,
           null,
           null,
           null,
           null,
           null,
           null,
           null,
           null,
           null,
           null,
           null,
           null,
           null,
           null
          ],
          [
           null,
           null,
           null,
           null,
           null,
           null,
           null,
           null,
           null,
           0.00035423308537017357,
           0,
           0.0010323468685478321,
           0.0013922728854855553,
           0.0025399129172714078,
           0.00034494653328734045,
           0.0010224948875255625,
           0.001058574453069866,
           0.0010245901639344263,
           0.0007215007215007215,
           0.0017458100558659217,
           0.0007107320540156361,
           0.0014194464158978,
           0.0010559662090813093,
           0,
           0.0017188037126160192,
           0.002491103202846975,
           0.0013966480446927375,
           0.0010570824524312897,
           0.0010615711252653928,
           0.0010657193605683837,
           0.0010826416456153013,
           0.0006922810661128419,
           0.0017176228100309172,
           0.001051156271899089,
           0.0010416666666666667,
           0.001053001053001053,
           0.000719165767709457,
           0.0007074637424831977,
           0.0010799136069114472,
           0.0010471204188481676,
           0.0007000350017500875,
           0.0010744985673352436,
           0.0025188916876574307,
           0.0014099400775467042,
           null,
           null,
           null,
           null,
           null,
           null,
           null,
           null,
           null,
           null,
           null,
           null,
           null,
           null
          ],
          [
           null,
           null,
           null,
           null,
           null,
           null,
           null,
           null,
           null,
           null,
           0.00035435861091424523,
           0.0010193679918450561,
           0,
           0.0003485535029627048,
           0.0003637686431429611,
           0.001725327812284334,
           0.001364721937905152,
           0.001412928293889085,
           0.0006837606837606838,
           0.00036101083032490973,
           0.0006995452955578874,
           0.0010668563300142249,
           0.0007107320540156361,
           0.0010570824524312897,
           0.0010857763300760044,
           0.0010330578512396695,
           0.0010702818408847663,
           0.002097902097902098,
           0.0010582010582010583,
           0.00035423308537017357,
           0.0010668563300142249,
           0.000361271676300578,
           0.00034638032559750607,
           0.0010323468685478321,
           0,
           0.0010427528675703858,
           0.0017568517217146872,
           0.0010795250089960418,
           0,
           0.0014414414414414415,
           0.001397624039133473,
           0.0010507880910683013,
           0.0017927572606669057,
           0.0010822510822510823,
           0.0007059654076950229,
           null,
           null,
           null,
           null,
           null,
           null,
           null,
           null,
           null,
           null,
           null,
           null,
           null
          ],
          [
           null,
           null,
           null,
           null,
           null,
           null,
           null,
           null,
           null,
           null,
           null,
           0.0003544842254519674,
           0.0027210884353741495,
           0.0006889424733034792,
           0.000697350069735007,
           0.000363901018922853,
           0.00138264777048047,
           0.0006832934745473181,
           0,
           0,
           0.0007222824124232575,
           0,
           0.001067995728017088,
           0.0010668563300142249,
           0.0010582010582010583,
           0.0014492753623188406,
           0.0006894174422612892,
           0.0010714285714285715,
           0.000350385423966363,
           0.0007062146892655367,
           0.0010630758327427356,
           0.001067995728017088,
           0.0010842067220816769,
           0.0003465003465003465,
           0.0003444712366517396,
           0.00035075412136092597,
           0.0003479471120389701,
           0.0017599436818021823,
           0.001080691642651297,
           0.001415929203539823,
           0,
           0.0010496850944716584,
           0.001402524544179523,
           0.00035919540229885057,
           0.0007222824124232575,
           0.0007064641469445425,
           null,
           null,
           null,
           null,
           null,
           null,
           null,
           null,
           null,
           null,
           null,
           null
          ],
          [
           null,
           null,
           null,
           null,
           null,
           null,
           null,
           null,
           null,
           null,
           null,
           null,
           0.002127659574468085,
           0.0010231923601637107,
           0,
           0.0003489183531053733,
           0.0007280669821623589,
           0,
           0,
           0.0007074637424831977,
           0.0006842285323297981,
           0.0010842067220816769,
           0.0010500525026251313,
           0.0003563791874554526,
           0.000711997152011392,
           0.001059322033898305,
           0.000725689404934688,
           0.0010348395998620215,
           0.0014301036825169824,
           0.0003505082369435682,
           0.00035335689045936394,
           0.000709471443774388,
           0,
           0.001447178002894356,
           0.0010398613518197574,
           0.00034458993797381116,
           0.0017543859649122807,
           0.0010442046641141664,
           0.0014104372355430183,
           0.0010818608005769925,
           0.0007089684509039348,
           0.0007217610970768675,
           0.0010507880910683013,
           0.0007022471910112359,
           0.0007186489399928135,
           0.0003614022406938923,
           0.0007069635913750442,
           null,
           null,
           null,
           null,
           null,
           null,
           null,
           null,
           null,
           null,
           null
          ],
          [
           null,
           null,
           null,
           null,
           null,
           null,
           null,
           null,
           null,
           null,
           null,
           null,
           null,
           0.00035536602700781805,
           0.0006828269033799932,
           0.0003447087211306446,
           0.0006980802792321117,
           0.001092896174863388,
           0.0006922810661128419,
           0.0003418803418803419,
           0.00035398230088495576,
           0.0010270455323519343,
           0,
           0.000700770847932726,
           0.00142602495543672,
           0.0007125044531528322,
           0.0014139271827500884,
           0.00036310820624546115,
           0.0006906077348066298,
           0.00035803795202291446,
           0.001402524544179523,
           0.0010604453870625664,
           0.0007099751508697196,
           0.0021382751247327157,
           0.00036231884057971015,
           0.0013879250520471894,
           0.001723543605653223,
           0.001054481546572935,
           0.0010452961672473868,
           0,
           0.0021660649819494585,
           0.000354735721887194,
           0.0007222824124232575,
           0.0010518934081346423,
           0.0007027406886858749,
           0.000719165767709457,
           0.0007230657989877079,
           0.0010611956137247967,
           null,
           null,
           null,
           null,
           null,
           null,
           null,
           null,
           null,
           null
          ],
          [
           null,
           null,
           null,
           null,
           null,
           null,
           null,
           null,
           null,
           null,
           null,
           null,
           null,
           null,
           0.0007109847138286527,
           0.0010249402118209772,
           0.000689655172413793,
           0.00034928396786587494,
           0.00036469730123997083,
           0.00034638032559750607,
           0,
           0.0010623229461756375,
           0,
           0.001447178002894356,
           0.0007012622720897616,
           0.0007140307033202428,
           0.00142602495543672,
           0.0007079646017699115,
           0.0003632401017072285,
           0,
           0.0007163323782234957,
           0.0007022471910112359,
           0.00035385704175513094,
           0.0010657193605683837,
           0.0007142857142857143,
           0.0007249003262051468,
           0,
           0,
           0.0028149190710767065,
           0.0006975933031042902,
           0.0007062146892655367,
           0.000361794500723589,
           0,
           0.0003614022406938923,
           0.001053001053001053,
           0.0014064697609001407,
           0.0010795250089960418,
           0.001447178002894356,
           0.00141643059490085,
           null,
           null,
           null,
           null,
           null,
           null,
           null,
           null,
           null
          ],
          [
           null,
           null,
           null,
           null,
           null,
           null,
           null,
           null,
           null,
           null,
           null,
           null,
           null,
           null,
           null,
           0.0003557452863749555,
           0.0006839945280437756,
           0.0003450655624568668,
           0.0006988120195667365,
           0.00036483035388544326,
           0.000693000693000693,
           0.0010259917920656635,
           0.0021269053527118043,
           0.001028101439342015,
           0.00036231884057971015,
           0,
           0.0010718113612004287,
           0.0003570153516601214,
           0.0010626992561105207,
           0.0014534883720930232,
           0.0003455425017277125,
           0.0007168458781362007,
           0.0010541110330288123,
           0.00035398230088495576,
           0.00035561877667140827,
           0.00035739814152966406,
           0.001088139281828074,
           0,
           0.0003453038674033149,
           0.001058574453069866,
           0.0010471204188481676,
           0.0010600706713780918,
           0.0003619254433586681,
           0.00035486160397445,
           0.00036153289949385393,
           0.0010541110330288123,
           0.0007042253521126761,
           0.00036023054755043225,
           0.00036231884057971015,
           0.0003546099290780142,
           null,
           null,
           null,
           null,
           null,
           null,
           null,
           null
          ],
          [
           null,
           null,
           null,
           null,
           null,
           null,
           null,
           null,
           null,
           null,
           null,
           null,
           null,
           null,
           null,
           null,
           0.00035587188612099647,
           0.00034223134839151266,
           0,
           0.00034965034965034965,
           0.00072992700729927,
           0.0006934812760055479,
           0.0013693940431359123,
           0,
           0.00034305317324185246,
           0.0003624501631025734,
           0.0007017543859649122,
           0.001072961373390558,
           0.0014285714285714286,
           0.0003546099290780142,
           0.001091703056768559,
           0,
           0,
           0.0007034822370735139,
           0.0010623229461756375,
           0.0010672358591248667,
           0.0010725777618877368,
           0.00036310820624546115,
           0.001389854065323141,
           0.000690846286701209,
           0.0007064641469445425,
           0.0006988120195667365,
           0.00035373187124159886,
           0,
           0.0010649627263045794,
           0.0014466546112115732,
           0.00035174111853675694,
           0.00035236081747709656,
           0.0007207207207207207,
           0.0007249003262051468,
           0.000709471443774388,
           null,
           null,
           null,
           null,
           null,
           null,
           null
          ],
          [
           null,
           null,
           null,
           null,
           null,
           null,
           null,
           null,
           null,
           null,
           null,
           null,
           null,
           null,
           null,
           null,
           null,
           0.000355998576005696,
           0.0013693940431359123,
           0.0006903693476009665,
           0,
           0.0003652300949598247,
           0.0006939625260235947,
           0.0006856359273225917,
           0.00035523978685612787,
           0.0006863417982155113,
           0,
           0.001053370786516854,
           0.0007160759040458289,
           0,
           0.000354735721887194,
           0.0007285974499089253,
           0.00138264777048047,
           0.0003586800573888092,
           0.0010559662090813093,
           0.0010634526763559022,
           0.00035612535612535614,
           0.00035790980672870435,
           0.0003632401017072285,
           0.0010438413361169101,
           0,
           0.0010604453870625664,
           0.00034965034965034965,
           0.0010615711252653928,
           0.0003620564808110065,
           0.0010660980810234541,
           0,
           0,
           0.0010574550581600281,
           0.000721240533717995,
           0.0007254261878853826,
           0.0007099751508697196,
           null,
           null,
           null,
           null,
           null,
           null
          ],
          [
           null,
           null,
           null,
           null,
           null,
           null,
           null,
           null,
           null,
           null,
           null,
           null,
           null,
           null,
           null,
           null,
           null,
           null,
           0,
           0.0006856359273225917,
           0.0003454231433506045,
           0.0003497726477789437,
           0.00036536353671903543,
           0.00034722222222222224,
           0.00034305317324185246,
           0.00035536602700781805,
           0.00034340659340659343,
           0,
           0.0017574692442882249,
           0.00035829451809387314,
           0.001430615164520744,
           0.0007097232079489,
           0.0003645643456069996,
           0.0006922810661128419,
           0.0003588087549336204,
           0.00035236081747709656,
           0,
           0,
           0.0007160759040458289,
           0.0003633720930232558,
           0.0006966213862765587,
           0.00138264777048047,
           0,
           0,
           0,
           0.0003621876131836291,
           0.0003557452863749555,
           0.0003621876131836291,
           0.0007037297677691766,
           0.00035285815102328866,
           0.0010826416456153013,
           0,
           0.0007104795737122557,
           null,
           null,
           null,
           null,
           null
          ],
          [
           null,
           null,
           null,
           null,
           null,
           null,
           null,
           null,
           null,
           null,
           null,
           null,
           null,
           null,
           null,
           null,
           null,
           null,
           null,
           0.0007122507122507123,
           0.0006861063464837049,
           0.000691085003455425,
           0.0006997900629811056,
           0.0007309941520467836,
           0,
           0.0006863417982155113,
           0,
           0.0010305736860185502,
           0.0010877447425670776,
           0,
           0.00035842293906810036,
           0.0007163323782234957,
           0.0007102272727272727,
           0.0010940919037199124,
           0.0010391409767925182,
           0,
           0.0007049700387733521,
           0.00035486160397445,
           0.0007125044531528322,
           0.00035829451809387314,
           0.0014540167211922936,
           0,
           0.0006922810661128419,
           0,
           0.001049317943336831,
           0.00035423308537017357,
           0.00036231884057971015,
           0.00035587188612099647,
           0.00036231884057971015,
           0.0007042253521126761,
           0.00035298270384751147,
           0.000361271676300578,
           0.0003629764065335753,
           0.0007109847138286527,
           null,
           null,
           null,
           null
          ],
          [
           null,
           null,
           null,
           null,
           null,
           null,
           null,
           null,
           null,
           null,
           null,
           null,
           null,
           null,
           null,
           null,
           null,
           null,
           null,
           null,
           0,
           0.0006865774116031583,
           0.00034578146611341634,
           0.00035014005602240897,
           0.000365764447695684,
           0.0003473428273706148,
           0.0010302197802197802,
           0.001066477070742979,
           0.000343878954607978,
           0.0003629764065335753,
           0,
           0.00035855145213338117,
           0.0007168458781362007,
           0,
           0.0014603870025556773,
           0,
           0.0021536252692031586,
           0.0007054673721340388,
           0,
           0,
           0.0014336917562724014,
           0,
           0,
           0.0006927606511950121,
           0,
           0,
           0.00035435861091424523,
           0,
           0.001067995728017088,
           0.0003624501631025734,
           0.0007047216349541931,
           0,
           0.0003614022406938923,
           0.0007262164124909223,
           0,
           null,
           null,
           null
          ],
          [
           null,
           null,
           null,
           null,
           null,
           null,
           null,
           null,
           null,
           null,
           null,
           null,
           null,
           null,
           null,
           null,
           null,
           null,
           null,
           null,
           null,
           0.0007127583749109052,
           0,
           0,
           0.0003502626970227671,
           0.00036589828027808267,
           0,
           0.0006875214850464077,
           0.0010676156583629894,
           0,
           0,
           0.001056338028169014,
           0.0007173601147776184,
           0.0014347202295552368,
           0,
           0.00036563071297989033,
           0.0010402219140083217,
           0,
           0.00035298270384751147,
           0.0007099751508697196,
           0,
           0,
           0.00036403349108117945,
           0,
           0.0013864818024263432,
           0.00035385704175513094,
           0,
           0,
           0.0007249003262051468,
           0.0003563791874554526,
           0.0010877447425670776,
           0,
           0,
           0.0010845986984815619,
           0,
           0.000711490572749911,
           null,
           null
          ],
          [
           null,
           null,
           null,
           null,
           null,
           null,
           null,
           null,
           null,
           null,
           null,
           null,
           null,
           null,
           null,
           null,
           null,
           null,
           null,
           null,
           null,
           null,
           0.0007132667617689016,
           0.00034352456200618345,
           0.0003459010722933241,
           0,
           0,
           0.0006949270326615705,
           0.0003439972480220158,
           0.0003562522265764161,
           0.0006879944960440316,
           0.0018155410312273058,
           0.0007049700387733521,
           0.0003589375448671931,
           0,
           0.00035536602700781805,
           0.0010972933430870519,
           0.0003471017007983339,
           0,
           0,
           0,
           0.00035650623885918,
           0.0003589375448671931,
           0,
           0.0003485535029627048,
           0.0003471017007983339,
           0.0007079646017699115,
           0.00035014005602240897,
           0,
           0.0003627130939426913,
           0.00035650623885918,
           0,
           0.0003526093088857546,
           0.00035310734463276836,
           0.0007238508867173362,
           0.0010901162790697674,
           0.000711997152011392,
           null
          ],
          [
           null,
           null,
           null,
           null,
           null,
           null,
           null,
           null,
           null,
           null,
           null,
           null,
           null,
           null,
           null,
           null,
           null,
           null,
           null,
           null,
           null,
           null,
           null,
           0,
           0.0006872852233676976,
           0.00034602076124567473,
           0,
           0.0007320644216691069,
           0.0003477051460361613,
           0,
           0,
           0.0006884681583476765,
           0,
           0.0010582010582010583,
           0,
           0,
           0.00035549235691432633,
           0,
           0,
           0.00035971223021582735,
           0.0007062146892655367,
           0.0007104795737122557,
           0.0007132667617689016,
           0,
           0,
           0.0003486750348675035,
           0.00034722222222222224,
           0.00035423308537017357,
           0,
           0,
           0.000362844702467344,
           0.0003566333808844508,
           0.0003629764065335753,
           0.0003527336860670194,
           0,
           0.0003621876131836291,
           0.0007275372862859222,
           0
          ]
         ]
        }
       ],
       "layout": {
        "template": {
         "data": {
          "bar": [
           {
            "error_x": {
             "color": "#2a3f5f"
            },
            "error_y": {
             "color": "#2a3f5f"
            },
            "marker": {
             "line": {
              "color": "#E5ECF6",
              "width": 0.5
             },
             "pattern": {
              "fillmode": "overlay",
              "size": 10,
              "solidity": 0.2
             }
            },
            "type": "bar"
           }
          ],
          "barpolar": [
           {
            "marker": {
             "line": {
              "color": "#E5ECF6",
              "width": 0.5
             },
             "pattern": {
              "fillmode": "overlay",
              "size": 10,
              "solidity": 0.2
             }
            },
            "type": "barpolar"
           }
          ],
          "carpet": [
           {
            "aaxis": {
             "endlinecolor": "#2a3f5f",
             "gridcolor": "white",
             "linecolor": "white",
             "minorgridcolor": "white",
             "startlinecolor": "#2a3f5f"
            },
            "baxis": {
             "endlinecolor": "#2a3f5f",
             "gridcolor": "white",
             "linecolor": "white",
             "minorgridcolor": "white",
             "startlinecolor": "#2a3f5f"
            },
            "type": "carpet"
           }
          ],
          "choropleth": [
           {
            "colorbar": {
             "outlinewidth": 0,
             "ticks": ""
            },
            "type": "choropleth"
           }
          ],
          "contour": [
           {
            "colorbar": {
             "outlinewidth": 0,
             "ticks": ""
            },
            "colorscale": [
             [
              0,
              "#0d0887"
             ],
             [
              0.1111111111111111,
              "#46039f"
             ],
             [
              0.2222222222222222,
              "#7201a8"
             ],
             [
              0.3333333333333333,
              "#9c179e"
             ],
             [
              0.4444444444444444,
              "#bd3786"
             ],
             [
              0.5555555555555556,
              "#d8576b"
             ],
             [
              0.6666666666666666,
              "#ed7953"
             ],
             [
              0.7777777777777778,
              "#fb9f3a"
             ],
             [
              0.8888888888888888,
              "#fdca26"
             ],
             [
              1,
              "#f0f921"
             ]
            ],
            "type": "contour"
           }
          ],
          "contourcarpet": [
           {
            "colorbar": {
             "outlinewidth": 0,
             "ticks": ""
            },
            "type": "contourcarpet"
           }
          ],
          "heatmap": [
           {
            "colorbar": {
             "outlinewidth": 0,
             "ticks": ""
            },
            "colorscale": [
             [
              0,
              "#0d0887"
             ],
             [
              0.1111111111111111,
              "#46039f"
             ],
             [
              0.2222222222222222,
              "#7201a8"
             ],
             [
              0.3333333333333333,
              "#9c179e"
             ],
             [
              0.4444444444444444,
              "#bd3786"
             ],
             [
              0.5555555555555556,
              "#d8576b"
             ],
             [
              0.6666666666666666,
              "#ed7953"
             ],
             [
              0.7777777777777778,
              "#fb9f3a"
             ],
             [
              0.8888888888888888,
              "#fdca26"
             ],
             [
              1,
              "#f0f921"
             ]
            ],
            "type": "heatmap"
           }
          ],
          "heatmapgl": [
           {
            "colorbar": {
             "outlinewidth": 0,
             "ticks": ""
            },
            "colorscale": [
             [
              0,
              "#0d0887"
             ],
             [
              0.1111111111111111,
              "#46039f"
             ],
             [
              0.2222222222222222,
              "#7201a8"
             ],
             [
              0.3333333333333333,
              "#9c179e"
             ],
             [
              0.4444444444444444,
              "#bd3786"
             ],
             [
              0.5555555555555556,
              "#d8576b"
             ],
             [
              0.6666666666666666,
              "#ed7953"
             ],
             [
              0.7777777777777778,
              "#fb9f3a"
             ],
             [
              0.8888888888888888,
              "#fdca26"
             ],
             [
              1,
              "#f0f921"
             ]
            ],
            "type": "heatmapgl"
           }
          ],
          "histogram": [
           {
            "marker": {
             "pattern": {
              "fillmode": "overlay",
              "size": 10,
              "solidity": 0.2
             }
            },
            "type": "histogram"
           }
          ],
          "histogram2d": [
           {
            "colorbar": {
             "outlinewidth": 0,
             "ticks": ""
            },
            "colorscale": [
             [
              0,
              "#0d0887"
             ],
             [
              0.1111111111111111,
              "#46039f"
             ],
             [
              0.2222222222222222,
              "#7201a8"
             ],
             [
              0.3333333333333333,
              "#9c179e"
             ],
             [
              0.4444444444444444,
              "#bd3786"
             ],
             [
              0.5555555555555556,
              "#d8576b"
             ],
             [
              0.6666666666666666,
              "#ed7953"
             ],
             [
              0.7777777777777778,
              "#fb9f3a"
             ],
             [
              0.8888888888888888,
              "#fdca26"
             ],
             [
              1,
              "#f0f921"
             ]
            ],
            "type": "histogram2d"
           }
          ],
          "histogram2dcontour": [
           {
            "colorbar": {
             "outlinewidth": 0,
             "ticks": ""
            },
            "colorscale": [
             [
              0,
              "#0d0887"
             ],
             [
              0.1111111111111111,
              "#46039f"
             ],
             [
              0.2222222222222222,
              "#7201a8"
             ],
             [
              0.3333333333333333,
              "#9c179e"
             ],
             [
              0.4444444444444444,
              "#bd3786"
             ],
             [
              0.5555555555555556,
              "#d8576b"
             ],
             [
              0.6666666666666666,
              "#ed7953"
             ],
             [
              0.7777777777777778,
              "#fb9f3a"
             ],
             [
              0.8888888888888888,
              "#fdca26"
             ],
             [
              1,
              "#f0f921"
             ]
            ],
            "type": "histogram2dcontour"
           }
          ],
          "mesh3d": [
           {
            "colorbar": {
             "outlinewidth": 0,
             "ticks": ""
            },
            "type": "mesh3d"
           }
          ],
          "parcoords": [
           {
            "line": {
             "colorbar": {
              "outlinewidth": 0,
              "ticks": ""
             }
            },
            "type": "parcoords"
           }
          ],
          "pie": [
           {
            "automargin": true,
            "type": "pie"
           }
          ],
          "scatter": [
           {
            "fillpattern": {
             "fillmode": "overlay",
             "size": 10,
             "solidity": 0.2
            },
            "type": "scatter"
           }
          ],
          "scatter3d": [
           {
            "line": {
             "colorbar": {
              "outlinewidth": 0,
              "ticks": ""
             }
            },
            "marker": {
             "colorbar": {
              "outlinewidth": 0,
              "ticks": ""
             }
            },
            "type": "scatter3d"
           }
          ],
          "scattercarpet": [
           {
            "marker": {
             "colorbar": {
              "outlinewidth": 0,
              "ticks": ""
             }
            },
            "type": "scattercarpet"
           }
          ],
          "scattergeo": [
           {
            "marker": {
             "colorbar": {
              "outlinewidth": 0,
              "ticks": ""
             }
            },
            "type": "scattergeo"
           }
          ],
          "scattergl": [
           {
            "marker": {
             "colorbar": {
              "outlinewidth": 0,
              "ticks": ""
             }
            },
            "type": "scattergl"
           }
          ],
          "scattermapbox": [
           {
            "marker": {
             "colorbar": {
              "outlinewidth": 0,
              "ticks": ""
             }
            },
            "type": "scattermapbox"
           }
          ],
          "scatterpolar": [
           {
            "marker": {
             "colorbar": {
              "outlinewidth": 0,
              "ticks": ""
             }
            },
            "type": "scatterpolar"
           }
          ],
          "scatterpolargl": [
           {
            "marker": {
             "colorbar": {
              "outlinewidth": 0,
              "ticks": ""
             }
            },
            "type": "scatterpolargl"
           }
          ],
          "scatterternary": [
           {
            "marker": {
             "colorbar": {
              "outlinewidth": 0,
              "ticks": ""
             }
            },
            "type": "scatterternary"
           }
          ],
          "surface": [
           {
            "colorbar": {
             "outlinewidth": 0,
             "ticks": ""
            },
            "colorscale": [
             [
              0,
              "#0d0887"
             ],
             [
              0.1111111111111111,
              "#46039f"
             ],
             [
              0.2222222222222222,
              "#7201a8"
             ],
             [
              0.3333333333333333,
              "#9c179e"
             ],
             [
              0.4444444444444444,
              "#bd3786"
             ],
             [
              0.5555555555555556,
              "#d8576b"
             ],
             [
              0.6666666666666666,
              "#ed7953"
             ],
             [
              0.7777777777777778,
              "#fb9f3a"
             ],
             [
              0.8888888888888888,
              "#fdca26"
             ],
             [
              1,
              "#f0f921"
             ]
            ],
            "type": "surface"
           }
          ],
          "table": [
           {
            "cells": {
             "fill": {
              "color": "#EBF0F8"
             },
             "line": {
              "color": "white"
             }
            },
            "header": {
             "fill": {
              "color": "#C8D4E3"
             },
             "line": {
              "color": "white"
             }
            },
            "type": "table"
           }
          ]
         },
         "layout": {
          "annotationdefaults": {
           "arrowcolor": "#2a3f5f",
           "arrowhead": 0,
           "arrowwidth": 1
          },
          "autotypenumbers": "strict",
          "coloraxis": {
           "colorbar": {
            "outlinewidth": 0,
            "ticks": ""
           }
          },
          "colorscale": {
           "diverging": [
            [
             0,
             "#8e0152"
            ],
            [
             0.1,
             "#c51b7d"
            ],
            [
             0.2,
             "#de77ae"
            ],
            [
             0.3,
             "#f1b6da"
            ],
            [
             0.4,
             "#fde0ef"
            ],
            [
             0.5,
             "#f7f7f7"
            ],
            [
             0.6,
             "#e6f5d0"
            ],
            [
             0.7,
             "#b8e186"
            ],
            [
             0.8,
             "#7fbc41"
            ],
            [
             0.9,
             "#4d9221"
            ],
            [
             1,
             "#276419"
            ]
           ],
           "sequential": [
            [
             0,
             "#0d0887"
            ],
            [
             0.1111111111111111,
             "#46039f"
            ],
            [
             0.2222222222222222,
             "#7201a8"
            ],
            [
             0.3333333333333333,
             "#9c179e"
            ],
            [
             0.4444444444444444,
             "#bd3786"
            ],
            [
             0.5555555555555556,
             "#d8576b"
            ],
            [
             0.6666666666666666,
             "#ed7953"
            ],
            [
             0.7777777777777778,
             "#fb9f3a"
            ],
            [
             0.8888888888888888,
             "#fdca26"
            ],
            [
             1,
             "#f0f921"
            ]
           ],
           "sequentialminus": [
            [
             0,
             "#0d0887"
            ],
            [
             0.1111111111111111,
             "#46039f"
            ],
            [
             0.2222222222222222,
             "#7201a8"
            ],
            [
             0.3333333333333333,
             "#9c179e"
            ],
            [
             0.4444444444444444,
             "#bd3786"
            ],
            [
             0.5555555555555556,
             "#d8576b"
            ],
            [
             0.6666666666666666,
             "#ed7953"
            ],
            [
             0.7777777777777778,
             "#fb9f3a"
            ],
            [
             0.8888888888888888,
             "#fdca26"
            ],
            [
             1,
             "#f0f921"
            ]
           ]
          },
          "colorway": [
           "#636efa",
           "#EF553B",
           "#00cc96",
           "#ab63fa",
           "#FFA15A",
           "#19d3f3",
           "#FF6692",
           "#B6E880",
           "#FF97FF",
           "#FECB52"
          ],
          "font": {
           "color": "#2a3f5f"
          },
          "geo": {
           "bgcolor": "white",
           "lakecolor": "white",
           "landcolor": "#E5ECF6",
           "showlakes": true,
           "showland": true,
           "subunitcolor": "white"
          },
          "hoverlabel": {
           "align": "left"
          },
          "hovermode": "closest",
          "mapbox": {
           "style": "light"
          },
          "paper_bgcolor": "white",
          "plot_bgcolor": "#E5ECF6",
          "polar": {
           "angularaxis": {
            "gridcolor": "white",
            "linecolor": "white",
            "ticks": ""
           },
           "bgcolor": "#E5ECF6",
           "radialaxis": {
            "gridcolor": "white",
            "linecolor": "white",
            "ticks": ""
           }
          },
          "scene": {
           "xaxis": {
            "backgroundcolor": "#E5ECF6",
            "gridcolor": "white",
            "gridwidth": 2,
            "linecolor": "white",
            "showbackground": true,
            "ticks": "",
            "zerolinecolor": "white"
           },
           "yaxis": {
            "backgroundcolor": "#E5ECF6",
            "gridcolor": "white",
            "gridwidth": 2,
            "linecolor": "white",
            "showbackground": true,
            "ticks": "",
            "zerolinecolor": "white"
           },
           "zaxis": {
            "backgroundcolor": "#E5ECF6",
            "gridcolor": "white",
            "gridwidth": 2,
            "linecolor": "white",
            "showbackground": true,
            "ticks": "",
            "zerolinecolor": "white"
           }
          },
          "shapedefaults": {
           "line": {
            "color": "#2a3f5f"
           }
          },
          "ternary": {
           "aaxis": {
            "gridcolor": "white",
            "linecolor": "white",
            "ticks": ""
           },
           "baxis": {
            "gridcolor": "white",
            "linecolor": "white",
            "ticks": ""
           },
           "bgcolor": "#E5ECF6",
           "caxis": {
            "gridcolor": "white",
            "linecolor": "white",
            "ticks": ""
           }
          },
          "title": {
           "x": 0.05
          },
          "xaxis": {
           "automargin": true,
           "gridcolor": "white",
           "linecolor": "white",
           "ticks": "",
           "title": {
            "standoff": 15
           },
           "zerolinecolor": "white",
           "zerolinewidth": 2
          },
          "yaxis": {
           "automargin": true,
           "gridcolor": "white",
           "linecolor": "white",
           "ticks": "",
           "title": {
            "standoff": 15
           },
           "zerolinecolor": "white",
           "zerolinewidth": 2
          }
         }
        }
       }
      }
     },
     "metadata": {},
     "output_type": "display_data"
    }
   ],
   "source": [
    "import plotly.graph_objects as go\n",
    "fig = go.Figure(data=go.Heatmap(\n",
    "                   z=z_indices,\n",
    "                   x=c_indices,\n",
    "                   y=t_indices,\n",
    "                   #colorscale='Viridis',\n",
    "                   hoverongaps = False))\n",
    "fig.show()"
   ]
  },
  {
   "cell_type": "markdown",
   "metadata": {},
   "source": [
    "## using package????"
   ]
  },
  {
   "cell_type": "code",
   "execution_count": 104,
   "metadata": {},
   "outputs": [
    {
     "data": {
      "image/png": "[encoded data removed]",
      "text/plain": [
       "<Figure size 500x500 with 1 Axes>"
      ]
     },
     "metadata": {},
     "output_type": "display_data"
    }
   ],
   "source": [
    "import pylexis\n",
    "diagram = pylexis.Diagram(1900, 1905, 0, 5)"
   ]
  },
  {
   "cell_type": "code",
   "execution_count": 105,
   "metadata": {},
   "outputs": [
    {
     "data": {
      "text/plain": [
       "<pylexis.Diagram at 0x1c98318ec70>"
      ]
     },
     "execution_count": 105,
     "metadata": {},
     "output_type": "execute_result"
    },
    {
     "ename": "ValueError",
     "evalue": "Image size of 943092x418 pixels is too large. It must be less than 2^16 in each direction.",
     "output_type": "error",
     "traceback": [
      "\u001b[1;31m---------------------------------------------------------------------------\u001b[0m",
      "\u001b[1;31mValueError\u001b[0m                                Traceback (most recent call last)",
      "File \u001b[1;32m~\\AppData\\Roaming\\Python\\Python39\\site-packages\\IPython\\core\\formatters.py:339\u001b[0m, in \u001b[0;36mBaseFormatter.__call__\u001b[1;34m(self, obj)\u001b[0m\n\u001b[0;32m    337\u001b[0m     \u001b[39mpass\u001b[39;00m\n\u001b[0;32m    338\u001b[0m \u001b[39melse\u001b[39;00m:\n\u001b[1;32m--> 339\u001b[0m     \u001b[39mreturn\u001b[39;00m printer(obj)\n\u001b[0;32m    340\u001b[0m \u001b[39m# Finally look for special method names\u001b[39;00m\n\u001b[0;32m    341\u001b[0m method \u001b[39m=\u001b[39m get_real_method(obj, \u001b[39mself\u001b[39m\u001b[39m.\u001b[39mprint_method)\n",
      "File \u001b[1;32m~\\AppData\\Roaming\\Python\\Python39\\site-packages\\IPython\\core\\pylabtools.py:151\u001b[0m, in \u001b[0;36mprint_figure\u001b[1;34m(fig, fmt, bbox_inches, base64, **kwargs)\u001b[0m\n\u001b[0;32m    148\u001b[0m     \u001b[39mfrom\u001b[39;00m \u001b[39mmatplotlib\u001b[39;00m\u001b[39m.\u001b[39;00m\u001b[39mbackend_bases\u001b[39;00m \u001b[39mimport\u001b[39;00m FigureCanvasBase\n\u001b[0;32m    149\u001b[0m     FigureCanvasBase(fig)\n\u001b[1;32m--> 151\u001b[0m fig\u001b[39m.\u001b[39mcanvas\u001b[39m.\u001b[39mprint_figure(bytes_io, \u001b[39m*\u001b[39m\u001b[39m*\u001b[39mkw)\n\u001b[0;32m    152\u001b[0m data \u001b[39m=\u001b[39m bytes_io\u001b[39m.\u001b[39mgetvalue()\n\u001b[0;32m    153\u001b[0m \u001b[39mif\u001b[39;00m fmt \u001b[39m==\u001b[39m \u001b[39m'\u001b[39m\u001b[39msvg\u001b[39m\u001b[39m'\u001b[39m:\n",
      "File \u001b[1;32mc:\\Users\\86151\\AppData\\Local\\Programs\\Python\\Python39\\lib\\site-packages\\matplotlib\\backend_bases.py:2338\u001b[0m, in \u001b[0;36mFigureCanvasBase.print_figure\u001b[1;34m(self, filename, dpi, facecolor, edgecolor, orientation, format, bbox_inches, pad_inches, bbox_extra_artists, backend, **kwargs)\u001b[0m\n\u001b[0;32m   2334\u001b[0m \u001b[39mtry\u001b[39;00m:\n\u001b[0;32m   2335\u001b[0m     \u001b[39m# _get_renderer may change the figure dpi (as vector formats\u001b[39;00m\n\u001b[0;32m   2336\u001b[0m     \u001b[39m# force the figure dpi to 72), so we need to set it again here.\u001b[39;00m\n\u001b[0;32m   2337\u001b[0m     \u001b[39mwith\u001b[39;00m cbook\u001b[39m.\u001b[39m_setattr_cm(\u001b[39mself\u001b[39m\u001b[39m.\u001b[39mfigure, dpi\u001b[39m=\u001b[39mdpi):\n\u001b[1;32m-> 2338\u001b[0m         result \u001b[39m=\u001b[39m print_method(\n\u001b[0;32m   2339\u001b[0m             filename,\n\u001b[0;32m   2340\u001b[0m             facecolor\u001b[39m=\u001b[39mfacecolor,\n\u001b[0;32m   2341\u001b[0m             edgecolor\u001b[39m=\u001b[39medgecolor,\n\u001b[0;32m   2342\u001b[0m             orientation\u001b[39m=\u001b[39morientation,\n\u001b[0;32m   2343\u001b[0m             bbox_inches_restore\u001b[39m=\u001b[39m_bbox_inches_restore,\n\u001b[0;32m   2344\u001b[0m             \u001b[39m*\u001b[39m\u001b[39m*\u001b[39mkwargs)\n\u001b[0;32m   2345\u001b[0m \u001b[39mfinally\u001b[39;00m:\n\u001b[0;32m   2346\u001b[0m     \u001b[39mif\u001b[39;00m bbox_inches \u001b[39mand\u001b[39;00m restore_bbox:\n",
      "File \u001b[1;32mc:\\Users\\86151\\AppData\\Local\\Programs\\Python\\Python39\\lib\\site-packages\\matplotlib\\backend_bases.py:2204\u001b[0m, in \u001b[0;36mFigureCanvasBase._switch_canvas_and_return_print_method.<locals>.<lambda>\u001b[1;34m(*args, **kwargs)\u001b[0m\n\u001b[0;32m   2200\u001b[0m     optional_kws \u001b[39m=\u001b[39m {  \u001b[39m# Passed by print_figure for other renderers.\u001b[39;00m\n\u001b[0;32m   2201\u001b[0m         \u001b[39m\"\u001b[39m\u001b[39mdpi\u001b[39m\u001b[39m\"\u001b[39m, \u001b[39m\"\u001b[39m\u001b[39mfacecolor\u001b[39m\u001b[39m\"\u001b[39m, \u001b[39m\"\u001b[39m\u001b[39medgecolor\u001b[39m\u001b[39m\"\u001b[39m, \u001b[39m\"\u001b[39m\u001b[39morientation\u001b[39m\u001b[39m\"\u001b[39m,\n\u001b[0;32m   2202\u001b[0m         \u001b[39m\"\u001b[39m\u001b[39mbbox_inches_restore\u001b[39m\u001b[39m\"\u001b[39m}\n\u001b[0;32m   2203\u001b[0m     skip \u001b[39m=\u001b[39m optional_kws \u001b[39m-\u001b[39m {\u001b[39m*\u001b[39minspect\u001b[39m.\u001b[39msignature(meth)\u001b[39m.\u001b[39mparameters}\n\u001b[1;32m-> 2204\u001b[0m     print_method \u001b[39m=\u001b[39m functools\u001b[39m.\u001b[39mwraps(meth)(\u001b[39mlambda\u001b[39;00m \u001b[39m*\u001b[39margs, \u001b[39m*\u001b[39m\u001b[39m*\u001b[39mkwargs: meth(\n\u001b[0;32m   2205\u001b[0m         \u001b[39m*\u001b[39margs, \u001b[39m*\u001b[39m\u001b[39m*\u001b[39m{k: v \u001b[39mfor\u001b[39;00m k, v \u001b[39min\u001b[39;00m kwargs\u001b[39m.\u001b[39mitems() \u001b[39mif\u001b[39;00m k \u001b[39mnot\u001b[39;00m \u001b[39min\u001b[39;00m skip}))\n\u001b[0;32m   2206\u001b[0m \u001b[39melse\u001b[39;00m:  \u001b[39m# Let third-parties do as they see fit.\u001b[39;00m\n\u001b[0;32m   2207\u001b[0m     print_method \u001b[39m=\u001b[39m meth\n",
      "File \u001b[1;32mc:\\Users\\86151\\AppData\\Local\\Programs\\Python\\Python39\\lib\\site-packages\\matplotlib\\_api\\deprecation.py:410\u001b[0m, in \u001b[0;36mdelete_parameter.<locals>.wrapper\u001b[1;34m(*inner_args, **inner_kwargs)\u001b[0m\n\u001b[0;32m    400\u001b[0m     deprecation_addendum \u001b[39m=\u001b[39m (\n\u001b[0;32m    401\u001b[0m         \u001b[39mf\u001b[39m\u001b[39m\"\u001b[39m\u001b[39mIf any parameter follows \u001b[39m\u001b[39m{\u001b[39;00mname\u001b[39m!r}\u001b[39;00m\u001b[39m, they should be passed as \u001b[39m\u001b[39m\"\u001b[39m\n\u001b[0;32m    402\u001b[0m         \u001b[39mf\u001b[39m\u001b[39m\"\u001b[39m\u001b[39mkeyword, not positionally.\u001b[39m\u001b[39m\"\u001b[39m)\n\u001b[0;32m    403\u001b[0m     warn_deprecated(\n\u001b[0;32m    404\u001b[0m         since,\n\u001b[0;32m    405\u001b[0m         name\u001b[39m=\u001b[39m\u001b[39mrepr\u001b[39m(name),\n\u001b[1;32m   (...)\u001b[0m\n\u001b[0;32m    408\u001b[0m                  \u001b[39melse\u001b[39;00m deprecation_addendum,\n\u001b[0;32m    409\u001b[0m         \u001b[39m*\u001b[39m\u001b[39m*\u001b[39mkwargs)\n\u001b[1;32m--> 410\u001b[0m \u001b[39mreturn\u001b[39;00m func(\u001b[39m*\u001b[39minner_args, \u001b[39m*\u001b[39m\u001b[39m*\u001b[39minner_kwargs)\n",
      "File \u001b[1;32mc:\\Users\\86151\\AppData\\Local\\Programs\\Python\\Python39\\lib\\site-packages\\matplotlib\\backends\\backend_agg.py:520\u001b[0m, in \u001b[0;36mFigureCanvasAgg.print_png\u001b[1;34m(self, filename_or_obj, metadata, pil_kwargs, *args)\u001b[0m\n\u001b[0;32m    471\u001b[0m \u001b[39m@_api\u001b[39m\u001b[39m.\u001b[39mdelete_parameter(\u001b[39m\"\u001b[39m\u001b[39m3.5\u001b[39m\u001b[39m\"\u001b[39m, \u001b[39m\"\u001b[39m\u001b[39margs\u001b[39m\u001b[39m\"\u001b[39m)\n\u001b[0;32m    472\u001b[0m \u001b[39mdef\u001b[39;00m \u001b[39mprint_png\u001b[39m(\u001b[39mself\u001b[39m, filename_or_obj, \u001b[39m*\u001b[39margs,\n\u001b[0;32m    473\u001b[0m               metadata\u001b[39m=\u001b[39m\u001b[39mNone\u001b[39;00m, pil_kwargs\u001b[39m=\u001b[39m\u001b[39mNone\u001b[39;00m):\n\u001b[0;32m    474\u001b[0m     \u001b[39m\"\"\"\u001b[39;00m\n\u001b[0;32m    475\u001b[0m \u001b[39m    Write the figure to a PNG file.\u001b[39;00m\n\u001b[0;32m    476\u001b[0m \n\u001b[1;32m   (...)\u001b[0m\n\u001b[0;32m    518\u001b[0m \u001b[39m        *metadata*, including the default 'Software' key.\u001b[39;00m\n\u001b[0;32m    519\u001b[0m \u001b[39m    \"\"\"\u001b[39;00m\n\u001b[1;32m--> 520\u001b[0m     \u001b[39mself\u001b[39;49m\u001b[39m.\u001b[39;49m_print_pil(filename_or_obj, \u001b[39m\"\u001b[39;49m\u001b[39mpng\u001b[39;49m\u001b[39m\"\u001b[39;49m, pil_kwargs, metadata)\n",
      "File \u001b[1;32mc:\\Users\\86151\\AppData\\Local\\Programs\\Python\\Python39\\lib\\site-packages\\matplotlib\\backends\\backend_agg.py:466\u001b[0m, in \u001b[0;36mFigureCanvasAgg._print_pil\u001b[1;34m(self, filename_or_obj, fmt, pil_kwargs, metadata)\u001b[0m\n\u001b[0;32m    461\u001b[0m \u001b[39mdef\u001b[39;00m \u001b[39m_print_pil\u001b[39m(\u001b[39mself\u001b[39m, filename_or_obj, fmt, pil_kwargs, metadata\u001b[39m=\u001b[39m\u001b[39mNone\u001b[39;00m):\n\u001b[0;32m    462\u001b[0m     \u001b[39m\"\"\"\u001b[39;00m\n\u001b[0;32m    463\u001b[0m \u001b[39m    Draw the canvas, then save it using `.image.imsave` (to which\u001b[39;00m\n\u001b[0;32m    464\u001b[0m \u001b[39m    *pil_kwargs* and *metadata* are forwarded).\u001b[39;00m\n\u001b[0;32m    465\u001b[0m \u001b[39m    \"\"\"\u001b[39;00m\n\u001b[1;32m--> 466\u001b[0m     FigureCanvasAgg\u001b[39m.\u001b[39;49mdraw(\u001b[39mself\u001b[39;49m)\n\u001b[0;32m    467\u001b[0m     mpl\u001b[39m.\u001b[39mimage\u001b[39m.\u001b[39mimsave(\n\u001b[0;32m    468\u001b[0m         filename_or_obj, \u001b[39mself\u001b[39m\u001b[39m.\u001b[39mbuffer_rgba(), \u001b[39mformat\u001b[39m\u001b[39m=\u001b[39mfmt, origin\u001b[39m=\u001b[39m\u001b[39m\"\u001b[39m\u001b[39mupper\u001b[39m\u001b[39m\"\u001b[39m,\n\u001b[0;32m    469\u001b[0m         dpi\u001b[39m=\u001b[39m\u001b[39mself\u001b[39m\u001b[39m.\u001b[39mfigure\u001b[39m.\u001b[39mdpi, metadata\u001b[39m=\u001b[39mmetadata, pil_kwargs\u001b[39m=\u001b[39mpil_kwargs)\n",
      "File \u001b[1;32mc:\\Users\\86151\\AppData\\Local\\Programs\\Python\\Python39\\lib\\site-packages\\matplotlib\\backends\\backend_agg.py:402\u001b[0m, in \u001b[0;36mFigureCanvasAgg.draw\u001b[1;34m(self)\u001b[0m\n\u001b[0;32m    400\u001b[0m \u001b[39mdef\u001b[39;00m \u001b[39mdraw\u001b[39m(\u001b[39mself\u001b[39m):\n\u001b[0;32m    401\u001b[0m     \u001b[39m# docstring inherited\u001b[39;00m\n\u001b[1;32m--> 402\u001b[0m     \u001b[39mself\u001b[39m\u001b[39m.\u001b[39mrenderer \u001b[39m=\u001b[39m \u001b[39mself\u001b[39;49m\u001b[39m.\u001b[39;49mget_renderer()\n\u001b[0;32m    403\u001b[0m     \u001b[39mself\u001b[39m\u001b[39m.\u001b[39mrenderer\u001b[39m.\u001b[39mclear()\n\u001b[0;32m    404\u001b[0m     \u001b[39m# Acquire a lock on the shared font cache.\u001b[39;00m\n",
      "File \u001b[1;32mc:\\Users\\86151\\AppData\\Local\\Programs\\Python\\Python39\\lib\\site-packages\\matplotlib\\_api\\deprecation.py:384\u001b[0m, in \u001b[0;36mdelete_parameter.<locals>.wrapper\u001b[1;34m(*inner_args, **inner_kwargs)\u001b[0m\n\u001b[0;32m    379\u001b[0m \u001b[39m@functools\u001b[39m\u001b[39m.\u001b[39mwraps(func)\n\u001b[0;32m    380\u001b[0m \u001b[39mdef\u001b[39;00m \u001b[39mwrapper\u001b[39m(\u001b[39m*\u001b[39minner_args, \u001b[39m*\u001b[39m\u001b[39m*\u001b[39minner_kwargs):\n\u001b[0;32m    381\u001b[0m     \u001b[39mif\u001b[39;00m \u001b[39mlen\u001b[39m(inner_args) \u001b[39m<\u001b[39m\u001b[39m=\u001b[39m name_idx \u001b[39mand\u001b[39;00m name \u001b[39mnot\u001b[39;00m \u001b[39min\u001b[39;00m inner_kwargs:\n\u001b[0;32m    382\u001b[0m         \u001b[39m# Early return in the simple, non-deprecated case (much faster than\u001b[39;00m\n\u001b[0;32m    383\u001b[0m         \u001b[39m# calling bind()).\u001b[39;00m\n\u001b[1;32m--> 384\u001b[0m         \u001b[39mreturn\u001b[39;00m func(\u001b[39m*\u001b[39minner_args, \u001b[39m*\u001b[39m\u001b[39m*\u001b[39minner_kwargs)\n\u001b[0;32m    385\u001b[0m     arguments \u001b[39m=\u001b[39m signature\u001b[39m.\u001b[39mbind(\u001b[39m*\u001b[39minner_args, \u001b[39m*\u001b[39m\u001b[39m*\u001b[39minner_kwargs)\u001b[39m.\u001b[39marguments\n\u001b[0;32m    386\u001b[0m     \u001b[39mif\u001b[39;00m is_varargs \u001b[39mand\u001b[39;00m arguments\u001b[39m.\u001b[39mget(name):\n",
      "File \u001b[1;32mc:\\Users\\86151\\AppData\\Local\\Programs\\Python\\Python39\\lib\\site-packages\\matplotlib\\backends\\backend_agg.py:419\u001b[0m, in \u001b[0;36mFigureCanvasAgg.get_renderer\u001b[1;34m(self, cleared)\u001b[0m\n\u001b[0;32m    417\u001b[0m reuse_renderer \u001b[39m=\u001b[39m (\u001b[39mself\u001b[39m\u001b[39m.\u001b[39m_lastKey \u001b[39m==\u001b[39m key)\n\u001b[0;32m    418\u001b[0m \u001b[39mif\u001b[39;00m \u001b[39mnot\u001b[39;00m reuse_renderer:\n\u001b[1;32m--> 419\u001b[0m     \u001b[39mself\u001b[39m\u001b[39m.\u001b[39mrenderer \u001b[39m=\u001b[39m RendererAgg(w, h, \u001b[39mself\u001b[39;49m\u001b[39m.\u001b[39;49mfigure\u001b[39m.\u001b[39;49mdpi)\n\u001b[0;32m    420\u001b[0m     \u001b[39mself\u001b[39m\u001b[39m.\u001b[39m_lastKey \u001b[39m=\u001b[39m key\n\u001b[0;32m    421\u001b[0m \u001b[39melif\u001b[39;00m cleared:\n",
      "File \u001b[1;32mc:\\Users\\86151\\AppData\\Local\\Programs\\Python\\Python39\\lib\\site-packages\\matplotlib\\backends\\backend_agg.py:87\u001b[0m, in \u001b[0;36mRendererAgg.__init__\u001b[1;34m(self, width, height, dpi)\u001b[0m\n\u001b[0;32m     85\u001b[0m \u001b[39mself\u001b[39m\u001b[39m.\u001b[39mwidth \u001b[39m=\u001b[39m width\n\u001b[0;32m     86\u001b[0m \u001b[39mself\u001b[39m\u001b[39m.\u001b[39mheight \u001b[39m=\u001b[39m height\n\u001b[1;32m---> 87\u001b[0m \u001b[39mself\u001b[39m\u001b[39m.\u001b[39m_renderer \u001b[39m=\u001b[39m _RendererAgg(\u001b[39mint\u001b[39;49m(width), \u001b[39mint\u001b[39;49m(height), dpi)\n\u001b[0;32m     88\u001b[0m \u001b[39mself\u001b[39m\u001b[39m.\u001b[39m_filter_renderers \u001b[39m=\u001b[39m []\n\u001b[0;32m     90\u001b[0m \u001b[39mself\u001b[39m\u001b[39m.\u001b[39m_update_methods()\n",
      "\u001b[1;31mValueError\u001b[0m: Image size of 943092x418 pixels is too large. It must be less than 2^16 in each direction."
     ]
    },
    {
     "data": {
      "text/plain": [
       "<Figure size 640x480 with 1 Axes>"
      ]
     },
     "metadata": {},
     "output_type": "display_data"
    }
   ],
   "source": [
    "#pylexis.Diagram.add_deaths(diagram,data[\"t\"]+data[\"v\"],data[\"v\"],data[\"t\"],data[\"y\"])\n",
    "#pylexis.Diagram.add_deaths(diagram,1904,1914,10,3)\n",
    "diagram.lexis_fill('cohort',1900,\"yellow\")\n",
    "diagram.lexis_fill('year',1902,\"gray\")\n",
    "diagram.add_births(1900,1000)\n",
    "diagram.add_deaths(1900,1901,0,40)\n",
    "diagram"
   ]
  },
  {
   "cell_type": "code",
   "execution_count": 18,
   "metadata": {},
   "outputs": [
    {
     "name": "stdout",
     "output_type": "stream",
     "text": [
      "58 24\n"
     ]
    }
   ],
   "source": [
    "# reference: https://plotly.com/python/heatmaps/#basic-heatmap-with-plotlygraphobjects\n",
    "import plotly.graph_objects as go\n",
    "import pandas as pd\n",
    "import numpy as np\n",
    "import plotly.offline as py\n",
    "from datetime import datetime\n",
    "from dateutil.relativedelta import relativedelta\n",
    "start_date = datetime(2019,1,1)\n",
    "\n",
    "\n",
    "def lexis_graph():\n",
    "\n",
    "    data = pd.read_csv('simDTS.csv')\n",
    "\n",
    "    data['int_c'] = data['v'] + data['t']\n",
    "    grouped_data = data.groupby(['t','int_c']).agg(def_num = ('y','sum'))\n",
    "\n",
    "    int_c_indices = []\n",
    "    t_indices = []\n",
    "    for index in grouped_data.index:\n",
    "        int_c_indices.append(index[1])\n",
    "        t_indices.append(index[0])\n",
    "    int_c_indices = list(set(int_c_indices))\n",
    "    t_indices = list(set(t_indices))\n",
    "    print(len(int_c_indices), len(t_indices))\n",
    "    #print(grouped_data.index)\n",
    "    all_index = []\n",
    "    for y in t_indices:\n",
    "        for x in int_c_indices:\n",
    "            all_index.append((y, x))\n",
    "    #print(int_c_indices)\n",
    "    z_values = []\n",
    "    for index in all_index:\n",
    "        if index in grouped_data.index:\n",
    "            z_values.append(grouped_data._get_value(index, 'def_num'))\n",
    "        else:\n",
    "            z_values.append(None)\n",
    "    z_indices = []\n",
    "    for line in np.reshape(z_values, (len(t_indices), len(int_c_indices))):\n",
    "        z_indices.append(list(line))\n",
    "    #print(z_indices)\n",
    "    c_indices =[]\n",
    "    for i in int_c_indices:\n",
    "        c = start_date + relativedelta(months=i)\n",
    "        c_indices.append(c)\n",
    "    c_indices\n",
    "\n",
    "    fig = go.Figure(data=go.Heatmap(\n",
    "                    z=z_indices,\n",
    "                    x=c_indices,\n",
    "                    y=t_indices,\n",
    "                    colorscale='Viridis',\n",
    "                    hoverongaps = False))\n",
    "\n",
    "    fig.update_layout(title=\"lexis diagram\",\n",
    "                    title_x=0.5,\n",
    "                    xaxis_title = \"calendar time\",\n",
    "                    yaxis_title = \"age\")\n",
    "\n",
    "    #fig.show()\n",
    "    py.plot(fig, filename='lexis_diagram.html',auto_open = False)\n",
    "lexis_graph()"
   ]
  },
  {
   "cell_type": "code",
   "execution_count": null,
   "metadata": {},
   "outputs": [],
   "source": [
    "import numpy as np\n",
    "import pandas as pd\n",
    "import matplotlib.pyplot as plt\n",
    "import csv\n",
    "\n",
    "import plotly.express as p\n",
    "import plotly.offline as py\n",
    "# py.init_notebook_mode(connected=True)\n",
    "import plotly.graph_objs as go\n",
    "import plotly.figure_factory as ff    \n",
    "\n",
    "from datetime import datetime\n",
    "from dateutil.relativedelta import relativedelta\n",
    "\n",
    "from backend.mysite.polls.views import index\n",
    "start_date = datetime(2019,1,1)\n",
    "\n",
    "# change integer to date string\n",
    "def inttodata(i):\n",
    "    date = start_date + relativedelta(months=i)\n",
    "    return (\"%04d-%02d\" % (date.year, date.month))\n",
    "\n",
    "# This is used to change integer to date list\n",
    "def datelist(list):\n",
    "    result = []\n",
    "    for i in list:\n",
    "        '''\n",
    "        result_date = start_date +relativedelta(months=i)\n",
    "        result.append(\"%04d-%02d\" % (result_date.year, result_date.month))\n",
    "        '''\n",
    "        result.append(inttodata(i))\n",
    "    return result\n",
    "\n",
    "\n",
    "\n",
    "\n",
    "def dr_cal_visualization():\n",
    "\n",
    "    current_month = relativedelta(datetime.now(),start_date).months + relativedelta(datetime.now(),start_date).years * 12\n",
    "    \n",
    "    #data = pd.read_csv('simDTS.csv')\n",
    "    data = pd.read_csv('src/visualization/simDTS.csv')\n",
    "\n",
    "    #pre processing\n",
    "    #data['cal'] = data['t'] + data['v']\n",
    "    #grouped_cal = data.groupby('cal')[['cal','y','pd']]\n",
    "    #pct_cal = grouped_cal.agg({'cal' : 'count','y':'sum','pd':'sum'})\n",
    "\n",
    "    #pre processing\n",
    "    data['cal'] = data['t'] + data['v']\n",
    "    pct_cal = data.groupby(['cal']).agg(number = ('cal','count'),dr=('y','sum'),edr=('pd','sum'))\n",
    "    #pct_cal\n",
    "\n",
    "    pct_cal[\"dr\"] = pct_cal[\"dr\"]/pct_cal[\"number\"]\n",
    "    pct_cal[\"edr\"] = pct_cal[\"edr\"]/pct_cal['number']\n",
    "\n",
    "    #pct_cal['date'] = datelist(pct_cal.index)\n",
    "    c_List = []\n",
    "    for i in pct_cal.index:\n",
    "        c = start_date + relativedelta(months=i)\n",
    "        c_List.append(c)\n",
    "    pct_cal['date'] = c_List\n",
    "\n",
    "\n",
    "    # visualization\n",
    "    x_range = [pct_cal['date'],pct_cal.index.max()]\n",
    "    y_range = [pct_cal[\"dr\"].append(pct_cal[\"edr\"]).min(),pct_cal[\"dr\"].append(pct_cal[\"edr\"]).max()]\n",
    "    cal_layout = go.Layout(\n",
    "    title=\n",
    "        {\n",
    "            'y':0.9,\n",
    "            'x':0.45,\n",
    "            'xanchor': 'center', \n",
    "            'yanchor': 'top'\n",
    "        },\n",
    "        xaxis=dict(\n",
    "            title=\"calendar time\",\n",
    "            #range = x_range,\n",
    "            #tickmode = \"array\",\n",
    "            #tickvals =  pct_cal.index,\n",
    "            #ticktext = pct_cal['date']\n",
    "\n",
    "        ),\n",
    "        yaxis=dict(\n",
    "            title=\"default rate(%)\",\n",
    "            range = y_range\n",
    "        ) \n",
    "    )\n",
    "\n",
    "    cal_trace0 = go.Scatter(\n",
    "        x = pct_cal['date'][0:current_month],\n",
    "        #x = pct_cal['date'],\n",
    "        y = pct_cal[\"dr\"][0:current_month],\n",
    "        mode = 'lines',\n",
    "        name = 'default rate'   \n",
    "    )\n",
    "\n",
    "    cal_trace1 = go.Scatter(\n",
    "        #x = pct_cal['date'][0:current_month],\n",
    "        x = pct_cal['date'][0:current_month],\n",
    "        y = pct_cal[\"edr\"][0:current_month],\n",
    "        mode = 'lines',\n",
    "        name = 'predicted default rate'\n",
    "    )\n",
    "\n",
    "\n",
    "\n",
    "    cal_fig = go.Figure({'data': [cal_trace0,cal_trace1],'layout': cal_layout})\n",
    "    #cal_fig.show()\n",
    "    py.plot(cal_fig, filename='dr_cal.html',auto_open = False)\n",
    "\n",
    "\n",
    "dr_cal_visualization()\n"
   ]
  }
 ],
 "metadata": {
  "kernelspec": {
   "display_name": "Python 3.9.0 64-bit",
   "language": "python",
   "name": "python3"
  },
  "language_info": {
   "codemirror_mode": {
    "name": "ipython",
    "version": 3
   },
   "file_extension": ".py",
   "mimetype": "text/x-python",
   "name": "python",
   "nbconvert_exporter": "python",
   "pygments_lexer": "ipython3",
   "version": "3.9.0"
  },
  "orig_nbformat": 4,
  "vscode": {
   "interpreter": {
    "hash": "37bd2b49079dd6597c047b82f88c9003f1e96a9c721d466cfd52af1e37080d6c"
   }
  }
 },
 "nbformat": 4,
 "nbformat_minor": 2
}
