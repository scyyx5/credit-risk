{
 "cells": [
  {
   "cell_type": "markdown",
   "metadata": {},
   "source": [
    "# Linear Regression"
   ]
  },
  {
   "cell_type": "code",
   "execution_count": 1,
   "metadata": {},
   "outputs": [],
   "source": [
    "import numpy as np\n",
    "import pandas as pd"
   ]
  },
  {
   "cell_type": "code",
   "execution_count": 2,
   "metadata": {},
   "outputs": [],
   "source": [
    "data = pd.read_csv('simDTS.csv')\n",
    "new_data = data.groupby(['t']).agg(number = ('t','count'),dr=('y','sum'),edr=('pd','sum'),std = ('pd','std'))\n",
    "data[\"dr\"] = new_data[\"dr\"]/new_data[\"number\"]\n",
    "data['c'] = data['v'] + data['t']\n",
    "#data = pd.read_csv('src/visualization/simDTS.csv')"
   ]
  },
  {
   "cell_type": "code",
   "execution_count": 3,
   "metadata": {},
   "outputs": [
    {
     "data": {
      "text/html": [
       "<div>\n",
       "<style scoped>\n",
       "    .dataframe tbody tr th:only-of-type {\n",
       "        vertical-align: middle;\n",
       "    }\n",
       "\n",
       "    .dataframe tbody tr th {\n",
       "        vertical-align: top;\n",
       "    }\n",
       "\n",
       "    .dataframe thead th {\n",
       "        text-align: right;\n",
       "    }\n",
       "</style>\n",
       "<table border=\"1\" class=\"dataframe\">\n",
       "  <thead>\n",
       "    <tr style=\"text-align: right;\">\n",
       "      <th></th>\n",
       "      <th>Unnamed: 0</th>\n",
       "      <th>key</th>\n",
       "      <th>t</th>\n",
       "      <th>v</th>\n",
       "      <th>x1</th>\n",
       "      <th>x2</th>\n",
       "      <th>h1</th>\n",
       "      <th>x4</th>\n",
       "      <th>del</th>\n",
       "      <th>y</th>\n",
       "      <th>pd</th>\n",
       "      <th>dr</th>\n",
       "      <th>c</th>\n",
       "    </tr>\n",
       "  </thead>\n",
       "  <tbody>\n",
       "    <tr>\n",
       "      <th>0</th>\n",
       "      <td>1</td>\n",
       "      <td>1</td>\n",
       "      <td>1</td>\n",
       "      <td>2</td>\n",
       "      <td>619</td>\n",
       "      <td>0</td>\n",
       "      <td>-0.100923</td>\n",
       "      <td>-0.031003</td>\n",
       "      <td>0</td>\n",
       "      <td>0</td>\n",
       "      <td>1.381276e-09</td>\n",
       "      <td>NaN</td>\n",
       "      <td>3</td>\n",
       "    </tr>\n",
       "    <tr>\n",
       "      <th>1</th>\n",
       "      <td>100001</td>\n",
       "      <td>1</td>\n",
       "      <td>2</td>\n",
       "      <td>2</td>\n",
       "      <td>619</td>\n",
       "      <td>0</td>\n",
       "      <td>0.498312</td>\n",
       "      <td>-0.123908</td>\n",
       "      <td>0</td>\n",
       "      <td>0</td>\n",
       "      <td>9.396210e-07</td>\n",
       "      <td>0.00000</td>\n",
       "      <td>4</td>\n",
       "    </tr>\n",
       "    <tr>\n",
       "      <th>2</th>\n",
       "      <td>200001</td>\n",
       "      <td>1</td>\n",
       "      <td>3</td>\n",
       "      <td>2</td>\n",
       "      <td>619</td>\n",
       "      <td>0</td>\n",
       "      <td>-0.733160</td>\n",
       "      <td>0.572345</td>\n",
       "      <td>0</td>\n",
       "      <td>0</td>\n",
       "      <td>1.638122e-05</td>\n",
       "      <td>0.00000</td>\n",
       "      <td>5</td>\n",
       "    </tr>\n",
       "    <tr>\n",
       "      <th>3</th>\n",
       "      <td>300001</td>\n",
       "      <td>1</td>\n",
       "      <td>4</td>\n",
       "      <td>2</td>\n",
       "      <td>619</td>\n",
       "      <td>0</td>\n",
       "      <td>-0.343541</td>\n",
       "      <td>0.529761</td>\n",
       "      <td>0</td>\n",
       "      <td>0</td>\n",
       "      <td>6.487583e-05</td>\n",
       "      <td>0.00009</td>\n",
       "      <td>6</td>\n",
       "    </tr>\n",
       "    <tr>\n",
       "      <th>4</th>\n",
       "      <td>399992</td>\n",
       "      <td>1</td>\n",
       "      <td>5</td>\n",
       "      <td>2</td>\n",
       "      <td>619</td>\n",
       "      <td>0</td>\n",
       "      <td>3.113732</td>\n",
       "      <td>0.659377</td>\n",
       "      <td>0</td>\n",
       "      <td>0</td>\n",
       "      <td>1.278584e-04</td>\n",
       "      <td>0.00034</td>\n",
       "      <td>7</td>\n",
       "    </tr>\n",
       "    <tr>\n",
       "      <th>...</th>\n",
       "      <td>...</td>\n",
       "      <td>...</td>\n",
       "      <td>...</td>\n",
       "      <td>...</td>\n",
       "      <td>...</td>\n",
       "      <td>...</td>\n",
       "      <td>...</td>\n",
       "      <td>...</td>\n",
       "      <td>...</td>\n",
       "      <td>...</td>\n",
       "      <td>...</td>\n",
       "      <td>...</td>\n",
       "      <td>...</td>\n",
       "    </tr>\n",
       "    <tr>\n",
       "      <th>2383337</th>\n",
       "      <td>1988830</td>\n",
       "      <td>100000</td>\n",
       "      <td>20</td>\n",
       "      <td>7</td>\n",
       "      <td>651</td>\n",
       "      <td>0</td>\n",
       "      <td>-2.077314</td>\n",
       "      <td>0.096079</td>\n",
       "      <td>0</td>\n",
       "      <td>0</td>\n",
       "      <td>4.487481e-05</td>\n",
       "      <td>NaN</td>\n",
       "      <td>27</td>\n",
       "    </tr>\n",
       "    <tr>\n",
       "      <th>2383338</th>\n",
       "      <td>2087523</td>\n",
       "      <td>100000</td>\n",
       "      <td>21</td>\n",
       "      <td>7</td>\n",
       "      <td>651</td>\n",
       "      <td>0</td>\n",
       "      <td>-1.606836</td>\n",
       "      <td>0.106994</td>\n",
       "      <td>0</td>\n",
       "      <td>0</td>\n",
       "      <td>4.091167e-05</td>\n",
       "      <td>NaN</td>\n",
       "      <td>28</td>\n",
       "    </tr>\n",
       "    <tr>\n",
       "      <th>2383339</th>\n",
       "      <td>2186171</td>\n",
       "      <td>100000</td>\n",
       "      <td>22</td>\n",
       "      <td>7</td>\n",
       "      <td>651</td>\n",
       "      <td>0</td>\n",
       "      <td>-0.553857</td>\n",
       "      <td>0.045785</td>\n",
       "      <td>0</td>\n",
       "      <td>0</td>\n",
       "      <td>3.677615e-05</td>\n",
       "      <td>NaN</td>\n",
       "      <td>29</td>\n",
       "    </tr>\n",
       "    <tr>\n",
       "      <th>2383340</th>\n",
       "      <td>2284777</td>\n",
       "      <td>100000</td>\n",
       "      <td>23</td>\n",
       "      <td>7</td>\n",
       "      <td>651</td>\n",
       "      <td>0</td>\n",
       "      <td>-0.380921</td>\n",
       "      <td>0.125809</td>\n",
       "      <td>0</td>\n",
       "      <td>0</td>\n",
       "      <td>3.252146e-05</td>\n",
       "      <td>NaN</td>\n",
       "      <td>30</td>\n",
       "    </tr>\n",
       "    <tr>\n",
       "      <th>2383341</th>\n",
       "      <td>2383342</td>\n",
       "      <td>100000</td>\n",
       "      <td>24</td>\n",
       "      <td>7</td>\n",
       "      <td>651</td>\n",
       "      <td>0</td>\n",
       "      <td>-0.722160</td>\n",
       "      <td>-0.039230</td>\n",
       "      <td>0</td>\n",
       "      <td>0</td>\n",
       "      <td>2.822985e-05</td>\n",
       "      <td>NaN</td>\n",
       "      <td>31</td>\n",
       "    </tr>\n",
       "  </tbody>\n",
       "</table>\n",
       "<p>2383342 rows × 13 columns</p>\n",
       "</div>"
      ],
      "text/plain": [
       "         Unnamed: 0     key   t  v   x1  x2        h1        x4  del  y  \\\n",
       "0                 1       1   1  2  619   0 -0.100923 -0.031003    0  0   \n",
       "1            100001       1   2  2  619   0  0.498312 -0.123908    0  0   \n",
       "2            200001       1   3  2  619   0 -0.733160  0.572345    0  0   \n",
       "3            300001       1   4  2  619   0 -0.343541  0.529761    0  0   \n",
       "4            399992       1   5  2  619   0  3.113732  0.659377    0  0   \n",
       "...             ...     ...  .. ..  ...  ..       ...       ...  ... ..   \n",
       "2383337     1988830  100000  20  7  651   0 -2.077314  0.096079    0  0   \n",
       "2383338     2087523  100000  21  7  651   0 -1.606836  0.106994    0  0   \n",
       "2383339     2186171  100000  22  7  651   0 -0.553857  0.045785    0  0   \n",
       "2383340     2284777  100000  23  7  651   0 -0.380921  0.125809    0  0   \n",
       "2383341     2383342  100000  24  7  651   0 -0.722160 -0.039230    0  0   \n",
       "\n",
       "                   pd       dr   c  \n",
       "0        1.381276e-09      NaN   3  \n",
       "1        9.396210e-07  0.00000   4  \n",
       "2        1.638122e-05  0.00000   5  \n",
       "3        6.487583e-05  0.00009   6  \n",
       "4        1.278584e-04  0.00034   7  \n",
       "...               ...      ...  ..  \n",
       "2383337  4.487481e-05      NaN  27  \n",
       "2383338  4.091167e-05      NaN  28  \n",
       "2383339  3.677615e-05      NaN  29  \n",
       "2383340  3.252146e-05      NaN  30  \n",
       "2383341  2.822985e-05      NaN  31  \n",
       "\n",
       "[2383342 rows x 13 columns]"
      ]
     },
     "execution_count": 3,
     "metadata": {},
     "output_type": "execute_result"
    }
   ],
   "source": [
    "data"
   ]
  },
  {
   "cell_type": "code",
   "execution_count": 5,
   "metadata": {},
   "outputs": [],
   "source": [
    "from sklearn import model_selection\n",
    "#x_train, x_test = model_selection.train_test_split(xList, test_size=0.2) \n",
    "#y_train, y_test = model_selection.train_test_split(data['x4'], test_size=0.2) \n",
    "train, test = model_selection.train_test_split(data, test_size=0.2) \n",
    "#print(train)"
   ]
  },
  {
   "cell_type": "code",
   "execution_count": 6,
   "metadata": {},
   "outputs": [
    {
     "name": "stdout",
     "output_type": "stream",
     "text": [
      "         Unnamed: 0    key   t   v   x1  x2        h1        x4  del  y  \\\n",
      "936001       339295  39295   4  12  653   0  0.380589  0.764318    0  0   \n",
      "843871      1132977  35432  12  17  738   0  1.764422  0.045785    0  0   \n",
      "71374       1100793   3000  12  28  629   0  2.010588 -0.248250    0  0   \n",
      "376663       715409  15823   8  27  632   0  6.346462 -0.156558    0  0   \n",
      "372238      2004232  15634  21   2  559   0 -6.105488  0.601214    0  0   \n",
      "...             ...    ...  ..  ..  ...  ..       ...       ...  ... ..   \n",
      "376473      1708040  15814  18  35  523   0 -3.132937 -0.102316    0  0   \n",
      "1461657     1950621  61346  20  30  548   0 -2.264886 -0.260986    0  0   \n",
      "1689539     1762498  70908  18  16  570   0 -3.952597 -0.047057    0  0   \n",
      "1261744     1744746  52963  18  23  635   0  7.375566 -0.330212    0  0   \n",
      "70314       1100748   2955  12  27  618   0  0.110343 -0.158014    0  0   \n",
      "\n",
      "               pd  dr   c  \n",
      "936001   0.000026 NaN  16  \n",
      "843871   0.000007 NaN  29  \n",
      "71374    0.000134 NaN  40  \n",
      "376663   0.000148 NaN  35  \n",
      "372238   0.000469 NaN  23  \n",
      "...           ...  ..  ..  \n",
      "376473   0.001553 NaN  53  \n",
      "1461657  0.000688 NaN  50  \n",
      "1689539  0.000447 NaN  34  \n",
      "1261744  0.000080 NaN  41  \n",
      "70314    0.000179 NaN  39  \n",
      "\n",
      "[476669 rows x 13 columns]\n"
     ]
    }
   ],
   "source": [
    "#train._get_value(1126070, 't')\n",
    "print(test)"
   ]
  },
  {
   "cell_type": "code",
   "execution_count": 7,
   "metadata": {},
   "outputs": [
    {
     "name": "stdout",
     "output_type": "stream",
     "text": [
      "1906673 476669 1906673 476669\n"
     ]
    }
   ],
   "source": [
    "\n",
    "from operator import index\n",
    "\n",
    "\n",
    "xTrain = []\n",
    "for i in train.index:\n",
    "    d = []\n",
    "    d.append(train._get_value(i, 't'))\n",
    "    #d.append(train['t'][i])\n",
    "    d.append(train._get_value(i, 'v'))\n",
    "    #d.append(train['v'][i])\n",
    "    d.append(train._get_value(i, 'c'))\n",
    "    xTrain.append(d)\n",
    "\n",
    "\n",
    "\n",
    "\n",
    "xTest = []\n",
    "for i in test.index:\n",
    "    d = []\n",
    "    d.append(test._get_value(i, 't'))\n",
    "    #d.append(test['t'][i])\n",
    "    d.append(test._get_value(i, 'v'))\n",
    "    #d.append(test['v'][i])\n",
    "    d.append(test._get_value(i, 'c'))\n",
    "    xTest.append(d)\n",
    "\n",
    "\n",
    "#yTrain = train['dr']\n",
    "#yTest = test['dr']\n",
    "yTrain = train['pd']\n",
    "yTest = test['pd']\n",
    "\n",
    "print(len(xTrain),len(xTest),len(yTrain),len(yTest))"
   ]
  },
  {
   "cell_type": "markdown",
   "metadata": {},
   "source": [
    "### linear regression with no normalization"
   ]
  },
  {
   "cell_type": "code",
   "execution_count": 8,
   "metadata": {},
   "outputs": [
    {
     "name": "stdout",
     "output_type": "stream",
     "text": [
      "[-6868.35325592 -6868.35325742  6868.35325789] 0.0005806863992903505\n",
      "0.00010213902426203791\n",
      "0.001594608261078973\n"
     ]
    }
   ],
   "source": [
    "from sklearn import linear_model\n",
    "reg=linear_model.LinearRegression(fit_intercept=True)\n",
    "reg.fit(xTrain,yTrain)\n",
    "print(reg.coef_,reg.intercept_)\n",
    "\n",
    "print(reg.score(X=xTest,y=yTest))\n",
    "err = reg.predict(xTest)-yTest\n",
    "#np.mean(err)\n",
    "print(np.sqrt(np.mean(err**2)))"
   ]
  },
  {
   "cell_type": "markdown",
   "metadata": {},
   "source": [
    "### linear regression with regularization"
   ]
  },
  {
   "cell_type": "markdown",
   "metadata": {},
   "source": [
    "###### alpha=1"
   ]
  },
  {
   "cell_type": "code",
   "execution_count": 9,
   "metadata": {},
   "outputs": [
    {
     "name": "stdout",
     "output_type": "stream",
     "text": [
      "[ 1.15534804e-06 -3.39802583e-07  8.15544770e-07] 0.0005807117763182069\n",
      "0.00010212148247501496\n",
      "0.0015946082750665407\n"
     ]
    }
   ],
   "source": [
    "from sklearn.linear_model import Ridge\n",
    "clf1 = Ridge(alpha=1)\n",
    "clf1.fit(xTrain,yTrain)\n",
    "print(clf1.coef_,clf1.intercept_)\n",
    "\n",
    "print(clf1.score(X=xTest,y=yTest))\n",
    "err1 = clf1.predict(xTest)-yTest\n",
    "#np.mean(err)\n",
    "print(np.sqrt(np.mean(err1**2)))"
   ]
  },
  {
   "cell_type": "markdown",
   "metadata": {},
   "source": [
    "###### alpha=10000"
   ]
  },
  {
   "cell_type": "code",
   "execution_count": 10,
   "metadata": {},
   "outputs": [
    {
     "name": "stdout",
     "output_type": "stream",
     "text": [
      "[ 1.15533881e-06 -3.39797442e-07  8.15541371e-07] 0.0005807119023953452\n",
      "0.00010212142250587419\n",
      "0.0015946082751143594\n"
     ]
    }
   ],
   "source": [
    "from sklearn.linear_model import Ridge\n",
    "clf2 = Ridge(alpha=999)\n",
    "clf2.fit(xTrain,yTrain)\n",
    "print(clf2.coef_,clf2.intercept_)\n",
    "\n",
    "print(clf2.score(X=xTest,y=yTest))\n",
    "err2 = clf2.predict(xTest)-yTest\n",
    "#np.mean(err)\n",
    "print(np.sqrt(np.mean(err2**2)))"
   ]
  },
  {
   "cell_type": "markdown",
   "metadata": {},
   "source": [
    "### one hot encoding"
   ]
  },
  {
   "cell_type": "code",
   "execution_count": 11,
   "metadata": {},
   "outputs": [],
   "source": [
    "from sklearn.preprocessing import LabelEncoder\n",
    "from sklearn.preprocessing import OneHotEncoder"
   ]
  },
  {
   "cell_type": "markdown",
   "metadata": {},
   "source": [
    "#### integer encoding"
   ]
  },
  {
   "cell_type": "code",
   "execution_count": 19,
   "metadata": {},
   "outputs": [
    {
     "name": "stdout",
     "output_type": "stream",
     "text": [
      "0           0\n",
      "1           1\n",
      "2           2\n",
      "3           3\n",
      "4           4\n",
      "           ..\n",
      "2383337    19\n",
      "2383338    20\n",
      "2383339    21\n",
      "2383340    22\n",
      "2383341    23\n",
      "Name: t_encode, Length: 2383342, dtype: int64\n",
      "0          1\n",
      "1          1\n",
      "2          1\n",
      "3          1\n",
      "4          1\n",
      "          ..\n",
      "2383337    6\n",
      "2383338    6\n",
      "2383339    6\n",
      "2383340    6\n",
      "2383341    6\n",
      "Name: v_encode, Length: 2383342, dtype: int64\n",
      "0           1\n",
      "1           2\n",
      "2           3\n",
      "3           4\n",
      "4           5\n",
      "           ..\n",
      "2383337    25\n",
      "2383338    26\n",
      "2383339    27\n",
      "2383340    28\n",
      "2383341    29\n",
      "Name: c_encode, Length: 2383342, dtype: int64\n"
     ]
    }
   ],
   "source": [
    "label_encoder = LabelEncoder()\n",
    "data['t_encode'] = label_encoder.fit_transform(data['t'])\n",
    "print(data['t_encode'])\n",
    "data['v_encode']  = label_encoder.fit_transform(data['v'])\n",
    "print(data['v_encode'])\n",
    "data['c_encode']  = label_encoder.fit_transform(data['c'])\n",
    "print(data['c_encode'])"
   ]
  },
  {
   "cell_type": "code",
   "execution_count": 20,
   "metadata": {},
   "outputs": [
    {
     "data": {
      "text/html": [
       "<div>\n",
       "<style scoped>\n",
       "    .dataframe tbody tr th:only-of-type {\n",
       "        vertical-align: middle;\n",
       "    }\n",
       "\n",
       "    .dataframe tbody tr th {\n",
       "        vertical-align: top;\n",
       "    }\n",
       "\n",
       "    .dataframe thead th {\n",
       "        text-align: right;\n",
       "    }\n",
       "</style>\n",
       "<table border=\"1\" class=\"dataframe\">\n",
       "  <thead>\n",
       "    <tr style=\"text-align: right;\">\n",
       "      <th></th>\n",
       "      <th>Unnamed: 0</th>\n",
       "      <th>key</th>\n",
       "      <th>t</th>\n",
       "      <th>v</th>\n",
       "      <th>x1</th>\n",
       "      <th>x2</th>\n",
       "      <th>h1</th>\n",
       "      <th>x4</th>\n",
       "      <th>del</th>\n",
       "      <th>y</th>\n",
       "      <th>pd</th>\n",
       "      <th>dr</th>\n",
       "      <th>c</th>\n",
       "      <th>t_encode</th>\n",
       "      <th>v_encode</th>\n",
       "      <th>c_encode</th>\n",
       "    </tr>\n",
       "  </thead>\n",
       "  <tbody>\n",
       "    <tr>\n",
       "      <th>0</th>\n",
       "      <td>1</td>\n",
       "      <td>1</td>\n",
       "      <td>1</td>\n",
       "      <td>2</td>\n",
       "      <td>619</td>\n",
       "      <td>0</td>\n",
       "      <td>-0.100923</td>\n",
       "      <td>-0.031003</td>\n",
       "      <td>0</td>\n",
       "      <td>0</td>\n",
       "      <td>1.381276e-09</td>\n",
       "      <td>NaN</td>\n",
       "      <td>3</td>\n",
       "      <td>0</td>\n",
       "      <td>1</td>\n",
       "      <td>1</td>\n",
       "    </tr>\n",
       "    <tr>\n",
       "      <th>1</th>\n",
       "      <td>100001</td>\n",
       "      <td>1</td>\n",
       "      <td>2</td>\n",
       "      <td>2</td>\n",
       "      <td>619</td>\n",
       "      <td>0</td>\n",
       "      <td>0.498312</td>\n",
       "      <td>-0.123908</td>\n",
       "      <td>0</td>\n",
       "      <td>0</td>\n",
       "      <td>9.396210e-07</td>\n",
       "      <td>0.00000</td>\n",
       "      <td>4</td>\n",
       "      <td>1</td>\n",
       "      <td>1</td>\n",
       "      <td>2</td>\n",
       "    </tr>\n",
       "    <tr>\n",
       "      <th>2</th>\n",
       "      <td>200001</td>\n",
       "      <td>1</td>\n",
       "      <td>3</td>\n",
       "      <td>2</td>\n",
       "      <td>619</td>\n",
       "      <td>0</td>\n",
       "      <td>-0.733160</td>\n",
       "      <td>0.572345</td>\n",
       "      <td>0</td>\n",
       "      <td>0</td>\n",
       "      <td>1.638122e-05</td>\n",
       "      <td>0.00000</td>\n",
       "      <td>5</td>\n",
       "      <td>2</td>\n",
       "      <td>1</td>\n",
       "      <td>3</td>\n",
       "    </tr>\n",
       "    <tr>\n",
       "      <th>3</th>\n",
       "      <td>300001</td>\n",
       "      <td>1</td>\n",
       "      <td>4</td>\n",
       "      <td>2</td>\n",
       "      <td>619</td>\n",
       "      <td>0</td>\n",
       "      <td>-0.343541</td>\n",
       "      <td>0.529761</td>\n",
       "      <td>0</td>\n",
       "      <td>0</td>\n",
       "      <td>6.487583e-05</td>\n",
       "      <td>0.00009</td>\n",
       "      <td>6</td>\n",
       "      <td>3</td>\n",
       "      <td>1</td>\n",
       "      <td>4</td>\n",
       "    </tr>\n",
       "    <tr>\n",
       "      <th>4</th>\n",
       "      <td>399992</td>\n",
       "      <td>1</td>\n",
       "      <td>5</td>\n",
       "      <td>2</td>\n",
       "      <td>619</td>\n",
       "      <td>0</td>\n",
       "      <td>3.113732</td>\n",
       "      <td>0.659377</td>\n",
       "      <td>0</td>\n",
       "      <td>0</td>\n",
       "      <td>1.278584e-04</td>\n",
       "      <td>0.00034</td>\n",
       "      <td>7</td>\n",
       "      <td>4</td>\n",
       "      <td>1</td>\n",
       "      <td>5</td>\n",
       "    </tr>\n",
       "    <tr>\n",
       "      <th>...</th>\n",
       "      <td>...</td>\n",
       "      <td>...</td>\n",
       "      <td>...</td>\n",
       "      <td>...</td>\n",
       "      <td>...</td>\n",
       "      <td>...</td>\n",
       "      <td>...</td>\n",
       "      <td>...</td>\n",
       "      <td>...</td>\n",
       "      <td>...</td>\n",
       "      <td>...</td>\n",
       "      <td>...</td>\n",
       "      <td>...</td>\n",
       "      <td>...</td>\n",
       "      <td>...</td>\n",
       "      <td>...</td>\n",
       "    </tr>\n",
       "    <tr>\n",
       "      <th>2383337</th>\n",
       "      <td>1988830</td>\n",
       "      <td>100000</td>\n",
       "      <td>20</td>\n",
       "      <td>7</td>\n",
       "      <td>651</td>\n",
       "      <td>0</td>\n",
       "      <td>-2.077314</td>\n",
       "      <td>0.096079</td>\n",
       "      <td>0</td>\n",
       "      <td>0</td>\n",
       "      <td>4.487481e-05</td>\n",
       "      <td>NaN</td>\n",
       "      <td>27</td>\n",
       "      <td>19</td>\n",
       "      <td>6</td>\n",
       "      <td>25</td>\n",
       "    </tr>\n",
       "    <tr>\n",
       "      <th>2383338</th>\n",
       "      <td>2087523</td>\n",
       "      <td>100000</td>\n",
       "      <td>21</td>\n",
       "      <td>7</td>\n",
       "      <td>651</td>\n",
       "      <td>0</td>\n",
       "      <td>-1.606836</td>\n",
       "      <td>0.106994</td>\n",
       "      <td>0</td>\n",
       "      <td>0</td>\n",
       "      <td>4.091167e-05</td>\n",
       "      <td>NaN</td>\n",
       "      <td>28</td>\n",
       "      <td>20</td>\n",
       "      <td>6</td>\n",
       "      <td>26</td>\n",
       "    </tr>\n",
       "    <tr>\n",
       "      <th>2383339</th>\n",
       "      <td>2186171</td>\n",
       "      <td>100000</td>\n",
       "      <td>22</td>\n",
       "      <td>7</td>\n",
       "      <td>651</td>\n",
       "      <td>0</td>\n",
       "      <td>-0.553857</td>\n",
       "      <td>0.045785</td>\n",
       "      <td>0</td>\n",
       "      <td>0</td>\n",
       "      <td>3.677615e-05</td>\n",
       "      <td>NaN</td>\n",
       "      <td>29</td>\n",
       "      <td>21</td>\n",
       "      <td>6</td>\n",
       "      <td>27</td>\n",
       "    </tr>\n",
       "    <tr>\n",
       "      <th>2383340</th>\n",
       "      <td>2284777</td>\n",
       "      <td>100000</td>\n",
       "      <td>23</td>\n",
       "      <td>7</td>\n",
       "      <td>651</td>\n",
       "      <td>0</td>\n",
       "      <td>-0.380921</td>\n",
       "      <td>0.125809</td>\n",
       "      <td>0</td>\n",
       "      <td>0</td>\n",
       "      <td>3.252146e-05</td>\n",
       "      <td>NaN</td>\n",
       "      <td>30</td>\n",
       "      <td>22</td>\n",
       "      <td>6</td>\n",
       "      <td>28</td>\n",
       "    </tr>\n",
       "    <tr>\n",
       "      <th>2383341</th>\n",
       "      <td>2383342</td>\n",
       "      <td>100000</td>\n",
       "      <td>24</td>\n",
       "      <td>7</td>\n",
       "      <td>651</td>\n",
       "      <td>0</td>\n",
       "      <td>-0.722160</td>\n",
       "      <td>-0.039230</td>\n",
       "      <td>0</td>\n",
       "      <td>0</td>\n",
       "      <td>2.822985e-05</td>\n",
       "      <td>NaN</td>\n",
       "      <td>31</td>\n",
       "      <td>23</td>\n",
       "      <td>6</td>\n",
       "      <td>29</td>\n",
       "    </tr>\n",
       "  </tbody>\n",
       "</table>\n",
       "<p>2383342 rows × 16 columns</p>\n",
       "</div>"
      ],
      "text/plain": [
       "         Unnamed: 0     key   t  v   x1  x2        h1        x4  del  y  \\\n",
       "0                 1       1   1  2  619   0 -0.100923 -0.031003    0  0   \n",
       "1            100001       1   2  2  619   0  0.498312 -0.123908    0  0   \n",
       "2            200001       1   3  2  619   0 -0.733160  0.572345    0  0   \n",
       "3            300001       1   4  2  619   0 -0.343541  0.529761    0  0   \n",
       "4            399992       1   5  2  619   0  3.113732  0.659377    0  0   \n",
       "...             ...     ...  .. ..  ...  ..       ...       ...  ... ..   \n",
       "2383337     1988830  100000  20  7  651   0 -2.077314  0.096079    0  0   \n",
       "2383338     2087523  100000  21  7  651   0 -1.606836  0.106994    0  0   \n",
       "2383339     2186171  100000  22  7  651   0 -0.553857  0.045785    0  0   \n",
       "2383340     2284777  100000  23  7  651   0 -0.380921  0.125809    0  0   \n",
       "2383341     2383342  100000  24  7  651   0 -0.722160 -0.039230    0  0   \n",
       "\n",
       "                   pd       dr   c  t_encode  v_encode  c_encode  \n",
       "0        1.381276e-09      NaN   3         0         1         1  \n",
       "1        9.396210e-07  0.00000   4         1         1         2  \n",
       "2        1.638122e-05  0.00000   5         2         1         3  \n",
       "3        6.487583e-05  0.00009   6         3         1         4  \n",
       "4        1.278584e-04  0.00034   7         4         1         5  \n",
       "...               ...      ...  ..       ...       ...       ...  \n",
       "2383337  4.487481e-05      NaN  27        19         6        25  \n",
       "2383338  4.091167e-05      NaN  28        20         6        26  \n",
       "2383339  3.677615e-05      NaN  29        21         6        27  \n",
       "2383340  3.252146e-05      NaN  30        22         6        28  \n",
       "2383341  2.822985e-05      NaN  31        23         6        29  \n",
       "\n",
       "[2383342 rows x 16 columns]"
      ]
     },
     "execution_count": 20,
     "metadata": {},
     "output_type": "execute_result"
    }
   ],
   "source": [
    "train_encode, test_encode = model_selection.train_test_split(data, test_size=0.2) \n",
    "data"
   ]
  },
  {
   "cell_type": "code",
   "execution_count": 22,
   "metadata": {},
   "outputs": [
    {
     "name": "stdout",
     "output_type": "stream",
     "text": [
      "1906673 476669 1906673 476669\n"
     ]
    }
   ],
   "source": [
    "from operator import index\n",
    "\n",
    "\n",
    "xTrain_encode = []\n",
    "for i in train_encode.index:\n",
    "    d = []\n",
    "    d.append(train_encode._get_value(i, 't'))\n",
    "    #d.append(train['t'][i])\n",
    "    d.append(train_encode._get_value(i, 'v'))\n",
    "    #d.append(train['v'][i])\n",
    "    d.append(train_encode._get_value(i, 'c'))\n",
    "    xTrain_encode.append(d)\n",
    "\n",
    "\n",
    "\n",
    "\n",
    "xTest_encode = []\n",
    "for i in test_encode.index:\n",
    "    d = []\n",
    "    d.append(test_encode._get_value(i, 't'))\n",
    "    #d.append(test['t'][i])\n",
    "    d.append(test_encode._get_value(i, 'v'))\n",
    "    #d.append(test['v'][i])\n",
    "    d.append(test_encode._get_value(i, 'c'))\n",
    "    xTest_encode.append(d)\n",
    "\n",
    "\n",
    "#yTrain = train['dr']\n",
    "#yTest = test['dr']\n",
    "#same as before\n",
    "#yTrain = train['pd']\n",
    "#yTest = test['pd']\n",
    "\n",
    "#print(xTrain_encode[:10],xTest_encode[:10],yTrain[:10],yTest[:10])\n",
    "print(len(xTrain_encode),len(xTest_encode),len(yTrain),len(yTest))"
   ]
  },
  {
   "cell_type": "code",
   "execution_count": 29,
   "metadata": {},
   "outputs": [
    {
     "name": "stdout",
     "output_type": "stream",
     "text": [
      "[[10, 35, 45], [5, 35, 40], [19, 34, 53], [5, 15, 20], [24, 7, 31], [12, 5, 17], [10, 8, 18], [21, 29, 50], [1, 8, 9], [15, 3, 18]]\n"
     ]
    }
   ],
   "source": [
    "print(xTest_encode[:10])"
   ]
  },
  {
   "cell_type": "code",
   "execution_count": 31,
   "metadata": {},
   "outputs": [
    {
     "name": "stdout",
     "output_type": "stream",
     "text": [
      "[-16741.2289391  -16741.22893883  16741.22893886] 0.0006161253478340928\n",
      "-6.152090075151051e-07\n",
      "0.0015946901937174316\n"
     ]
    }
   ],
   "source": [
    "from sklearn import linear_model\n",
    "reg=linear_model.LinearRegression(fit_intercept=True)\n",
    "reg.fit(xTrain_encode,yTrain)\n",
    "print(reg.coef_,reg.intercept_)\n",
    "\n",
    "print(reg.score(X=xTest_encode,y=yTest))\n",
    "err = reg.predict(xTest_encode)-yTest\n",
    "#np.mean(err)\n",
    "print(np.sqrt(np.mean(err**2)))"
   ]
  },
  {
   "cell_type": "code",
   "execution_count": 33,
   "metadata": {},
   "outputs": [
    {
     "name": "stdout",
     "output_type": "stream",
     "text": [
      "[-1.55348425e-07  9.49454494e-08 -6.04026106e-08] 0.0006158877615807608\n",
      "-6.982745530681456e-07\n",
      "0.0015946902599492951\n"
     ]
    }
   ],
   "source": [
    "from sklearn.linear_model import Ridge\n",
    "clf1 = Ridge(alpha=1)\n",
    "clf1.fit(xTrain_encode,yTrain)\n",
    "print(clf1.coef_,clf1.intercept_)\n",
    "\n",
    "print(clf1.score(X=xTest_encode,y=yTest))\n",
    "err1 = clf1.predict(xTest_encode)-yTest\n",
    "#np.mean(err)\n",
    "print(np.sqrt(np.mean(err1**2)))"
   ]
  },
  {
   "cell_type": "code",
   "execution_count": 37,
   "metadata": {},
   "outputs": [
    {
     "name": "stdout",
     "output_type": "stream",
     "text": [
      "[-1.97039674e-21  6.73275876e-22 -1.29712086e-21] 0.0006158877615807608\n",
      "-1.947600172025332e-06\n",
      "0.0015946902599492951\n"
     ]
    }
   ],
   "source": [
    "from sklearn.linear_model import Ridge\n",
    "clf2 = Ridge(alpha=10000000000000000000000)\n",
    "clf2.fit(xTrain_encode,yTrain)\n",
    "print(clf2.coef_,clf1.intercept_)\n",
    "\n",
    "print(clf2.score(X=xTest_encode,y=yTest))\n",
    "err2 = clf2.predict(xTest_encode)-yTest\n",
    "#np.mean(err)\n",
    "print(np.sqrt(np.mean(err1**2)))"
   ]
  },
  {
   "cell_type": "markdown",
   "metadata": {},
   "source": [
    "## Normalization(error increased)"
   ]
  },
  {
   "cell_type": "code",
   "execution_count": 9,
   "metadata": {},
   "outputs": [
    {
     "name": "stdout",
     "output_type": "stream",
     "text": [
      "1906673 476669 1906673 476669\n"
     ]
    }
   ],
   "source": [
    "from sklearn.preprocessing import normalize\n",
    "#xTrain_norm = []\n",
    "#train['norm_t'] = normalize(train['t'])\n",
    "#train['norm_t'] = normalize(np.array(train['t']).reshape(-1, 1))\n",
    "#train['norm_v'] = normalize(np.array(train['v']).reshape(-1, 1))\n",
    "\n",
    "#for i in train.index:\n",
    "#    d = []\n",
    "#    t = train._get_value(i, 'norm_t')\n",
    "#    d.append(train._get_value(i, 'norm_t'))\n",
    "#    d.append(train._get_value(i,'norm_v'))\n",
    "#    xTrain_norm.append(d)\n",
    "\n",
    "\n",
    "xTrain_norm = normalize(xTrain)\n",
    "\n",
    "#xTest_norm = []\n",
    "#test['norm_t'] = normalize(np.array(test['t']).reshape(-1, 1))\n",
    "#test['norm_v'] = normalize(np.array(test['v']).reshape(-1, 1))\n",
    "#for i in test.index:\n",
    "#    d = []\n",
    "#    d.append(test._get_value(i, 'norm_t'))\n",
    "#    d.append(test._get_value(i, 'norm_v'))\n",
    "#    xTest_norm.append(d)\n",
    "\n",
    "xTest_norm = normalize(xTest)\n",
    "\n",
    "\n",
    "#yTrain = train['x4']\n",
    "#yTest = test['x4']\n",
    "\n",
    "print(len(xTrain_norm),len(xTest_norm),len(yTrain),len(yTest))"
   ]
  },
  {
   "cell_type": "code",
   "execution_count": 11,
   "metadata": {},
   "outputs": [
    {
     "name": "stdout",
     "output_type": "stream",
     "text": [
      "[-0.90711205 -1.41989472] 1.0654107265614592\n"
     ]
    }
   ],
   "source": [
    "from sklearn import linear_model\n",
    "reg1=linear_model.LinearRegression(fit_intercept=True)\n",
    "reg1.fit(xTrain_norm,yTrain)\n",
    "print(reg1.coef_,reg.intercept_)"
   ]
  },
  {
   "cell_type": "code",
   "execution_count": 19,
   "metadata": {},
   "outputs": [
    {
     "data": {
      "text/plain": [
       "0.1389120973227025"
      ]
     },
     "execution_count": 19,
     "metadata": {},
     "output_type": "execute_result"
    }
   ],
   "source": [
    "reg1.score(X=xTest_norm,y=yTest)"
   ]
  },
  {
   "cell_type": "code",
   "execution_count": 21,
   "metadata": {},
   "outputs": [
    {
     "name": "stdout",
     "output_type": "stream",
     "text": [
      "0.41438709536191176\n"
     ]
    }
   ],
   "source": [
    "err = reg1.predict(xTest_norm)-yTest\n",
    "#np.mean(err)\n",
    "print(np.sqrt(np.mean(err**2)))"
   ]
  },
  {
   "cell_type": "markdown",
   "metadata": {},
   "source": [
    "# OLS"
   ]
  },
  {
   "cell_type": "code",
   "execution_count": 14,
   "metadata": {},
   "outputs": [],
   "source": [
    "import numpy as np\n",
    "import matplotlib.pyplot as plt\n",
    "import statsmodels.api as sm\n",
    "import pandas as pd"
   ]
  },
  {
   "cell_type": "code",
   "execution_count": 15,
   "metadata": {},
   "outputs": [],
   "source": [
    "data = pd.read_csv('simDTS.csv')\n",
    "#data = pd.read_csv('src/visualization/simDTS.csv')"
   ]
  },
  {
   "cell_type": "code",
   "execution_count": 16,
   "metadata": {},
   "outputs": [
    {
     "name": "stdout",
     "output_type": "stream",
     "text": [
      "                                 OLS Regression Results                                \n",
      "=======================================================================================\n",
      "Dep. Variable:                     x4   R-squared (uncentered):                   0.002\n",
      "Model:                            OLS   Adj. R-squared (uncentered):              0.002\n",
      "Method:                 Least Squares   F-statistic:                              3109.\n",
      "Date:                Wed, 02 Nov 2022   Prob (F-statistic):                        0.00\n",
      "Time:                        11:49:16   Log-Likelihood:                     -1.3341e+06\n",
      "No. Observations:             1906673   AIC:                                  2.668e+06\n",
      "Df Residuals:                 1906672   BIC:                                  2.668e+06\n",
      "Df Model:                           1                                                  \n",
      "Covariance Type:            nonrobust                                                  \n",
      "==============================================================================\n",
      "                 coef    std err          t      P>|t|      [0.025      0.975]\n",
      "------------------------------------------------------------------------------\n",
      "v              0.0010   1.71e-05     55.761      0.000       0.001       0.001\n",
      "==============================================================================\n",
      "Omnibus:                   215550.805   Durbin-Watson:                   1.732\n",
      "Prob(Omnibus):                  0.000   Jarque-Bera (JB):           106036.077\n",
      "Skew:                           0.415   Prob(JB):                         0.00\n",
      "Kurtosis:                       2.196   Cond. No.                         1.00\n",
      "==============================================================================\n",
      "\n",
      "Notes:\n",
      "[1] R² is computed without centering (uncentered) since the model does not contain a constant.\n",
      "[2] Standard Errors assume that the covariance matrix of the errors is correctly specified.\n"
     ]
    }
   ],
   "source": [
    "from sklearn import model_selection\n",
    "train, test = model_selection.train_test_split(data, test_size=0.2) \n",
    "nSample = len(train.index)\n",
    "x=sm.add_constant(train['v'])\n",
    "est=sm.OLS(train['x4'],train['v'])\n",
    "model=est.fit()\n",
    "print(model.summary())"
   ]
  },
  {
   "cell_type": "code",
   "execution_count": 17,
   "metadata": {},
   "outputs": [
    {
     "data": {
      "text/plain": [
       "0.0016281051708977312"
      ]
     },
     "execution_count": 17,
     "metadata": {},
     "output_type": "execute_result"
    }
   ],
   "source": [
    "#model.rsquared"
   ]
  },
  {
   "cell_type": "code",
   "execution_count": 18,
   "metadata": {},
   "outputs": [
    {
     "name": "stdout",
     "output_type": "stream",
     "text": [
      "0.48669984966556623\n"
     ]
    }
   ],
   "source": [
    "err = model.predict(test['v'])-test['x4']\n",
    "#print(err)\n",
    "#np.mean(err)\n",
    "print(np.sqrt(np.mean(err**2)))"
   ]
  }
 ],
 "metadata": {
  "kernelspec": {
   "display_name": "Python 3.9.0 64-bit",
   "language": "python",
   "name": "python3"
  },
  "language_info": {
   "codemirror_mode": {
    "name": "ipython",
    "version": 3
   },
   "file_extension": ".py",
   "mimetype": "text/x-python",
   "name": "python",
   "nbconvert_exporter": "python",
   "pygments_lexer": "ipython3",
   "version": "3.9.0"
  },
  "orig_nbformat": 4,
  "vscode": {
   "interpreter": {
    "hash": "37bd2b49079dd6597c047b82f88c9003f1e96a9c721d466cfd52af1e37080d6c"
   }
  }
 },
 "nbformat": 4,
 "nbformat_minor": 2
}
